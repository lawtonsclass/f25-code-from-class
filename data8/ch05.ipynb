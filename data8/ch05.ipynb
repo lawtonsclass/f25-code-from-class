{
 "cells": [
  {
   "cell_type": "code",
   "execution_count": 1,
   "id": "7569cfa4-f109-4e50-8602-392983a44a59",
   "metadata": {},
   "outputs": [],
   "source": [
    "from datascience import *"
   ]
  },
  {
   "cell_type": "code",
   "execution_count": 2,
   "id": "b4d39cb4-c2be-48f7-a362-1b43c2487f88",
   "metadata": {},
   "outputs": [
    {
     "data": {
      "text/plain": [
       "array([42, 43, 44])"
      ]
     },
     "execution_count": 2,
     "metadata": {},
     "output_type": "execute_result"
    }
   ],
   "source": [
    "make_array(42, 43, 44)"
   ]
  },
  {
   "cell_type": "code",
   "execution_count": 4,
   "id": "f400b343-ed1f-40ee-b254-3eb1630aea57",
   "metadata": {},
   "outputs": [
    {
     "data": {
      "text/plain": [
       "numpy.ndarray"
      ]
     },
     "execution_count": 4,
     "metadata": {},
     "output_type": "execute_result"
    }
   ],
   "source": [
    "type(make_array(1, 2, 3))"
   ]
  },
  {
   "cell_type": "code",
   "execution_count": 3,
   "id": "da5dd638-3aba-479c-a32c-7a1817366a82",
   "metadata": {},
   "outputs": [],
   "source": [
    "pokemon_i_like = make_array('Pikachu', 'Charizard', \"Squirtle\")"
   ]
  },
  {
   "cell_type": "code",
   "execution_count": 5,
   "id": "cb643bd9-bfd9-4ed0-8074-e4dad739f7fe",
   "metadata": {},
   "outputs": [
    {
     "data": {
      "text/plain": [
       "array(['Pikachu', 'Charizard', 'Squirtle'],\n",
       "      dtype='<U9')"
      ]
     },
     "execution_count": 5,
     "metadata": {},
     "output_type": "execute_result"
    }
   ],
   "source": [
    "pokemon_i_like"
   ]
  },
  {
   "cell_type": "code",
   "execution_count": 6,
   "id": "264eafb4-1ef7-4ddb-977a-278eeb4e0eb8",
   "metadata": {},
   "outputs": [
    {
     "data": {
      "text/plain": [
       "3"
      ]
     },
     "execution_count": 6,
     "metadata": {},
     "output_type": "execute_result"
    }
   ],
   "source": [
    "len(pokemon_i_like)"
   ]
  },
  {
   "cell_type": "code",
   "execution_count": 7,
   "id": "9644bac2-7775-4435-80d8-5ff57af14a82",
   "metadata": {},
   "outputs": [
    {
     "data": {
      "text/plain": [
       "'Pikachu'"
      ]
     },
     "execution_count": 7,
     "metadata": {},
     "output_type": "execute_result"
    }
   ],
   "source": [
    "pokemon_i_like.item(0)"
   ]
  },
  {
   "cell_type": "code",
   "execution_count": 8,
   "id": "4e45f538-c849-488d-8f16-123eb9cd9768",
   "metadata": {},
   "outputs": [
    {
     "data": {
      "text/plain": [
       "'Charizard'"
      ]
     },
     "execution_count": 8,
     "metadata": {},
     "output_type": "execute_result"
    }
   ],
   "source": [
    "pokemon_i_like.item(1)"
   ]
  },
  {
   "cell_type": "code",
   "execution_count": 9,
   "id": "4c58fc89-6627-4dbb-95c1-a9e32f8794a8",
   "metadata": {},
   "outputs": [],
   "source": [
    "temps_f = make_array(100, 78, 32, -40)"
   ]
  },
  {
   "cell_type": "code",
   "execution_count": 10,
   "id": "4ff837dc-dbd0-48a7-98c0-2aff39eda75a",
   "metadata": {},
   "outputs": [
    {
     "data": {
      "text/plain": [
       "array([200, 156,  64, -80])"
      ]
     },
     "execution_count": 10,
     "metadata": {},
     "output_type": "execute_result"
    }
   ],
   "source": [
    "temps_f * 2"
   ]
  },
  {
   "cell_type": "code",
   "execution_count": 11,
   "id": "e475185c-77b3-42ec-865a-6b78ea528089",
   "metadata": {},
   "outputs": [
    {
     "data": {
      "text/plain": [
       "4"
      ]
     },
     "execution_count": 11,
     "metadata": {},
     "output_type": "execute_result"
    }
   ],
   "source": [
    "len(temps_f)"
   ]
  },
  {
   "cell_type": "code",
   "execution_count": 12,
   "id": "97e19932-8a34-4935-a313-c0c9e9eaae5e",
   "metadata": {},
   "outputs": [
    {
     "data": {
      "text/plain": [
       "4"
      ]
     },
     "execution_count": 12,
     "metadata": {},
     "output_type": "execute_result"
    }
   ],
   "source": [
    "temps_f.size"
   ]
  },
  {
   "cell_type": "code",
   "execution_count": 13,
   "id": "b85d4dd4-eb64-4ad9-8b0b-7740c0d23f4b",
   "metadata": {},
   "outputs": [
    {
     "data": {
      "text/plain": [
       "170"
      ]
     },
     "execution_count": 13,
     "metadata": {},
     "output_type": "execute_result"
    }
   ],
   "source": [
    "temps_f.sum()"
   ]
  },
  {
   "cell_type": "code",
   "execution_count": 14,
   "id": "6a2ffeae-b6e9-4b0b-838f-71e201d8b6a0",
   "metadata": {},
   "outputs": [
    {
     "data": {
      "text/plain": [
       "42.5"
      ]
     },
     "execution_count": 14,
     "metadata": {},
     "output_type": "execute_result"
    }
   ],
   "source": [
    "temps_f.mean()"
   ]
  },
  {
   "cell_type": "code",
   "execution_count": 15,
   "id": "51ba54c8-5979-48b6-a281-81d4f82c1dbb",
   "metadata": {},
   "outputs": [],
   "source": [
    "import numpy as np"
   ]
  },
  {
   "cell_type": "code",
   "execution_count": 16,
   "id": "e9dedde3-4904-4628-b681-578e4339c4fc",
   "metadata": {},
   "outputs": [
    {
     "data": {
      "text/plain": [
       "array([-22, -46, -72])"
      ]
     },
     "execution_count": 16,
     "metadata": {},
     "output_type": "execute_result"
    }
   ],
   "source": [
    "np.diff(temps_f)"
   ]
  },
  {
   "cell_type": "code",
   "execution_count": 19,
   "id": "87221502-e6ec-4f1f-bfd4-fab31e90ba73",
   "metadata": {},
   "outputs": [
    {
     "data": {
      "text/plain": [
       "array([ 37.77777778,  25.55555556,   0.        , -40.        ])"
      ]
     },
     "execution_count": 19,
     "metadata": {},
     "output_type": "execute_result"
    }
   ],
   "source": [
    "temps_c = (temps_f - 32) * (5/9)\n",
    "temps_c"
   ]
  },
  {
   "cell_type": "code",
   "execution_count": 20,
   "id": "e994149c-916a-4dca-a33e-8cda2e256d27",
   "metadata": {},
   "outputs": [
    {
     "data": {
      "text/plain": [
       "array([ 37.78,  25.56,   0.  , -40.  ])"
      ]
     },
     "execution_count": 20,
     "metadata": {},
     "output_type": "execute_result"
    }
   ],
   "source": [
    "np.round(temps_c, 2)"
   ]
  },
  {
   "cell_type": "code",
   "execution_count": 21,
   "id": "7e99a137-4b45-473b-89fb-c604bf8db4a4",
   "metadata": {},
   "outputs": [
    {
     "data": {
      "text/plain": [
       "True"
      ]
     },
     "execution_count": 21,
     "metadata": {},
     "output_type": "execute_result"
    }
   ],
   "source": [
    "2 < 3"
   ]
  },
  {
   "cell_type": "code",
   "execution_count": 22,
   "id": "e5807050-bbfb-4818-9b63-21004aef7e2f",
   "metadata": {},
   "outputs": [
    {
     "data": {
      "text/plain": [
       "2"
      ]
     },
     "execution_count": 22,
     "metadata": {},
     "output_type": "execute_result"
    }
   ],
   "source": [
    "True + False + True"
   ]
  },
  {
   "cell_type": "code",
   "execution_count": 23,
   "id": "d9a1cffc-2588-4bd4-a89c-22b7dcdec9e7",
   "metadata": {},
   "outputs": [
    {
     "data": {
      "text/plain": [
       "array([1, 0, 0, 1])"
      ]
     },
     "execution_count": 23,
     "metadata": {},
     "output_type": "execute_result"
    }
   ],
   "source": [
    "make_array(1 < 2, 2 < 1, 8 < 7, 42 < 43)"
   ]
  },
  {
   "cell_type": "code",
   "execution_count": 24,
   "id": "a9d59f13-a268-4823-8d23-b6396524aada",
   "metadata": {},
   "outputs": [
    {
     "data": {
      "text/plain": [
       "2"
      ]
     },
     "execution_count": 24,
     "metadata": {},
     "output_type": "execute_result"
    }
   ],
   "source": [
    "np.count_nonzero(make_array(1 < 2, 2 < 1, 8 < 7, 42 < 43))"
   ]
  },
  {
   "cell_type": "code",
   "execution_count": 25,
   "id": "a428933f-d50b-406a-98b2-80b1f2898958",
   "metadata": {},
   "outputs": [
    {
     "data": {
      "text/plain": [
       "array(['Pikachu', 'Charizard', 'Squirtle'],\n",
       "      dtype='<U9')"
      ]
     },
     "execution_count": 25,
     "metadata": {},
     "output_type": "execute_result"
    }
   ],
   "source": [
    "pokemon_i_like"
   ]
  },
  {
   "cell_type": "code",
   "execution_count": 26,
   "id": "cf0349d3-4873-4023-aaa9-23b61a8c2792",
   "metadata": {},
   "outputs": [
    {
     "data": {
      "text/plain": [
       "array(['PIKACHU', 'CHARIZARD', 'SQUIRTLE'],\n",
       "      dtype='<U9')"
      ]
     },
     "execution_count": 26,
     "metadata": {},
     "output_type": "execute_result"
    }
   ],
   "source": [
    "np.char.upper(pokemon_i_like)"
   ]
  },
  {
   "cell_type": "code",
   "execution_count": 27,
   "id": "890fff02-3383-42c3-a61a-27e31763e4fb",
   "metadata": {},
   "outputs": [
    {
     "data": {
      "text/plain": [
       "array([0, 1, 2, 3, 4])"
      ]
     },
     "execution_count": 27,
     "metadata": {},
     "output_type": "execute_result"
    }
   ],
   "source": [
    "np.arange(5)"
   ]
  },
  {
   "cell_type": "code",
   "execution_count": 28,
   "id": "f87dd16d-f36b-4e55-a602-3e722cd733fd",
   "metadata": {},
   "outputs": [
    {
     "data": {
      "text/plain": [
       "array([10, 11, 12, 13, 14, 15, 16, 17, 18, 19])"
      ]
     },
     "execution_count": 28,
     "metadata": {},
     "output_type": "execute_result"
    }
   ],
   "source": [
    "np.arange(10, 20)"
   ]
  },
  {
   "cell_type": "code",
   "execution_count": 29,
   "id": "48a2eb9c-3e7d-4d83-8605-1e69b273524e",
   "metadata": {},
   "outputs": [
    {
     "data": {
      "text/plain": [
       "array([  1,   2,   3,   4,   5,   6,   7,   8,   9,  10,  11,  12,  13,\n",
       "        14,  15,  16,  17,  18,  19,  20,  21,  22,  23,  24,  25,  26,\n",
       "        27,  28,  29,  30,  31,  32,  33,  34,  35,  36,  37,  38,  39,\n",
       "        40,  41,  42,  43,  44,  45,  46,  47,  48,  49,  50,  51,  52,\n",
       "        53,  54,  55,  56,  57,  58,  59,  60,  61,  62,  63,  64,  65,\n",
       "        66,  67,  68,  69,  70,  71,  72,  73,  74,  75,  76,  77,  78,\n",
       "        79,  80,  81,  82,  83,  84,  85,  86,  87,  88,  89,  90,  91,\n",
       "        92,  93,  94,  95,  96,  97,  98,  99, 100])"
      ]
     },
     "execution_count": 29,
     "metadata": {},
     "output_type": "execute_result"
    }
   ],
   "source": [
    "np.arange(1, 101) # [1, 2, ..., 100]"
   ]
  },
  {
   "cell_type": "code",
   "execution_count": 30,
   "id": "a41254dd-d147-4ba0-8be6-634b51c26e82",
   "metadata": {},
   "outputs": [
    {
     "data": {
      "text/plain": [
       "array([  5,  10,  15,  20,  25,  30,  35,  40,  45,  50,  55,  60,  65,\n",
       "        70,  75,  80,  85,  90,  95, 100])"
      ]
     },
     "execution_count": 30,
     "metadata": {},
     "output_type": "execute_result"
    }
   ],
   "source": [
    "np.arange(5, 101, 5)"
   ]
  },
  {
   "cell_type": "code",
   "execution_count": 31,
   "id": "e7f8372f-cd7a-4e51-ab4c-c5291b8ee22d",
   "metadata": {},
   "outputs": [
    {
     "data": {
      "text/plain": [
       "array([ 13. ,  12.9,  12.8,  12.7,  12.6,  12.5,  12.4,  12.3,  12.2,\n",
       "        12.1,  12. ])"
      ]
     },
     "execution_count": 31,
     "metadata": {},
     "output_type": "execute_result"
    }
   ],
   "source": [
    "np.arange(13, 11.9, -0.1)"
   ]
  },
  {
   "cell_type": "code",
   "execution_count": 39,
   "id": "0573a416-842e-419f-bd2c-1844d419567d",
   "metadata": {},
   "outputs": [
    {
     "data": {
      "text/plain": [
       "array([   1,    5,    9, ..., 9989, 9993, 9997])"
      ]
     },
     "execution_count": 39,
     "metadata": {},
     "output_type": "execute_result"
    }
   ],
   "source": [
    "pos_denoms = np.arange(1, 9998, 4)\n",
    "pos_denoms"
   ]
  },
  {
   "cell_type": "code",
   "execution_count": 40,
   "id": "36cb8e73-4d03-4242-ade3-c036ff42aa1c",
   "metadata": {},
   "outputs": [
    {
     "data": {
      "text/plain": [
       "array([   3,    7,   11, ..., 9991, 9995, 9999])"
      ]
     },
     "execution_count": 40,
     "metadata": {},
     "output_type": "execute_result"
    }
   ],
   "source": [
    "neg_denoms = np.arange(3, 10000, 4)\n",
    "neg_denoms"
   ]
  },
  {
   "cell_type": "code",
   "execution_count": 43,
   "id": "e0ccdd3e-4eb0-473f-81ee-bcf6ba08c0a1",
   "metadata": {},
   "outputs": [],
   "source": [
    "pos_terms = 1 / pos_denoms\n",
    "neg_terms = 1 / neg_denoms"
   ]
  },
  {
   "cell_type": "code",
   "execution_count": 45,
   "id": "8bb7ebc1-49f7-4200-9d23-c2105616f8a1",
   "metadata": {},
   "outputs": [
    {
     "data": {
      "text/plain": [
       "array([  1.00000000e+00,   2.00000000e-01,   1.11111111e-01, ...,\n",
       "         1.00110121e-04,   1.00070049e-04,   1.00030009e-04])"
      ]
     },
     "execution_count": 45,
     "metadata": {},
     "output_type": "execute_result"
    }
   ],
   "source": [
    "pos_terms"
   ]
  },
  {
   "cell_type": "code",
   "execution_count": 47,
   "id": "97c7ffed-6343-4e40-be85-75171c849f37",
   "metadata": {},
   "outputs": [
    {
     "data": {
      "text/plain": [
       "3.1413926535917955"
      ]
     },
     "execution_count": 47,
     "metadata": {},
     "output_type": "execute_result"
    }
   ],
   "source": [
    "4 * (sum(pos_terms) - sum(neg_terms))"
   ]
  },
  {
   "cell_type": "markdown",
   "id": "002d232f-e3b4-42a3-9fef-c4b1587d6464",
   "metadata": {},
   "source": [
    "---"
   ]
  },
  {
   "cell_type": "code",
   "execution_count": 48,
   "id": "a1b3250b-1db3-40cf-a3a8-3ded5e1022a4",
   "metadata": {},
   "outputs": [
    {
     "data": {
      "text/html": [
       "<table border=\"1\" class=\"dataframe\">\n",
       "    <thead>\n",
       "        <tr>\n",
       "            <th>abilities</th> <th>against_bug</th> <th>against_dark</th> <th>against_dragon</th> <th>against_electric</th> <th>against_fairy</th> <th>against_fight</th> <th>against_fire</th> <th>against_flying</th> <th>against_ghost</th> <th>against_grass</th> <th>against_ground</th> <th>against_ice</th> <th>against_normal</th> <th>against_poison</th> <th>against_psychic</th> <th>against_rock</th> <th>against_steel</th> <th>against_water</th> <th>attack</th> <th>base_egg_steps</th> <th>base_happiness</th> <th>base_total</th> <th>capture_rate</th> <th>classfication</th> <th>defense</th> <th>experience_growth</th> <th>height_m</th> <th>hp</th> <th>japanese_name</th> <th>name</th> <th>percentage_male</th> <th>pokedex_number</th> <th>sp_attack</th> <th>sp_defense</th> <th>speed</th> <th>type1</th> <th>type2</th> <th>weight_kg</th> <th>generation</th> <th>is_legendary</th>\n",
       "        </tr>\n",
       "    </thead>\n",
       "    <tbody>\n",
       "        <tr>\n",
       "            <td>['Overgrow', 'Chlorophyll']</td> <td>1          </td> <td>1           </td> <td>1             </td> <td>0.5             </td> <td>0.5          </td> <td>0.5          </td> <td>2           </td> <td>2             </td> <td>1            </td> <td>0.25         </td> <td>1             </td> <td>2          </td> <td>1             </td> <td>1             </td> <td>2              </td> <td>1           </td> <td>1            </td> <td>0.5          </td> <td>49    </td> <td>5120          </td> <td>70            </td> <td>318       </td> <td>45          </td> <td>Seed Pokémon       </td> <td>49     </td> <td>1059860          </td> <td>0.7     </td> <td>45  </td> <td>Fushigidaneフシギダネ</td> <td>Bulbasaur </td> <td>88.1           </td> <td>1             </td> <td>65       </td> <td>65        </td> <td>45   </td> <td>grass</td> <td>poison</td> <td>6.9      </td> <td>1         </td> <td>0           </td>\n",
       "        </tr>\n",
       "        <tr>\n",
       "            <td>['Overgrow', 'Chlorophyll']</td> <td>1          </td> <td>1           </td> <td>1             </td> <td>0.5             </td> <td>0.5          </td> <td>0.5          </td> <td>2           </td> <td>2             </td> <td>1            </td> <td>0.25         </td> <td>1             </td> <td>2          </td> <td>1             </td> <td>1             </td> <td>2              </td> <td>1           </td> <td>1            </td> <td>0.5          </td> <td>62    </td> <td>5120          </td> <td>70            </td> <td>405       </td> <td>45          </td> <td>Seed Pokémon       </td> <td>63     </td> <td>1059860          </td> <td>1       </td> <td>60  </td> <td>Fushigisouフシギソウ </td> <td>Ivysaur   </td> <td>88.1           </td> <td>2             </td> <td>80       </td> <td>80        </td> <td>60   </td> <td>grass</td> <td>poison</td> <td>13       </td> <td>1         </td> <td>0           </td>\n",
       "        </tr>\n",
       "        <tr>\n",
       "            <td>['Overgrow', 'Chlorophyll']</td> <td>1          </td> <td>1           </td> <td>1             </td> <td>0.5             </td> <td>0.5          </td> <td>0.5          </td> <td>2           </td> <td>2             </td> <td>1            </td> <td>0.25         </td> <td>1             </td> <td>2          </td> <td>1             </td> <td>1             </td> <td>2              </td> <td>1           </td> <td>1            </td> <td>0.5          </td> <td>100   </td> <td>5120          </td> <td>70            </td> <td>625       </td> <td>45          </td> <td>Seed Pokémon       </td> <td>123    </td> <td>1059860          </td> <td>2       </td> <td>80  </td> <td>Fushigibanaフシギバナ</td> <td>Venusaur  </td> <td>88.1           </td> <td>3             </td> <td>122      </td> <td>120       </td> <td>80   </td> <td>grass</td> <td>poison</td> <td>100      </td> <td>1         </td> <td>0           </td>\n",
       "        </tr>\n",
       "        <tr>\n",
       "            <td>['Blaze', 'Solar Power']   </td> <td>0.5        </td> <td>1           </td> <td>1             </td> <td>1               </td> <td>0.5          </td> <td>1            </td> <td>0.5         </td> <td>1             </td> <td>1            </td> <td>0.5          </td> <td>2             </td> <td>0.5        </td> <td>1             </td> <td>1             </td> <td>1              </td> <td>2           </td> <td>0.5          </td> <td>2            </td> <td>52    </td> <td>5120          </td> <td>70            </td> <td>309       </td> <td>45          </td> <td>Lizard Pokémon     </td> <td>43     </td> <td>1059860          </td> <td>0.6     </td> <td>39  </td> <td>Hitokageヒトカゲ    </td> <td>Charmander</td> <td>88.1           </td> <td>4             </td> <td>60       </td> <td>50        </td> <td>65   </td> <td>fire </td> <td>nan   </td> <td>8.5      </td> <td>1         </td> <td>0           </td>\n",
       "        </tr>\n",
       "        <tr>\n",
       "            <td>['Blaze', 'Solar Power']   </td> <td>0.5        </td> <td>1           </td> <td>1             </td> <td>1               </td> <td>0.5          </td> <td>1            </td> <td>0.5         </td> <td>1             </td> <td>1            </td> <td>0.5          </td> <td>2             </td> <td>0.5        </td> <td>1             </td> <td>1             </td> <td>1              </td> <td>2           </td> <td>0.5          </td> <td>2            </td> <td>64    </td> <td>5120          </td> <td>70            </td> <td>405       </td> <td>45          </td> <td>Flame Pokémon      </td> <td>58     </td> <td>1059860          </td> <td>1.1     </td> <td>58  </td> <td>Lizardoリザード     </td> <td>Charmeleon</td> <td>88.1           </td> <td>5             </td> <td>80       </td> <td>65        </td> <td>80   </td> <td>fire </td> <td>nan   </td> <td>19       </td> <td>1         </td> <td>0           </td>\n",
       "        </tr>\n",
       "        <tr>\n",
       "            <td>['Blaze', 'Solar Power']   </td> <td>0.25       </td> <td>1           </td> <td>1             </td> <td>2               </td> <td>0.5          </td> <td>0.5          </td> <td>0.5         </td> <td>1             </td> <td>1            </td> <td>0.25         </td> <td>0             </td> <td>1          </td> <td>1             </td> <td>1             </td> <td>1              </td> <td>4           </td> <td>0.5          </td> <td>2            </td> <td>104   </td> <td>5120          </td> <td>70            </td> <td>634       </td> <td>45          </td> <td>Flame Pokémon      </td> <td>78     </td> <td>1059860          </td> <td>1.7     </td> <td>78  </td> <td>Lizardonリザードン   </td> <td>Charizard </td> <td>88.1           </td> <td>6             </td> <td>159      </td> <td>115       </td> <td>100  </td> <td>fire </td> <td>flying</td> <td>90.5     </td> <td>1         </td> <td>0           </td>\n",
       "        </tr>\n",
       "        <tr>\n",
       "            <td>['Torrent', 'Rain Dish']   </td> <td>1          </td> <td>1           </td> <td>1             </td> <td>2               </td> <td>1            </td> <td>1            </td> <td>0.5         </td> <td>1             </td> <td>1            </td> <td>2            </td> <td>1             </td> <td>0.5        </td> <td>1             </td> <td>1             </td> <td>1              </td> <td>1           </td> <td>0.5          </td> <td>0.5          </td> <td>48    </td> <td>5120          </td> <td>70            </td> <td>314       </td> <td>45          </td> <td>Tiny Turtle Pokémon</td> <td>65     </td> <td>1059860          </td> <td>0.5     </td> <td>44  </td> <td>Zenigameゼニガメ    </td> <td>Squirtle  </td> <td>88.1           </td> <td>7             </td> <td>50       </td> <td>64        </td> <td>43   </td> <td>water</td> <td>nan   </td> <td>9        </td> <td>1         </td> <td>0           </td>\n",
       "        </tr>\n",
       "        <tr>\n",
       "            <td>['Torrent', 'Rain Dish']   </td> <td>1          </td> <td>1           </td> <td>1             </td> <td>2               </td> <td>1            </td> <td>1            </td> <td>0.5         </td> <td>1             </td> <td>1            </td> <td>2            </td> <td>1             </td> <td>0.5        </td> <td>1             </td> <td>1             </td> <td>1              </td> <td>1           </td> <td>0.5          </td> <td>0.5          </td> <td>63    </td> <td>5120          </td> <td>70            </td> <td>405       </td> <td>45          </td> <td>Turtle Pokémon     </td> <td>80     </td> <td>1059860          </td> <td>1       </td> <td>59  </td> <td>Kameilカメール      </td> <td>Wartortle </td> <td>88.1           </td> <td>8             </td> <td>65       </td> <td>80        </td> <td>58   </td> <td>water</td> <td>nan   </td> <td>22.5     </td> <td>1         </td> <td>0           </td>\n",
       "        </tr>\n",
       "        <tr>\n",
       "            <td>['Torrent', 'Rain Dish']   </td> <td>1          </td> <td>1           </td> <td>1             </td> <td>2               </td> <td>1            </td> <td>1            </td> <td>0.5         </td> <td>1             </td> <td>1            </td> <td>2            </td> <td>1             </td> <td>0.5        </td> <td>1             </td> <td>1             </td> <td>1              </td> <td>1           </td> <td>0.5          </td> <td>0.5          </td> <td>103   </td> <td>5120          </td> <td>70            </td> <td>630       </td> <td>45          </td> <td>Shellfish Pokémon  </td> <td>120    </td> <td>1059860          </td> <td>1.6     </td> <td>79  </td> <td>Kamexカメックス      </td> <td>Blastoise </td> <td>88.1           </td> <td>9             </td> <td>135      </td> <td>115       </td> <td>78   </td> <td>water</td> <td>nan   </td> <td>85.5     </td> <td>1         </td> <td>0           </td>\n",
       "        </tr>\n",
       "        <tr>\n",
       "            <td>['Shield Dust', 'Run Away']</td> <td>1          </td> <td>1           </td> <td>1             </td> <td>1               </td> <td>1            </td> <td>0.5          </td> <td>2           </td> <td>2             </td> <td>1            </td> <td>0.5          </td> <td>0.5           </td> <td>1          </td> <td>1             </td> <td>1             </td> <td>1              </td> <td>2           </td> <td>1            </td> <td>1            </td> <td>30    </td> <td>3840          </td> <td>70            </td> <td>195       </td> <td>255         </td> <td>Worm Pokémon       </td> <td>35     </td> <td>1000000          </td> <td>0.3     </td> <td>45  </td> <td>Caterpieキャタピー   </td> <td>Caterpie  </td> <td>50             </td> <td>10            </td> <td>20       </td> <td>20        </td> <td>45   </td> <td>bug  </td> <td>nan   </td> <td>2.9      </td> <td>1         </td> <td>0           </td>\n",
       "        </tr>\n",
       "    </tbody>\n",
       "</table>\n",
       "<p>... (791 rows omitted)</p>"
      ],
      "text/plain": [
       "abilities                   | against_bug | against_dark | against_dragon | against_electric | against_fairy | against_fight | against_fire | against_flying | against_ghost | against_grass | against_ground | against_ice | against_normal | against_poison | against_psychic | against_rock | against_steel | against_water | attack | base_egg_steps | base_happiness | base_total | capture_rate | classfication       | defense | experience_growth | height_m | hp   | japanese_name    | name       | percentage_male | pokedex_number | sp_attack | sp_defense | speed | type1 | type2  | weight_kg | generation | is_legendary\n",
       "['Overgrow', 'Chlorophyll'] | 1           | 1            | 1              | 0.5              | 0.5           | 0.5           | 2            | 2              | 1             | 0.25          | 1              | 2           | 1              | 1              | 2               | 1            | 1             | 0.5           | 49     | 5120           | 70             | 318        | 45           | Seed Pokémon        | 49      | 1059860           | 0.7      | 45   | Fushigidaneフシギダネ | Bulbasaur  | 88.1            | 1              | 65        | 65         | 45    | grass | poison | 6.9       | 1          | 0\n",
       "['Overgrow', 'Chlorophyll'] | 1           | 1            | 1              | 0.5              | 0.5           | 0.5           | 2            | 2              | 1             | 0.25          | 1              | 2           | 1              | 1              | 2               | 1            | 1             | 0.5           | 62     | 5120           | 70             | 405        | 45           | Seed Pokémon        | 63      | 1059860           | 1        | 60   | Fushigisouフシギソウ  | Ivysaur    | 88.1            | 2              | 80        | 80         | 60    | grass | poison | 13        | 1          | 0\n",
       "['Overgrow', 'Chlorophyll'] | 1           | 1            | 1              | 0.5              | 0.5           | 0.5           | 2            | 2              | 1             | 0.25          | 1              | 2           | 1              | 1              | 2               | 1            | 1             | 0.5           | 100    | 5120           | 70             | 625        | 45           | Seed Pokémon        | 123     | 1059860           | 2        | 80   | Fushigibanaフシギバナ | Venusaur   | 88.1            | 3              | 122       | 120        | 80    | grass | poison | 100       | 1          | 0\n",
       "['Blaze', 'Solar Power']    | 0.5         | 1            | 1              | 1                | 0.5           | 1             | 0.5          | 1              | 1             | 0.5           | 2              | 0.5         | 1              | 1              | 1               | 2            | 0.5           | 2             | 52     | 5120           | 70             | 309        | 45           | Lizard Pokémon      | 43      | 1059860           | 0.6      | 39   | Hitokageヒトカゲ     | Charmander | 88.1            | 4              | 60        | 50         | 65    | fire  | nan    | 8.5       | 1          | 0\n",
       "['Blaze', 'Solar Power']    | 0.5         | 1            | 1              | 1                | 0.5           | 1             | 0.5          | 1              | 1             | 0.5           | 2              | 0.5         | 1              | 1              | 1               | 2            | 0.5           | 2             | 64     | 5120           | 70             | 405        | 45           | Flame Pokémon       | 58      | 1059860           | 1.1      | 58   | Lizardoリザード      | Charmeleon | 88.1            | 5              | 80        | 65         | 80    | fire  | nan    | 19        | 1          | 0\n",
       "['Blaze', 'Solar Power']    | 0.25        | 1            | 1              | 2                | 0.5           | 0.5           | 0.5          | 1              | 1             | 0.25          | 0              | 1           | 1              | 1              | 1               | 4            | 0.5           | 2             | 104    | 5120           | 70             | 634        | 45           | Flame Pokémon       | 78      | 1059860           | 1.7      | 78   | Lizardonリザードン    | Charizard  | 88.1            | 6              | 159       | 115        | 100   | fire  | flying | 90.5      | 1          | 0\n",
       "['Torrent', 'Rain Dish']    | 1           | 1            | 1              | 2                | 1             | 1             | 0.5          | 1              | 1             | 2             | 1              | 0.5         | 1              | 1              | 1               | 1            | 0.5           | 0.5           | 48     | 5120           | 70             | 314        | 45           | Tiny Turtle Pokémon | 65      | 1059860           | 0.5      | 44   | Zenigameゼニガメ     | Squirtle   | 88.1            | 7              | 50        | 64         | 43    | water | nan    | 9         | 1          | 0\n",
       "['Torrent', 'Rain Dish']    | 1           | 1            | 1              | 2                | 1             | 1             | 0.5          | 1              | 1             | 2             | 1              | 0.5         | 1              | 1              | 1               | 1            | 0.5           | 0.5           | 63     | 5120           | 70             | 405        | 45           | Turtle Pokémon      | 80      | 1059860           | 1        | 59   | Kameilカメール       | Wartortle  | 88.1            | 8              | 65        | 80         | 58    | water | nan    | 22.5      | 1          | 0\n",
       "['Torrent', 'Rain Dish']    | 1           | 1            | 1              | 2                | 1             | 1             | 0.5          | 1              | 1             | 2             | 1              | 0.5         | 1              | 1              | 1               | 1            | 0.5           | 0.5           | 103    | 5120           | 70             | 630        | 45           | Shellfish Pokémon   | 120     | 1059860           | 1.6      | 79   | Kamexカメックス       | Blastoise  | 88.1            | 9              | 135       | 115        | 78    | water | nan    | 85.5      | 1          | 0\n",
       "['Shield Dust', 'Run Away'] | 1           | 1            | 1              | 1                | 1             | 0.5           | 2            | 2              | 1             | 0.5           | 0.5            | 1           | 1              | 1              | 1               | 2            | 1             | 1             | 30     | 3840           | 70             | 195        | 255          | Worm Pokémon        | 35      | 1000000           | 0.3      | 45   | Caterpieキャタピー    | Caterpie   | 50              | 10             | 20        | 20         | 45    | bug   | nan    | 2.9       | 1          | 0\n",
       "... (791 rows omitted)"
      ]
     },
     "execution_count": 48,
     "metadata": {},
     "output_type": "execute_result"
    }
   ],
   "source": [
    "pokemon = Table.read_table('data/pokemon.csv')\n",
    "pokemon"
   ]
  },
  {
   "cell_type": "code",
   "execution_count": 49,
   "id": "76effbce-6837-490b-b926-9ade7f44d886",
   "metadata": {},
   "outputs": [
    {
     "data": {
      "text/html": [
       "<table border=\"1\" class=\"dataframe\">\n",
       "    <thead>\n",
       "        <tr>\n",
       "            <th>name</th>\n",
       "        </tr>\n",
       "    </thead>\n",
       "    <tbody>\n",
       "        <tr>\n",
       "            <td>Bulbasaur </td>\n",
       "        </tr>\n",
       "        <tr>\n",
       "            <td>Ivysaur   </td>\n",
       "        </tr>\n",
       "        <tr>\n",
       "            <td>Venusaur  </td>\n",
       "        </tr>\n",
       "        <tr>\n",
       "            <td>Charmander</td>\n",
       "        </tr>\n",
       "        <tr>\n",
       "            <td>Charmeleon</td>\n",
       "        </tr>\n",
       "        <tr>\n",
       "            <td>Charizard </td>\n",
       "        </tr>\n",
       "        <tr>\n",
       "            <td>Squirtle  </td>\n",
       "        </tr>\n",
       "        <tr>\n",
       "            <td>Wartortle </td>\n",
       "        </tr>\n",
       "        <tr>\n",
       "            <td>Blastoise </td>\n",
       "        </tr>\n",
       "        <tr>\n",
       "            <td>Caterpie  </td>\n",
       "        </tr>\n",
       "    </tbody>\n",
       "</table>\n",
       "<p>... (791 rows omitted)</p>"
      ],
      "text/plain": [
       "name\n",
       "Bulbasaur\n",
       "Ivysaur\n",
       "Venusaur\n",
       "Charmander\n",
       "Charmeleon\n",
       "Charizard\n",
       "Squirtle\n",
       "Wartortle\n",
       "Blastoise\n",
       "Caterpie\n",
       "... (791 rows omitted)"
      ]
     },
     "execution_count": 49,
     "metadata": {},
     "output_type": "execute_result"
    }
   ],
   "source": [
    "pokemon.select('name')"
   ]
  },
  {
   "cell_type": "code",
   "execution_count": 51,
   "id": "8ec80043-4a92-4055-aaf7-db034b0c05ab",
   "metadata": {},
   "outputs": [
    {
     "data": {
      "text/plain": [
       "array(['Bulbasaur', 'Ivysaur', 'Venusaur', 'Charmander', 'Charmeleon',\n",
       "       'Charizard', 'Squirtle', 'Wartortle', 'Blastoise', 'Caterpie',\n",
       "       'Metapod', 'Butterfree', 'Weedle', 'Kakuna', 'Beedrill', 'Pidgey',\n",
       "       'Pidgeotto', 'Pidgeot', 'Rattata', 'Raticate', 'Spearow', 'Fearow',\n",
       "       'Ekans', 'Arbok', 'Pikachu', 'Raichu', 'Sandshrew', 'Sandslash',\n",
       "       'Nidoran♀', 'Nidorina', 'Nidoqueen', 'Nidoran♂', 'Nidorino',\n",
       "       'Nidoking', 'Clefairy', 'Clefable', 'Vulpix', 'Ninetales',\n",
       "       'Jigglypuff', 'Wigglytuff', 'Zubat', 'Golbat', 'Oddish', 'Gloom',\n",
       "       'Vileplume', 'Paras', 'Parasect', 'Venonat', 'Venomoth', 'Diglett',\n",
       "       'Dugtrio', 'Meowth', 'Persian', 'Psyduck', 'Golduck', 'Mankey',\n",
       "       'Primeape', 'Growlithe', 'Arcanine', 'Poliwag', 'Poliwhirl',\n",
       "       'Poliwrath', 'Abra', 'Kadabra', 'Alakazam', 'Machop', 'Machoke',\n",
       "       'Machamp', 'Bellsprout', 'Weepinbell', 'Victreebel', 'Tentacool',\n",
       "       'Tentacruel', 'Geodude', 'Graveler', 'Golem', 'Ponyta', 'Rapidash',\n",
       "       'Slowpoke', 'Slowbro', 'Magnemite', 'Magneton', \"Farfetch'd\",\n",
       "       'Doduo', 'Dodrio', 'Seel', 'Dewgong', 'Grimer', 'Muk', 'Shellder',\n",
       "       'Cloyster', 'Gastly', 'Haunter', 'Gengar', 'Onix', 'Drowzee',\n",
       "       'Hypno', 'Krabby', 'Kingler', 'Voltorb', 'Electrode', 'Exeggcute',\n",
       "       'Exeggutor', 'Cubone', 'Marowak', 'Hitmonlee', 'Hitmonchan',\n",
       "       'Lickitung', 'Koffing', 'Weezing', 'Rhyhorn', 'Rhydon', 'Chansey',\n",
       "       'Tangela', 'Kangaskhan', 'Horsea', 'Seadra', 'Goldeen', 'Seaking',\n",
       "       'Staryu', 'Starmie', 'Mr. Mime', 'Scyther', 'Jynx', 'Electabuzz',\n",
       "       'Magmar', 'Pinsir', 'Tauros', 'Magikarp', 'Gyarados', 'Lapras',\n",
       "       'Ditto', 'Eevee', 'Vaporeon', 'Jolteon', 'Flareon', 'Porygon',\n",
       "       'Omanyte', 'Omastar', 'Kabuto', 'Kabutops', 'Aerodactyl', 'Snorlax',\n",
       "       'Articuno', 'Zapdos', 'Moltres', 'Dratini', 'Dragonair',\n",
       "       'Dragonite', 'Mewtwo', 'Mew', 'Chikorita', 'Bayleef', 'Meganium',\n",
       "       'Cyndaquil', 'Quilava', 'Typhlosion', 'Totodile', 'Croconaw',\n",
       "       'Feraligatr', 'Sentret', 'Furret', 'Hoothoot', 'Noctowl', 'Ledyba',\n",
       "       'Ledian', 'Spinarak', 'Ariados', 'Crobat', 'Chinchou', 'Lanturn',\n",
       "       'Pichu', 'Cleffa', 'Igglybuff', 'Togepi', 'Togetic', 'Natu', 'Xatu',\n",
       "       'Mareep', 'Flaaffy', 'Ampharos', 'Bellossom', 'Marill', 'Azumarill',\n",
       "       'Sudowoodo', 'Politoed', 'Hoppip', 'Skiploom', 'Jumpluff', 'Aipom',\n",
       "       'Sunkern', 'Sunflora', 'Yanma', 'Wooper', 'Quagsire', 'Espeon',\n",
       "       'Umbreon', 'Murkrow', 'Slowking', 'Misdreavus', 'Unown',\n",
       "       'Wobbuffet', 'Girafarig', 'Pineco', 'Forretress', 'Dunsparce',\n",
       "       'Gligar', 'Steelix', 'Snubbull', 'Granbull', 'Qwilfish', 'Scizor',\n",
       "       'Shuckle', 'Heracross', 'Sneasel', 'Teddiursa', 'Ursaring',\n",
       "       'Slugma', 'Magcargo', 'Swinub', 'Piloswine', 'Corsola', 'Remoraid',\n",
       "       'Octillery', 'Delibird', 'Mantine', 'Skarmory', 'Houndour',\n",
       "       'Houndoom', 'Kingdra', 'Phanpy', 'Donphan', 'Porygon2', 'Stantler',\n",
       "       'Smeargle', 'Tyrogue', 'Hitmontop', 'Smoochum', 'Elekid', 'Magby',\n",
       "       'Miltank', 'Blissey', 'Raikou', 'Entei', 'Suicune', 'Larvitar',\n",
       "       'Pupitar', 'Tyranitar', 'Lugia', 'Ho-Oh', 'Celebi', 'Treecko',\n",
       "       'Grovyle', 'Sceptile', 'Torchic', 'Combusken', 'Blaziken', 'Mudkip',\n",
       "       'Marshtomp', 'Swampert', 'Poochyena', 'Mightyena', 'Zigzagoon',\n",
       "       'Linoone', 'Wurmple', 'Silcoon', 'Beautifly', 'Cascoon', 'Dustox',\n",
       "       'Lotad', 'Lombre', 'Ludicolo', 'Seedot', 'Nuzleaf', 'Shiftry',\n",
       "       'Taillow', 'Swellow', 'Wingull', 'Pelipper', 'Ralts', 'Kirlia',\n",
       "       'Gardevoir', 'Surskit', 'Masquerain', 'Shroomish', 'Breloom',\n",
       "       'Slakoth', 'Vigoroth', 'Slaking', 'Nincada', 'Ninjask', 'Shedinja',\n",
       "       'Whismur', 'Loudred', 'Exploud', 'Makuhita', 'Hariyama', 'Azurill',\n",
       "       'Nosepass', 'Skitty', 'Delcatty', 'Sableye', 'Mawile', 'Aron',\n",
       "       'Lairon', 'Aggron', 'Meditite', 'Medicham', 'Electrike',\n",
       "       'Manectric', 'Plusle', 'Minun', 'Volbeat', 'Illumise', 'Roselia',\n",
       "       'Gulpin', 'Swalot', 'Carvanha', 'Sharpedo', 'Wailmer', 'Wailord',\n",
       "       'Numel', 'Camerupt', 'Torkoal', 'Spoink', 'Grumpig', 'Spinda',\n",
       "       'Trapinch', 'Vibrava', 'Flygon', 'Cacnea', 'Cacturne', 'Swablu',\n",
       "       'Altaria', 'Zangoose', 'Seviper', 'Lunatone', 'Solrock', 'Barboach',\n",
       "       'Whiscash', 'Corphish', 'Crawdaunt', 'Baltoy', 'Claydol', 'Lileep',\n",
       "       'Cradily', 'Anorith', 'Armaldo', 'Feebas', 'Milotic', 'Castform',\n",
       "       'Kecleon', 'Shuppet', 'Banette', 'Duskull', 'Dusclops', 'Tropius',\n",
       "       'Chimecho', 'Absol', 'Wynaut', 'Snorunt', 'Glalie', 'Spheal',\n",
       "       'Sealeo', 'Walrein', 'Clamperl', 'Huntail', 'Gorebyss', 'Relicanth',\n",
       "       'Luvdisc', 'Bagon', 'Shelgon', 'Salamence', 'Beldum', 'Metang',\n",
       "       'Metagross', 'Regirock', 'Regice', 'Registeel', 'Latias', 'Latios',\n",
       "       'Kyogre', 'Groudon', 'Rayquaza', 'Jirachi', 'Deoxys', 'Turtwig',\n",
       "       'Grotle', 'Torterra', 'Chimchar', 'Monferno', 'Infernape', 'Piplup',\n",
       "       'Prinplup', 'Empoleon', 'Starly', 'Staravia', 'Staraptor', 'Bidoof',\n",
       "       'Bibarel', 'Kricketot', 'Kricketune', 'Shinx', 'Luxio', 'Luxray',\n",
       "       'Budew', 'Roserade', 'Cranidos', 'Rampardos', 'Shieldon',\n",
       "       'Bastiodon', 'Burmy', 'Wormadam', 'Mothim', 'Combee', 'Vespiquen',\n",
       "       'Pachirisu', 'Buizel', 'Floatzel', 'Cherubi', 'Cherrim', 'Shellos',\n",
       "       'Gastrodon', 'Ambipom', 'Drifloon', 'Drifblim', 'Buneary',\n",
       "       'Lopunny', 'Mismagius', 'Honchkrow', 'Glameow', 'Purugly',\n",
       "       'Chingling', 'Stunky', 'Skuntank', 'Bronzor', 'Bronzong', 'Bonsly',\n",
       "       'Mime Jr.', 'Happiny', 'Chatot', 'Spiritomb', 'Gible', 'Gabite',\n",
       "       'Garchomp', 'Munchlax', 'Riolu', 'Lucario', 'Hippopotas',\n",
       "       'Hippowdon', 'Skorupi', 'Drapion', 'Croagunk', 'Toxicroak',\n",
       "       'Carnivine', 'Finneon', 'Lumineon', 'Mantyke', 'Snover',\n",
       "       'Abomasnow', 'Weavile', 'Magnezone', 'Lickilicky', 'Rhyperior',\n",
       "       'Tangrowth', 'Electivire', 'Magmortar', 'Togekiss', 'Yanmega',\n",
       "       'Leafeon', 'Glaceon', 'Gliscor', 'Mamoswine', 'Porygon-Z',\n",
       "       'Gallade', 'Probopass', 'Dusknoir', 'Froslass', 'Rotom', 'Uxie',\n",
       "       'Mesprit', 'Azelf', 'Dialga', 'Palkia', 'Heatran', 'Regigigas',\n",
       "       'Giratina', 'Cresselia', 'Phione', 'Manaphy', 'Darkrai', 'Shaymin',\n",
       "       'Arceus', 'Victini', 'Snivy', 'Servine', 'Serperior', 'Tepig',\n",
       "       'Pignite', 'Emboar', 'Oshawott', 'Dewott', 'Samurott', 'Patrat',\n",
       "       'Watchog', 'Lillipup', 'Herdier', 'Stoutland', 'Purrloin',\n",
       "       'Liepard', 'Pansage', 'Simisage', 'Pansear', 'Simisear', 'Panpour',\n",
       "       'Simipour', 'Munna', 'Musharna', 'Pidove', 'Tranquill', 'Unfezant',\n",
       "       'Blitzle', 'Zebstrika', 'Roggenrola', 'Boldore', 'Gigalith',\n",
       "       'Woobat', 'Swoobat', 'Drilbur', 'Excadrill', 'Audino', 'Timburr',\n",
       "       'Gurdurr', 'Conkeldurr', 'Tympole', 'Palpitoad', 'Seismitoad',\n",
       "       'Throh', 'Sawk', 'Sewaddle', 'Swadloon', 'Leavanny', 'Venipede',\n",
       "       'Whirlipede', 'Scolipede', 'Cottonee', 'Whimsicott', 'Petilil',\n",
       "       'Lilligant', 'Basculin', 'Sandile', 'Krokorok', 'Krookodile',\n",
       "       'Darumaka', 'Darmanitan', 'Maractus', 'Dwebble', 'Crustle',\n",
       "       'Scraggy', 'Scrafty', 'Sigilyph', 'Yamask', 'Cofagrigus',\n",
       "       'Tirtouga', 'Carracosta', 'Archen', 'Archeops', 'Trubbish',\n",
       "       'Garbodor', 'Zorua', 'Zoroark', 'Minccino', 'Cinccino', 'Gothita',\n",
       "       'Gothorita', 'Gothitelle', 'Solosis', 'Duosion', 'Reuniclus',\n",
       "       'Ducklett', 'Swanna', 'Vanillite', 'Vanillish', 'Vanilluxe',\n",
       "       'Deerling', 'Sawsbuck', 'Emolga', 'Karrablast', 'Escavalier',\n",
       "       'Foongus', 'Amoonguss', 'Frillish', 'Jellicent', 'Alomomola',\n",
       "       'Joltik', 'Galvantula', 'Ferroseed', 'Ferrothorn', 'Klink', 'Klang',\n",
       "       'Klinklang', 'Tynamo', 'Eelektrik', 'Eelektross', 'Elgyem',\n",
       "       'Beheeyem', 'Litwick', 'Lampent', 'Chandelure', 'Axew', 'Fraxure',\n",
       "       'Haxorus', 'Cubchoo', 'Beartic', 'Cryogonal', 'Shelmet', 'Accelgor',\n",
       "       'Stunfisk', 'Mienfoo', 'Mienshao', 'Druddigon', 'Golett', 'Golurk',\n",
       "       'Pawniard', 'Bisharp', 'Bouffalant', 'Rufflet', 'Braviary',\n",
       "       'Vullaby', 'Mandibuzz', 'Heatmor', 'Durant', 'Deino', 'Zweilous',\n",
       "       'Hydreigon', 'Larvesta', 'Volcarona', 'Cobalion', 'Terrakion',\n",
       "       'Virizion', 'Tornadus', 'Thundurus', 'Reshiram', 'Zekrom',\n",
       "       'Landorus', 'Kyurem', 'Keldeo', 'Meloetta', 'Genesect', 'Chespin',\n",
       "       'Quilladin', 'Chesnaught', 'Fennekin', 'Braixen', 'Delphox',\n",
       "       'Froakie', 'Frogadier', 'Greninja', 'Bunnelby', 'Diggersby',\n",
       "       'Fletchling', 'Fletchinder', 'Talonflame', 'Scatterbug', 'Spewpa',\n",
       "       'Vivillon', 'Litleo', 'Pyroar', 'Flabébé', 'Floette', 'Florges',\n",
       "       'Skiddo', 'Gogoat', 'Pancham', 'Pangoro', 'Furfrou', 'Espurr',\n",
       "       'Meowstic', 'Honedge', 'Doublade', 'Aegislash', 'Spritzee',\n",
       "       'Aromatisse', 'Swirlix', 'Slurpuff', 'Inkay', 'Malamar', 'Binacle',\n",
       "       'Barbaracle', 'Skrelp', 'Dragalge', 'Clauncher', 'Clawitzer',\n",
       "       'Helioptile', 'Heliolisk', 'Tyrunt', 'Tyrantrum', 'Amaura',\n",
       "       'Aurorus', 'Sylveon', 'Hawlucha', 'Dedenne', 'Carbink', 'Goomy',\n",
       "       'Sliggoo', 'Goodra', 'Klefki', 'Phantump', 'Trevenant', 'Pumpkaboo',\n",
       "       'Gourgeist', 'Bergmite', 'Avalugg', 'Noibat', 'Noivern', 'Xerneas',\n",
       "       'Yveltal', 'Zygarde', 'Diancie', 'Hoopa', 'Volcanion', 'Rowlet',\n",
       "       'Dartrix', 'Decidueye', 'Litten', 'Torracat', 'Incineroar',\n",
       "       'Popplio', 'Brionne', 'Primarina', 'Pikipek', 'Trumbeak',\n",
       "       'Toucannon', 'Yungoos', 'Gumshoos', 'Grubbin', 'Charjabug',\n",
       "       'Vikavolt', 'Crabrawler', 'Crabominable', 'Oricorio', 'Cutiefly',\n",
       "       'Ribombee', 'Rockruff', 'Lycanroc', 'Wishiwashi', 'Mareanie',\n",
       "       'Toxapex', 'Mudbray', 'Mudsdale', 'Dewpider', 'Araquanid',\n",
       "       'Fomantis', 'Lurantis', 'Morelull', 'Shiinotic', 'Salandit',\n",
       "       'Salazzle', 'Stufful', 'Bewear', 'Bounsweet', 'Steenee', 'Tsareena',\n",
       "       'Comfey', 'Oranguru', 'Passimian', 'Wimpod', 'Golisopod',\n",
       "       'Sandygast', 'Palossand', 'Pyukumuku', 'Type: Null', 'Silvally',\n",
       "       'Minior', 'Komala', 'Turtonator', 'Togedemaru', 'Mimikyu',\n",
       "       'Bruxish', 'Drampa', 'Dhelmise', 'Jangmo-o', 'Hakamo-o', 'Kommo-o',\n",
       "       'Tapu Koko', 'Tapu Lele', 'Tapu Bulu', 'Tapu Fini', 'Cosmog',\n",
       "       'Cosmoem', 'Solgaleo', 'Lunala', 'Nihilego', 'Buzzwole',\n",
       "       'Pheromosa', 'Xurkitree', 'Celesteela', 'Kartana', 'Guzzlord',\n",
       "       'Necrozma', 'Magearna'],\n",
       "      dtype='<U12')"
      ]
     },
     "execution_count": 51,
     "metadata": {},
     "output_type": "execute_result"
    }
   ],
   "source": [
    "pokemon.column('name')"
   ]
  },
  {
   "cell_type": "code",
   "execution_count": 54,
   "id": "df90e6d2-04cd-445a-810c-b604b0ef5c20",
   "metadata": {},
   "outputs": [
    {
     "data": {
      "text/plain": [
       "array([ 49,  62, 100,  52,  64, 104,  48,  63, 103,  30,  20,  45,  35,\n",
       "        25, 150,  45,  60,  80,  56,  71,  60,  90,  60,  95,  55,  85,\n",
       "        75, 100,  47,  62,  92,  57,  72, 102,  45,  70,  41,  67,  45,\n",
       "        70,  45,  80,  50,  65,  80,  70,  95,  55,  65,  55, 100,  35,\n",
       "        60,  52,  82,  80, 105,  70, 110,  50,  65,  95,  20,  35,  50,\n",
       "        80, 100, 130,  75,  90, 105,  40,  70,  80,  95, 120,  85, 100,\n",
       "        65,  75,  35,  60,  90,  85, 110,  45,  70,  80, 105,  65,  95,\n",
       "        35,  50,  65,  45,  48,  73, 105, 130,  30,  50,  40, 105,  50,\n",
       "        80, 120, 105,  55,  65,  90,  85, 130,   5,  55, 125,  40,  65,\n",
       "        67,  92,  45,  75,  45, 110,  50,  83,  95, 155, 100,  10, 155,\n",
       "        85,  48,  55,  65,  65, 130,  60,  40,  60,  80, 115, 135, 110,\n",
       "        85,  90, 100,  64,  84, 134, 150, 100,  49,  62,  82,  52,  64,\n",
       "        84,  65,  80, 105,  46,  76,  30,  50,  20,  35,  60,  90,  90,\n",
       "        38,  58,  40,  25,  30,  20,  40,  50,  75,  40,  55,  95,  80,\n",
       "        20,  50, 100,  75,  35,  45,  55,  70,  30,  75,  65,  45,  85,\n",
       "        65,  65,  85,  75,  60,  72,  33,  80,  65,  90,  70,  75, 125,\n",
       "        80, 120,  95, 150,  10, 185,  95,  80, 130,  40,  50,  50, 100,\n",
       "        55,  65, 105,  55,  40,  80,  60,  90,  95,  60, 120,  80,  95,\n",
       "        20,  35,  95,  30,  63,  75,  80,  10,  85, 115,  75,  64,  84,\n",
       "       164,  90, 130, 100,  45,  65, 110,  60,  85, 160,  70,  85, 150,\n",
       "        55,  90,  30,  70,  45,  35,  70,  35,  50,  30,  50,  70,  40,\n",
       "        70, 100,  55,  85,  30,  50,  25,  35,  85,  30,  60,  40, 130,\n",
       "        60,  80, 160,  45,  90,  90,  51,  71,  91,  60, 120,  20,  45,\n",
       "        45,  65,  85, 105,  70,  90, 140,  40, 100,  45,  75,  50,  40,\n",
       "        73,  47,  60,  43,  73,  90, 140,  70,  90,  60, 120,  85,  25,\n",
       "        45,  60, 100,  70, 100,  85, 115,  40, 110, 115, 100,  55,  95,\n",
       "        48,  78,  80, 120,  40,  70,  41,  81,  95, 125,  15,  60,  70,\n",
       "        90,  75, 165,  40,  70,  68,  50, 150,  23,  50, 120,  40,  60,\n",
       "        80,  64, 104,  84,  90,  30,  75,  95, 145,  55,  75, 145, 100,\n",
       "        50,  75, 100, 130, 150, 180, 180, 100,  95,  68,  89, 109,  58,\n",
       "        78, 104,  51,  66,  86,  55,  75, 120,  45,  85,  25,  85,  65,\n",
       "        85, 120,  30,  70, 125, 165,  42,  52,  29,  69,  94,  30,  80,\n",
       "        45,  65, 105,  35,  60,  48,  83, 100,  50,  80,  66, 136,  60,\n",
       "       125,  55,  82,  30,  63,  93,  24,  89,  80,  25,   5,  65,  92,\n",
       "        70,  90, 170,  85,  70, 145,  72, 112,  50,  90,  61, 106, 100,\n",
       "        49,  69,  20,  62, 132, 120,  70,  85, 140, 100, 123,  95,  50,\n",
       "        76, 110,  60,  95, 130,  80, 165,  55, 100,  80,  65,  75, 105,\n",
       "       125, 120, 120,  90, 160, 120,  70,  80, 100,  90, 103, 120, 100,\n",
       "        45,  60,  75,  63,  93, 123,  55,  75, 100,  55,  85,  60,  80,\n",
       "       110,  50,  88,  53,  98,  53,  98,  53,  98,  25,  55,  55,  77,\n",
       "       115,  60, 100,  75, 105, 135,  45,  57,  85, 135,  60,  80, 105,\n",
       "       140,  50,  65,  95, 100, 125,  53,  63, 103,  45,  55, 100,  27,\n",
       "        67,  35,  60,  92,  72,  82, 117,  90,  30,  86,  65, 105,  75,\n",
       "        90,  58,  30,  50,  78, 108, 112, 140,  50,  95,  65, 105,  50,\n",
       "        95,  30,  45,  55,  30,  40,  65,  44,  87,  50,  65,  95,  60,\n",
       "       100,  75,  75, 135,  55,  85,  40,  60,  75,  47,  77,  50,  94,\n",
       "        55,  80, 100,  55,  85, 115,  55,  75,  30,  40,  55,  87, 117,\n",
       "       147,  70, 130,  50,  40,  70,  66,  85, 125, 120,  74, 124,  85,\n",
       "       125, 110,  83, 123,  55,  65,  97, 109,  65,  85, 105,  85,  60,\n",
       "        90, 129,  90, 100, 105, 120, 150, 145, 120,  72, 128, 120,  61,\n",
       "        78, 107,  45,  59,  69,  56,  63, 145,  36,  56,  50,  73,  81,\n",
       "        35,  22,  52,  50,  68,  38,  65,  65,  65, 100,  82, 124,  80,\n",
       "        48,  48,  80, 110, 150,  52,  72,  48,  80,  54,  92,  52, 105,\n",
       "        60,  75,  53,  73,  38,  55,  89, 121,  59,  77,  65,  92,  58,\n",
       "        50,  50,  75, 100,  80,  70, 110,  66, 100,  69, 117,  30,  70,\n",
       "       131, 131, 100, 160, 160, 110,  55,  75, 107,  65,  85, 115,  54,\n",
       "        69,  74,  75,  85, 120,  70, 110,  62,  82,  70,  82, 132,  70,\n",
       "        45,  55,  65, 115, 140,  53,  63, 100, 125,  40,  70,  55, 105,\n",
       "        35,  45,  44,  64,  75, 125,  30,  40, 120,  52,  60, 120,  35,\n",
       "       125,  55,  75,  60,  95,  95, 100, 115,  78,  98,  90, 105,  60,\n",
       "       131,  55,  75, 110, 115,  85, 130,  75,  29,  29, 137, 113,  53,\n",
       "       139, 137,  89, 101, 181, 101, 107,  95])"
      ]
     },
     "execution_count": 54,
     "metadata": {},
     "output_type": "execute_result"
    }
   ],
   "source": [
    "attacks = pokemon.column('attack')\n",
    "attacks"
   ]
  },
  {
   "cell_type": "code",
   "execution_count": 56,
   "id": "808965ee-39ce-4059-aaca-4d6e226a0b7b",
   "metadata": {},
   "outputs": [
    {
     "data": {
      "text/plain": [
       "77.857677902621717"
      ]
     },
     "execution_count": 56,
     "metadata": {},
     "output_type": "execute_result"
    }
   ],
   "source": [
    "attacks.mean()"
   ]
  },
  {
   "cell_type": "code",
   "execution_count": 57,
   "id": "258ae9d4-97dc-4b28-8442-efb90249fd12",
   "metadata": {},
   "outputs": [
    {
     "data": {
      "text/plain": [
       "77.857677902621717"
      ]
     },
     "execution_count": 57,
     "metadata": {},
     "output_type": "execute_result"
    }
   ],
   "source": [
    "np.mean(attacks)"
   ]
  },
  {
   "cell_type": "code",
   "execution_count": 58,
   "id": "58070674-9502-4daa-b84d-d6c797bb9776",
   "metadata": {},
   "outputs": [
    {
     "data": {
      "text/plain": [
       "77.857677902621717"
      ]
     },
     "execution_count": 58,
     "metadata": {},
     "output_type": "execute_result"
    }
   ],
   "source": [
    "np.average(attacks)"
   ]
  },
  {
   "cell_type": "code",
   "execution_count": 59,
   "id": "11b1a877-b61e-4464-b844-70b20aa6cd8c",
   "metadata": {},
   "outputs": [
    {
     "data": {
      "text/plain": [
       "77.857677902621717"
      ]
     },
     "execution_count": 59,
     "metadata": {},
     "output_type": "execute_result"
    }
   ],
   "source": [
    "sum(attacks) / len(attacks)"
   ]
  },
  {
   "cell_type": "markdown",
   "id": "56f20721-63f2-4c61-99f2-0914ce1b3fea",
   "metadata": {},
   "source": [
    "# Miscellaneous things Lawton needs to teach you"
   ]
  },
  {
   "cell_type": "code",
   "execution_count": 62,
   "id": "4b2140eb-7a2c-401a-b9fb-be8de6398036",
   "metadata": {},
   "outputs": [
    {
     "data": {
      "text/plain": [
       "'1, 2, 3'"
      ]
     },
     "execution_count": 62,
     "metadata": {},
     "output_type": "execute_result"
    }
   ],
   "source": [
    "', '.join(make_array('1', '2', '3')) # the sequence has to be strs"
   ]
  },
  {
   "cell_type": "code",
   "execution_count": 64,
   "id": "3227724c-8c26-4ff8-bb16-d8fd944f2a72",
   "metadata": {},
   "outputs": [
    {
     "data": {
      "text/plain": [
       "'1 and 2 and 3'"
      ]
     },
     "execution_count": 64,
     "metadata": {},
     "output_type": "execute_result"
    }
   ],
   "source": [
    "' and '.join(make_array('1', '2', '3'))"
   ]
  },
  {
   "cell_type": "code",
   "execution_count": null,
   "id": "ced55dda-d5b9-437c-8106-a49c6b3a7b70",
   "metadata": {},
   "outputs": [],
   "source": []
  }
 ],
 "metadata": {
  "kernelspec": {
   "display_name": "Python 3 (ipykernel)",
   "language": "python",
   "name": "python3"
  },
  "language_info": {
   "codemirror_mode": {
    "name": "ipython",
    "version": 3
   },
   "file_extension": ".py",
   "mimetype": "text/x-python",
   "name": "python",
   "nbconvert_exporter": "python",
   "pygments_lexer": "ipython3",
   "version": "3.12.5"
  }
 },
 "nbformat": 4,
 "nbformat_minor": 5
}

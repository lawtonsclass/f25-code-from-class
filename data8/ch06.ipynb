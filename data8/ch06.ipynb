{
 "cells": [
  {
   "cell_type": "code",
   "execution_count": 1,
   "id": "6552a6c0-c16a-4f88-9302-745376d7fdea",
   "metadata": {},
   "outputs": [],
   "source": [
    "from datascience import *"
   ]
  },
  {
   "cell_type": "code",
   "execution_count": 2,
   "id": "f0f29532-c96e-4762-a52d-d688b9dbef59",
   "metadata": {},
   "outputs": [
    {
     "data": {
      "text/html": [
       "<table border=\"1\" class=\"dataframe\">\n",
       "    <thead>\n",
       "        <tr>\n",
       "            \n",
       "        </tr>\n",
       "    </thead>\n",
       "    <tbody>\n",
       "    </tbody>\n",
       "</table>"
      ],
      "text/plain": []
     },
     "execution_count": 2,
     "metadata": {},
     "output_type": "execute_result"
    }
   ],
   "source": [
    "Table()  # empty table"
   ]
  },
  {
   "cell_type": "code",
   "execution_count": 3,
   "id": "489763df-adad-49c1-99f2-f4d34f127a86",
   "metadata": {},
   "outputs": [
    {
     "data": {
      "text/html": [
       "<table border=\"1\" class=\"dataframe\">\n",
       "    <thead>\n",
       "        <tr>\n",
       "            <th>Name</th>\n",
       "        </tr>\n",
       "    </thead>\n",
       "    <tbody>\n",
       "        <tr>\n",
       "            <td>Lawton</td>\n",
       "        </tr>\n",
       "        <tr>\n",
       "            <td>Lonzo </td>\n",
       "        </tr>\n",
       "        <tr>\n",
       "            <td>Bill  </td>\n",
       "        </tr>\n",
       "    </tbody>\n",
       "</table>"
      ],
      "text/plain": [
       "Name\n",
       "Lawton\n",
       "Lonzo\n",
       "Bill"
      ]
     },
     "execution_count": 3,
     "metadata": {},
     "output_type": "execute_result"
    }
   ],
   "source": [
    "Table().with_column('Name', make_array('Lawton', 'Lonzo', 'Bill'))"
   ]
  },
  {
   "cell_type": "code",
   "execution_count": 4,
   "id": "2e686ae6-133d-4689-9cfd-3ea22d755590",
   "metadata": {},
   "outputs": [
    {
     "data": {
      "text/html": [
       "<table border=\"1\" class=\"dataframe\">\n",
       "    <thead>\n",
       "        <tr>\n",
       "            <th>Name</th> <th>Age</th>\n",
       "        </tr>\n",
       "    </thead>\n",
       "    <tbody>\n",
       "        <tr>\n",
       "            <td>Lawton</td> <td>32  </td>\n",
       "        </tr>\n",
       "        <tr>\n",
       "            <td>Lonzo </td> <td>5   </td>\n",
       "        </tr>\n",
       "        <tr>\n",
       "            <td>Bill  </td> <td>33  </td>\n",
       "        </tr>\n",
       "    </tbody>\n",
       "</table>"
      ],
      "text/plain": [
       "Name   | Age\n",
       "Lawton | 32\n",
       "Lonzo  | 5\n",
       "Bill   | 33"
      ]
     },
     "execution_count": 4,
     "metadata": {},
     "output_type": "execute_result"
    }
   ],
   "source": [
    "Table().with_columns(\n",
    "    'Name', make_array('Lawton', 'Lonzo', 'Bill'),\n",
    "    'Age',  make_array(32, 5, 33)\n",
    ")"
   ]
  },
  {
   "cell_type": "code",
   "execution_count": 5,
   "id": "c77b1f1a-2a38-40f6-909b-45018c5aea46",
   "metadata": {},
   "outputs": [],
   "source": [
    "people = Table().with_columns(\n",
    "    'Name', make_array('Lawton', 'Lonzo', 'Bill'),\n",
    "    'Age',  make_array(32, 5, 33)\n",
    ")"
   ]
  },
  {
   "cell_type": "code",
   "execution_count": 6,
   "id": "f48a854c-7b06-41f3-a208-a6b4b5449fe7",
   "metadata": {},
   "outputs": [
    {
     "data": {
      "text/html": [
       "<table border=\"1\" class=\"dataframe\">\n",
       "    <thead>\n",
       "        <tr>\n",
       "            <th>Name</th> <th>Age</th>\n",
       "        </tr>\n",
       "    </thead>\n",
       "    <tbody>\n",
       "        <tr>\n",
       "            <td>Lawton</td> <td>32  </td>\n",
       "        </tr>\n",
       "        <tr>\n",
       "            <td>Lonzo </td> <td>5   </td>\n",
       "        </tr>\n",
       "        <tr>\n",
       "            <td>Bill  </td> <td>33  </td>\n",
       "        </tr>\n",
       "    </tbody>\n",
       "</table>"
      ],
      "text/plain": [
       "Name   | Age\n",
       "Lawton | 32\n",
       "Lonzo  | 5\n",
       "Bill   | 33"
      ]
     },
     "execution_count": 6,
     "metadata": {},
     "output_type": "execute_result"
    }
   ],
   "source": [
    "people"
   ]
  },
  {
   "cell_type": "code",
   "execution_count": 7,
   "id": "eae57ae7-1c9d-4efc-bd8d-aaf9cc13a30a",
   "metadata": {},
   "outputs": [
    {
     "data": {
      "text/html": [
       "<table border=\"1\" class=\"dataframe\">\n",
       "    <thead>\n",
       "        <tr>\n",
       "            <th>Name</th> <th>Age</th> <th>Employer</th>\n",
       "        </tr>\n",
       "    </thead>\n",
       "    <tbody>\n",
       "        <tr>\n",
       "            <td>Lawton</td> <td>32  </td> <td>CCC       </td>\n",
       "        </tr>\n",
       "        <tr>\n",
       "            <td>Lonzo </td> <td>5   </td> <td>Unemployed</td>\n",
       "        </tr>\n",
       "        <tr>\n",
       "            <td>Bill  </td> <td>33  </td> <td>CCC       </td>\n",
       "        </tr>\n",
       "    </tbody>\n",
       "</table>"
      ],
      "text/plain": [
       "Name   | Age  | Employer\n",
       "Lawton | 32   | CCC\n",
       "Lonzo  | 5    | Unemployed\n",
       "Bill   | 33   | CCC"
      ]
     },
     "execution_count": 7,
     "metadata": {},
     "output_type": "execute_result"
    }
   ],
   "source": [
    "# It's fine to use the plural with_columns and only add a single column\n",
    "people.with_columns('Employer', make_array(\"CCC\", 'Unemployed', 'CCC'))"
   ]
  },
  {
   "cell_type": "code",
   "execution_count": 8,
   "id": "745e9bff-b795-43da-a77c-6eaf70f4eae1",
   "metadata": {},
   "outputs": [
    {
     "data": {
      "text/html": [
       "<table border=\"1\" class=\"dataframe\">\n",
       "    <thead>\n",
       "        <tr>\n",
       "            <th>Name</th> <th>Age</th>\n",
       "        </tr>\n",
       "    </thead>\n",
       "    <tbody>\n",
       "        <tr>\n",
       "            <td>Lawton</td> <td>32  </td>\n",
       "        </tr>\n",
       "        <tr>\n",
       "            <td>Lonzo </td> <td>5   </td>\n",
       "        </tr>\n",
       "        <tr>\n",
       "            <td>Bill  </td> <td>33  </td>\n",
       "        </tr>\n",
       "    </tbody>\n",
       "</table>"
      ],
      "text/plain": [
       "Name   | Age\n",
       "Lawton | 32\n",
       "Lonzo  | 5\n",
       "Bill   | 33"
      ]
     },
     "execution_count": 8,
     "metadata": {},
     "output_type": "execute_result"
    }
   ],
   "source": [
    "people  # didn't change"
   ]
  },
  {
   "cell_type": "code",
   "execution_count": 9,
   "id": "2d38cf48-38a8-4931-9cb9-8321f25eab4b",
   "metadata": {},
   "outputs": [
    {
     "data": {
      "text/html": [
       "<table border=\"1\" class=\"dataframe\">\n",
       "    <thead>\n",
       "        <tr>\n",
       "            <th>Name</th> <th>Trips around the sun</th>\n",
       "        </tr>\n",
       "    </thead>\n",
       "    <tbody>\n",
       "        <tr>\n",
       "            <td>Lawton</td> <td>32                  </td>\n",
       "        </tr>\n",
       "        <tr>\n",
       "            <td>Lonzo </td> <td>5                   </td>\n",
       "        </tr>\n",
       "        <tr>\n",
       "            <td>Bill  </td> <td>33                  </td>\n",
       "        </tr>\n",
       "    </tbody>\n",
       "</table>"
      ],
      "text/plain": [
       "Name   | Trips around the sun\n",
       "Lawton | 32\n",
       "Lonzo  | 5\n",
       "Bill   | 33"
      ]
     },
     "execution_count": 9,
     "metadata": {},
     "output_type": "execute_result"
    }
   ],
   "source": [
    "people.relabeled('Age', 'Trips around the sun')"
   ]
  },
  {
   "cell_type": "code",
   "execution_count": 10,
   "id": "1fa621ae-d9d7-46d7-8235-fb47a65b0e99",
   "metadata": {},
   "outputs": [
    {
     "data": {
      "text/html": [
       "<table border=\"1\" class=\"dataframe\">\n",
       "    <thead>\n",
       "        <tr>\n",
       "            <th>Name</th> <th>Age</th>\n",
       "        </tr>\n",
       "    </thead>\n",
       "    <tbody>\n",
       "        <tr>\n",
       "            <td>Lawton</td> <td>32  </td>\n",
       "        </tr>\n",
       "        <tr>\n",
       "            <td>Lonzo </td> <td>5   </td>\n",
       "        </tr>\n",
       "        <tr>\n",
       "            <td>Bill  </td> <td>33  </td>\n",
       "        </tr>\n",
       "    </tbody>\n",
       "</table>"
      ],
      "text/plain": [
       "Name   | Age\n",
       "Lawton | 32\n",
       "Lonzo  | 5\n",
       "Bill   | 33"
      ]
     },
     "execution_count": 10,
     "metadata": {},
     "output_type": "execute_result"
    }
   ],
   "source": [
    "people"
   ]
  },
  {
   "cell_type": "markdown",
   "id": "e922f59f-d551-4108-ae62-d76b16f1a2ab",
   "metadata": {},
   "source": [
    "---"
   ]
  },
  {
   "cell_type": "code",
   "execution_count": 11,
   "id": "4969ab69-7d88-4c5e-be02-9d830d8c2b53",
   "metadata": {},
   "outputs": [
    {
     "data": {
      "text/html": [
       "<table border=\"1\" class=\"dataframe\">\n",
       "    <thead>\n",
       "        <tr>\n",
       "            <th>Flavor</th> <th>Color</th> <th>Price</th>\n",
       "        </tr>\n",
       "    </thead>\n",
       "    <tbody>\n",
       "        <tr>\n",
       "            <td>strawberry</td> <td>pink       </td> <td>3.55 </td>\n",
       "        </tr>\n",
       "        <tr>\n",
       "            <td>chocolate </td> <td>light brown</td> <td>4.75 </td>\n",
       "        </tr>\n",
       "        <tr>\n",
       "            <td>chocolate </td> <td>dark brown </td> <td>5.25 </td>\n",
       "        </tr>\n",
       "        <tr>\n",
       "            <td>vanilla   </td> <td>white      </td> <td>3.5  </td>\n",
       "        </tr>\n",
       "        <tr>\n",
       "            <td>strawberry</td> <td>pink       </td> <td>5.25 </td>\n",
       "        </tr>\n",
       "        <tr>\n",
       "            <td>chocolate </td> <td>dark brown </td> <td>5.25 </td>\n",
       "        </tr>\n",
       "        <tr>\n",
       "            <td>bubblegum </td> <td>pink       </td> <td>4.75 </td>\n",
       "        </tr>\n",
       "    </tbody>\n",
       "</table>"
      ],
      "text/plain": [
       "Flavor     | Color       | Price\n",
       "strawberry | pink        | 3.55\n",
       "chocolate  | light brown | 4.75\n",
       "chocolate  | dark brown  | 5.25\n",
       "vanilla    | white       | 3.5\n",
       "strawberry | pink        | 5.25\n",
       "chocolate  | dark brown  | 5.25\n",
       "bubblegum  | pink        | 4.75"
      ]
     },
     "execution_count": 11,
     "metadata": {},
     "output_type": "execute_result"
    }
   ],
   "source": [
    "cones = Table.read_table('data/cones.csv')\n",
    "cones"
   ]
  },
  {
   "cell_type": "code",
   "execution_count": 12,
   "id": "23125059-0613-4e04-aac4-8ca9b07ebb1b",
   "metadata": {},
   "outputs": [
    {
     "data": {
      "text/plain": [
       "3"
      ]
     },
     "execution_count": 12,
     "metadata": {},
     "output_type": "execute_result"
    }
   ],
   "source": [
    "cones.num_columns"
   ]
  },
  {
   "cell_type": "code",
   "execution_count": 13,
   "id": "26ba5c79-b475-4459-b60c-abe631a41ec2",
   "metadata": {},
   "outputs": [
    {
     "data": {
      "text/plain": [
       "7"
      ]
     },
     "execution_count": 13,
     "metadata": {},
     "output_type": "execute_result"
    }
   ],
   "source": [
    "cones.num_rows"
   ]
  },
  {
   "cell_type": "code",
   "execution_count": 14,
   "id": "5b82dbce-95c4-4b93-a4df-3630c3f39b74",
   "metadata": {},
   "outputs": [
    {
     "data": {
      "text/plain": [
       "('Flavor', 'Color', 'Price')"
      ]
     },
     "execution_count": 14,
     "metadata": {},
     "output_type": "execute_result"
    }
   ],
   "source": [
    "cones.labels"
   ]
  },
  {
   "cell_type": "code",
   "execution_count": 15,
   "id": "9a6572d9-3406-4f51-b6c3-645c957d3e20",
   "metadata": {},
   "outputs": [
    {
     "data": {
      "text/plain": [
       "array([ 3.55,  4.75,  5.25,  3.5 ,  5.25,  5.25,  4.75])"
      ]
     },
     "execution_count": 15,
     "metadata": {},
     "output_type": "execute_result"
    }
   ],
   "source": [
    "cones.column('Price')"
   ]
  },
  {
   "cell_type": "code",
   "execution_count": 16,
   "id": "0f57ee58-b85e-4b81-9e83-23f39d126e0f",
   "metadata": {},
   "outputs": [
    {
     "data": {
      "text/plain": [
       "array([ 3.55,  4.75,  5.25,  3.5 ,  5.25,  5.25,  4.75])"
      ]
     },
     "execution_count": 16,
     "metadata": {},
     "output_type": "execute_result"
    }
   ],
   "source": [
    "cones.column(2)"
   ]
  },
  {
   "cell_type": "code",
   "execution_count": 17,
   "id": "62dc8be8-adb9-479d-a362-1df15ae23a15",
   "metadata": {},
   "outputs": [
    {
     "data": {
      "text/plain": [
       "3.5"
      ]
     },
     "execution_count": 17,
     "metadata": {},
     "output_type": "execute_result"
    }
   ],
   "source": [
    "cones.column('Price').item(3)"
   ]
  },
  {
   "cell_type": "code",
   "execution_count": 18,
   "id": "890a0f7f-1235-400d-a718-cbdf0fdb1479",
   "metadata": {},
   "outputs": [
    {
     "data": {
      "text/plain": [
       "3.55"
      ]
     },
     "execution_count": 18,
     "metadata": {},
     "output_type": "execute_result"
    }
   ],
   "source": [
    "cones.column('Price').item(0)  # first one is at index 0"
   ]
  },
  {
   "cell_type": "code",
   "execution_count": 19,
   "id": "17c45b2a-1a18-488e-b96c-8c2560dc1cdc",
   "metadata": {},
   "outputs": [],
   "source": [
    "# crushed ice: calculate the total price after applying 8.75% sales tax to the Price column"
   ]
  },
  {
   "cell_type": "code",
   "execution_count": 20,
   "id": "22e0e981-946f-4b65-a532-c9df5d73dea0",
   "metadata": {},
   "outputs": [
    {
     "data": {
      "text/plain": [
       "array([ 3.860625,  5.165625,  5.709375,  3.80625 ,  5.709375,  5.709375,\n",
       "        5.165625])"
      ]
     },
     "execution_count": 20,
     "metadata": {},
     "output_type": "execute_result"
    }
   ],
   "source": [
    "# option 1\n",
    "tax = cones.column('Price') * .0875\n",
    "tax + cones.column('Price')"
   ]
  },
  {
   "cell_type": "code",
   "execution_count": 21,
   "id": "96de166b-e720-4602-a8dd-4cf185636bac",
   "metadata": {},
   "outputs": [
    {
     "data": {
      "text/plain": [
       "array([ 3.86,  5.17,  5.71,  3.81,  5.71,  5.71,  5.17])"
      ]
     },
     "execution_count": 21,
     "metadata": {},
     "output_type": "execute_result"
    }
   ],
   "source": [
    "# option 2\n",
    "import numpy as np\n",
    "np.round(cones.column('Price') * 1.0875, 2)"
   ]
  },
  {
   "cell_type": "code",
   "execution_count": 22,
   "id": "8681c575-5c8c-411b-b2e9-b840d7852a20",
   "metadata": {},
   "outputs": [
    {
     "data": {
      "text/html": [
       "<table border=\"1\" class=\"dataframe\">\n",
       "    <thead>\n",
       "        <tr>\n",
       "            <th>Flavor</th> <th>Color</th> <th>Price</th>\n",
       "        </tr>\n",
       "    </thead>\n",
       "    <tbody>\n",
       "        <tr>\n",
       "            <td>strawberry</td> <td>pink       </td> <td>3.55 </td>\n",
       "        </tr>\n",
       "        <tr>\n",
       "            <td>chocolate </td> <td>light brown</td> <td>4.75 </td>\n",
       "        </tr>\n",
       "        <tr>\n",
       "            <td>chocolate </td> <td>dark brown </td> <td>5.25 </td>\n",
       "        </tr>\n",
       "        <tr>\n",
       "            <td>vanilla   </td> <td>white      </td> <td>3.5  </td>\n",
       "        </tr>\n",
       "        <tr>\n",
       "            <td>strawberry</td> <td>pink       </td> <td>5.25 </td>\n",
       "        </tr>\n",
       "        <tr>\n",
       "            <td>chocolate </td> <td>dark brown </td> <td>5.25 </td>\n",
       "        </tr>\n",
       "        <tr>\n",
       "            <td>bubblegum </td> <td>pink       </td> <td>4.75 </td>\n",
       "        </tr>\n",
       "    </tbody>\n",
       "</table>"
      ],
      "text/plain": [
       "Flavor     | Color       | Price\n",
       "strawberry | pink        | 3.55\n",
       "chocolate  | light brown | 4.75\n",
       "chocolate  | dark brown  | 5.25\n",
       "vanilla    | white       | 3.5\n",
       "strawberry | pink        | 5.25\n",
       "chocolate  | dark brown  | 5.25\n",
       "bubblegum  | pink        | 4.75"
      ]
     },
     "execution_count": 22,
     "metadata": {},
     "output_type": "execute_result"
    }
   ],
   "source": [
    "cones"
   ]
  },
  {
   "cell_type": "code",
   "execution_count": 23,
   "id": "73bd2989-7a28-4410-8008-a9742ed9c37e",
   "metadata": {},
   "outputs": [
    {
     "data": {
      "text/html": [
       "<table border=\"1\" class=\"dataframe\">\n",
       "    <thead>\n",
       "        <tr>\n",
       "            <th>Flavor</th> <th>Color</th> <th>Price</th> <th>Price with tax</th>\n",
       "        </tr>\n",
       "    </thead>\n",
       "    <tbody>\n",
       "        <tr>\n",
       "            <td>strawberry</td> <td>pink       </td> <td>3.55 </td> <td>3.86062       </td>\n",
       "        </tr>\n",
       "        <tr>\n",
       "            <td>chocolate </td> <td>light brown</td> <td>4.75 </td> <td>5.16563       </td>\n",
       "        </tr>\n",
       "        <tr>\n",
       "            <td>chocolate </td> <td>dark brown </td> <td>5.25 </td> <td>5.70937       </td>\n",
       "        </tr>\n",
       "        <tr>\n",
       "            <td>vanilla   </td> <td>white      </td> <td>3.5  </td> <td>3.80625       </td>\n",
       "        </tr>\n",
       "        <tr>\n",
       "            <td>strawberry</td> <td>pink       </td> <td>5.25 </td> <td>5.70937       </td>\n",
       "        </tr>\n",
       "        <tr>\n",
       "            <td>chocolate </td> <td>dark brown </td> <td>5.25 </td> <td>5.70937       </td>\n",
       "        </tr>\n",
       "        <tr>\n",
       "            <td>bubblegum </td> <td>pink       </td> <td>4.75 </td> <td>5.16563       </td>\n",
       "        </tr>\n",
       "    </tbody>\n",
       "</table>"
      ],
      "text/plain": [
       "Flavor     | Color       | Price | Price with tax\n",
       "strawberry | pink        | 3.55  | 3.86062\n",
       "chocolate  | light brown | 4.75  | 5.16563\n",
       "chocolate  | dark brown  | 5.25  | 5.70937\n",
       "vanilla    | white       | 3.5   | 3.80625\n",
       "strawberry | pink        | 5.25  | 5.70937\n",
       "chocolate  | dark brown  | 5.25  | 5.70937\n",
       "bubblegum  | pink        | 4.75  | 5.16563"
      ]
     },
     "execution_count": 23,
     "metadata": {},
     "output_type": "execute_result"
    }
   ],
   "source": [
    "tax_rate = 0.0875\n",
    "tax = cones.column('Price') * .0875\n",
    "cones = cones.with_column('Price with tax', tax + cones.column('Price'))\n",
    "cones"
   ]
  },
  {
   "cell_type": "code",
   "execution_count": 24,
   "id": "380a322c-2357-4c4c-a1a2-45a54525b586",
   "metadata": {},
   "outputs": [
    {
     "data": {
      "text/html": [
       "<table border=\"1\" class=\"dataframe\">\n",
       "    <thead>\n",
       "        <tr>\n",
       "            <th>Flavor</th> <th>Color</th> <th>Price</th> <th>Price with tax</th>\n",
       "        </tr>\n",
       "    </thead>\n",
       "    <tbody>\n",
       "        <tr>\n",
       "            <td>strawberry</td> <td>pink       </td> <td>3.55 </td> <td>$3.86         </td>\n",
       "        </tr>\n",
       "        <tr>\n",
       "            <td>chocolate </td> <td>light brown</td> <td>4.75 </td> <td>$5.17         </td>\n",
       "        </tr>\n",
       "        <tr>\n",
       "            <td>chocolate </td> <td>dark brown </td> <td>5.25 </td> <td>$5.71         </td>\n",
       "        </tr>\n",
       "        <tr>\n",
       "            <td>vanilla   </td> <td>white      </td> <td>3.5  </td> <td>$3.81         </td>\n",
       "        </tr>\n",
       "        <tr>\n",
       "            <td>strawberry</td> <td>pink       </td> <td>5.25 </td> <td>$5.71         </td>\n",
       "        </tr>\n",
       "        <tr>\n",
       "            <td>chocolate </td> <td>dark brown </td> <td>5.25 </td> <td>$5.71         </td>\n",
       "        </tr>\n",
       "        <tr>\n",
       "            <td>bubblegum </td> <td>pink       </td> <td>4.75 </td> <td>$5.17         </td>\n",
       "        </tr>\n",
       "    </tbody>\n",
       "</table>"
      ],
      "text/plain": [
       "Flavor     | Color       | Price | Price with tax\n",
       "strawberry | pink        | 3.55  | $3.86\n",
       "chocolate  | light brown | 4.75  | $5.17\n",
       "chocolate  | dark brown  | 5.25  | $5.71\n",
       "vanilla    | white       | 3.5   | $3.81\n",
       "strawberry | pink        | 5.25  | $5.71\n",
       "chocolate  | dark brown  | 5.25  | $5.71\n",
       "bubblegum  | pink        | 4.75  | $5.17"
      ]
     },
     "execution_count": 24,
     "metadata": {},
     "output_type": "execute_result"
    }
   ],
   "source": [
    "cones.set_format('Price with tax', CurrencyFormatter)"
   ]
  },
  {
   "cell_type": "code",
   "execution_count": 25,
   "id": "2010a740-a0d1-4ddb-a449-4951d354c7a8",
   "metadata": {},
   "outputs": [
    {
     "data": {
      "text/html": [
       "<table border=\"1\" class=\"dataframe\">\n",
       "    <thead>\n",
       "        <tr>\n",
       "            <th>x</th>\n",
       "        </tr>\n",
       "    </thead>\n",
       "    <tbody>\n",
       "        <tr>\n",
       "            <td>1,000            </td>\n",
       "        </tr>\n",
       "        <tr>\n",
       "            <td>10,000           </td>\n",
       "        </tr>\n",
       "        <tr>\n",
       "            <td>9,999,999,999,999</td>\n",
       "        </tr>\n",
       "    </tbody>\n",
       "</table>"
      ],
      "text/plain": [
       "x\n",
       "1,000\n",
       "10,000\n",
       "9,999,999,999,999"
      ]
     },
     "execution_count": 25,
     "metadata": {},
     "output_type": "execute_result"
    }
   ],
   "source": [
    "Table().with_column('x', make_array(1000, 10000, 9999999999999)).set_format('x', NumberFormatter)"
   ]
  },
  {
   "cell_type": "code",
   "execution_count": 26,
   "id": "9e4f5ec8-79db-4049-82b8-a43533a46bb6",
   "metadata": {},
   "outputs": [
    {
     "data": {
      "text/html": [
       "<table border=\"1\" class=\"dataframe\">\n",
       "    <thead>\n",
       "        <tr>\n",
       "            <th>x</th>\n",
       "        </tr>\n",
       "    </thead>\n",
       "    <tbody>\n",
       "        <tr>\n",
       "            <td>50.00%</td>\n",
       "        </tr>\n",
       "        <tr>\n",
       "            <td>75.00%</td>\n",
       "        </tr>\n",
       "        <tr>\n",
       "            <td>99.99%</td>\n",
       "        </tr>\n",
       "    </tbody>\n",
       "</table>"
      ],
      "text/plain": [
       "x\n",
       "50.00%\n",
       "75.00%\n",
       "99.99%"
      ]
     },
     "execution_count": 26,
     "metadata": {},
     "output_type": "execute_result"
    }
   ],
   "source": [
    "Table().with_column('x', make_array(0.5, 0.75, 0.9999)).set_format('x', PercentFormatter)"
   ]
  },
  {
   "cell_type": "code",
   "execution_count": 27,
   "id": "9099e8cc-02d2-4a0d-bfe2-a50023796cde",
   "metadata": {},
   "outputs": [
    {
     "data": {
      "text/html": [
       "<table border=\"1\" class=\"dataframe\">\n",
       "    <thead>\n",
       "        <tr>\n",
       "            <th>Flavor</th> <th>Color</th> <th>Price</th> <th>Price with tax</th>\n",
       "        </tr>\n",
       "    </thead>\n",
       "    <tbody>\n",
       "        <tr>\n",
       "            <td>strawberry</td> <td>pink       </td> <td>3.55 </td> <td>$3.86         </td>\n",
       "        </tr>\n",
       "        <tr>\n",
       "            <td>chocolate </td> <td>light brown</td> <td>4.75 </td> <td>$5.17         </td>\n",
       "        </tr>\n",
       "        <tr>\n",
       "            <td>chocolate </td> <td>dark brown </td> <td>5.25 </td> <td>$5.71         </td>\n",
       "        </tr>\n",
       "        <tr>\n",
       "            <td>vanilla   </td> <td>white      </td> <td>3.5  </td> <td>$3.81         </td>\n",
       "        </tr>\n",
       "        <tr>\n",
       "            <td>strawberry</td> <td>pink       </td> <td>5.25 </td> <td>$5.71         </td>\n",
       "        </tr>\n",
       "        <tr>\n",
       "            <td>chocolate </td> <td>dark brown </td> <td>5.25 </td> <td>$5.71         </td>\n",
       "        </tr>\n",
       "        <tr>\n",
       "            <td>bubblegum </td> <td>pink       </td> <td>4.75 </td> <td>$5.17         </td>\n",
       "        </tr>\n",
       "    </tbody>\n",
       "</table>"
      ],
      "text/plain": [
       "Flavor     | Color       | Price | Price with tax\n",
       "strawberry | pink        | 3.55  | $3.86\n",
       "chocolate  | light brown | 4.75  | $5.17\n",
       "chocolate  | dark brown  | 5.25  | $5.71\n",
       "vanilla    | white       | 3.5   | $3.81\n",
       "strawberry | pink        | 5.25  | $5.71\n",
       "chocolate  | dark brown  | 5.25  | $5.71\n",
       "bubblegum  | pink        | 4.75  | $5.17"
      ]
     },
     "execution_count": 27,
     "metadata": {},
     "output_type": "execute_result"
    }
   ],
   "source": [
    "cones"
   ]
  },
  {
   "cell_type": "code",
   "execution_count": 28,
   "id": "9e5222d6-1822-424c-978e-42b5b8c4ba31",
   "metadata": {},
   "outputs": [
    {
     "data": {
      "text/html": [
       "<table border=\"1\" class=\"dataframe\">\n",
       "    <thead>\n",
       "        <tr>\n",
       "            <th>Flavor</th> <th>Price with tax</th>\n",
       "        </tr>\n",
       "    </thead>\n",
       "    <tbody>\n",
       "        <tr>\n",
       "            <td>strawberry</td> <td>$3.86         </td>\n",
       "        </tr>\n",
       "        <tr>\n",
       "            <td>chocolate </td> <td>$5.17         </td>\n",
       "        </tr>\n",
       "        <tr>\n",
       "            <td>chocolate </td> <td>$5.71         </td>\n",
       "        </tr>\n",
       "        <tr>\n",
       "            <td>vanilla   </td> <td>$3.81         </td>\n",
       "        </tr>\n",
       "        <tr>\n",
       "            <td>strawberry</td> <td>$5.71         </td>\n",
       "        </tr>\n",
       "        <tr>\n",
       "            <td>chocolate </td> <td>$5.71         </td>\n",
       "        </tr>\n",
       "        <tr>\n",
       "            <td>bubblegum </td> <td>$5.17         </td>\n",
       "        </tr>\n",
       "    </tbody>\n",
       "</table>"
      ],
      "text/plain": [
       "Flavor     | Price with tax\n",
       "strawberry | $3.86\n",
       "chocolate  | $5.17\n",
       "chocolate  | $5.71\n",
       "vanilla    | $3.81\n",
       "strawberry | $5.71\n",
       "chocolate  | $5.71\n",
       "bubblegum  | $5.17"
      ]
     },
     "execution_count": 28,
     "metadata": {},
     "output_type": "execute_result"
    }
   ],
   "source": [
    "cones.select('Flavor', \"Price with tax\")"
   ]
  },
  {
   "cell_type": "code",
   "execution_count": 29,
   "id": "7049151c-0d5f-4c06-8c8c-5a6166656950",
   "metadata": {},
   "outputs": [
    {
     "data": {
      "text/html": [
       "<table border=\"1\" class=\"dataframe\">\n",
       "    <thead>\n",
       "        <tr>\n",
       "            <th>Flavor</th> <th>Price with tax</th>\n",
       "        </tr>\n",
       "    </thead>\n",
       "    <tbody>\n",
       "        <tr>\n",
       "            <td>strawberry</td> <td>$3.86         </td>\n",
       "        </tr>\n",
       "        <tr>\n",
       "            <td>chocolate </td> <td>$5.17         </td>\n",
       "        </tr>\n",
       "        <tr>\n",
       "            <td>chocolate </td> <td>$5.71         </td>\n",
       "        </tr>\n",
       "        <tr>\n",
       "            <td>vanilla   </td> <td>$3.81         </td>\n",
       "        </tr>\n",
       "        <tr>\n",
       "            <td>strawberry</td> <td>$5.71         </td>\n",
       "        </tr>\n",
       "        <tr>\n",
       "            <td>chocolate </td> <td>$5.71         </td>\n",
       "        </tr>\n",
       "        <tr>\n",
       "            <td>bubblegum </td> <td>$5.17         </td>\n",
       "        </tr>\n",
       "    </tbody>\n",
       "</table>"
      ],
      "text/plain": [
       "Flavor     | Price with tax\n",
       "strawberry | $3.86\n",
       "chocolate  | $5.17\n",
       "chocolate  | $5.71\n",
       "vanilla    | $3.81\n",
       "strawberry | $5.71\n",
       "chocolate  | $5.71\n",
       "bubblegum  | $5.17"
      ]
     },
     "execution_count": 29,
     "metadata": {},
     "output_type": "execute_result"
    }
   ],
   "source": [
    "cones.select(0, 3)  # indices work too"
   ]
  },
  {
   "cell_type": "code",
   "execution_count": 30,
   "id": "28021335-c429-4ea4-91e2-858a28cea1c8",
   "metadata": {},
   "outputs": [
    {
     "data": {
      "text/html": [
       "<table border=\"1\" class=\"dataframe\">\n",
       "    <thead>\n",
       "        <tr>\n",
       "            <th>Flavor</th>\n",
       "        </tr>\n",
       "    </thead>\n",
       "    <tbody>\n",
       "        <tr>\n",
       "            <td>strawberry</td>\n",
       "        </tr>\n",
       "        <tr>\n",
       "            <td>chocolate </td>\n",
       "        </tr>\n",
       "        <tr>\n",
       "            <td>chocolate </td>\n",
       "        </tr>\n",
       "        <tr>\n",
       "            <td>vanilla   </td>\n",
       "        </tr>\n",
       "        <tr>\n",
       "            <td>strawberry</td>\n",
       "        </tr>\n",
       "        <tr>\n",
       "            <td>chocolate </td>\n",
       "        </tr>\n",
       "        <tr>\n",
       "            <td>bubblegum </td>\n",
       "        </tr>\n",
       "    </tbody>\n",
       "</table>"
      ],
      "text/plain": [
       "Flavor\n",
       "strawberry\n",
       "chocolate\n",
       "chocolate\n",
       "vanilla\n",
       "strawberry\n",
       "chocolate\n",
       "bubblegum"
      ]
     },
     "execution_count": 30,
     "metadata": {},
     "output_type": "execute_result"
    }
   ],
   "source": [
    "cones.select('Flavor')"
   ]
  },
  {
   "cell_type": "code",
   "execution_count": 31,
   "id": "db837c20-31ae-4534-accb-965cbfc22ae9",
   "metadata": {},
   "outputs": [
    {
     "data": {
      "text/plain": [
       "array(['strawberry', 'chocolate', 'chocolate', 'vanilla', 'strawberry',\n",
       "       'chocolate', 'bubblegum'],\n",
       "      dtype='<U10')"
      ]
     },
     "execution_count": 31,
     "metadata": {},
     "output_type": "execute_result"
    }
   ],
   "source": [
    "cones.column('Flavor') # only this one makes an array"
   ]
  },
  {
   "cell_type": "code",
   "execution_count": 33,
   "id": "82eb1d62-39b8-44dc-88fc-eca76c55c802",
   "metadata": {},
   "outputs": [
    {
     "data": {
      "text/html": [
       "<table border=\"1\" class=\"dataframe\">\n",
       "    <thead>\n",
       "        <tr>\n",
       "            <th>Flavor</th> <th>Color</th> <th>Price with tax</th>\n",
       "        </tr>\n",
       "    </thead>\n",
       "    <tbody>\n",
       "        <tr>\n",
       "            <td>strawberry</td> <td>pink       </td> <td>$3.86         </td>\n",
       "        </tr>\n",
       "        <tr>\n",
       "            <td>chocolate </td> <td>light brown</td> <td>$5.17         </td>\n",
       "        </tr>\n",
       "        <tr>\n",
       "            <td>chocolate </td> <td>dark brown </td> <td>$5.71         </td>\n",
       "        </tr>\n",
       "        <tr>\n",
       "            <td>vanilla   </td> <td>white      </td> <td>$3.81         </td>\n",
       "        </tr>\n",
       "        <tr>\n",
       "            <td>strawberry</td> <td>pink       </td> <td>$5.71         </td>\n",
       "        </tr>\n",
       "        <tr>\n",
       "            <td>chocolate </td> <td>dark brown </td> <td>$5.71         </td>\n",
       "        </tr>\n",
       "        <tr>\n",
       "            <td>bubblegum </td> <td>pink       </td> <td>$5.17         </td>\n",
       "        </tr>\n",
       "    </tbody>\n",
       "</table>"
      ],
      "text/plain": [
       "Flavor     | Color       | Price with tax\n",
       "strawberry | pink        | $3.86\n",
       "chocolate  | light brown | $5.17\n",
       "chocolate  | dark brown  | $5.71\n",
       "vanilla    | white       | $3.81\n",
       "strawberry | pink        | $5.71\n",
       "chocolate  | dark brown  | $5.71\n",
       "bubblegum  | pink        | $5.17"
      ]
     },
     "execution_count": 33,
     "metadata": {},
     "output_type": "execute_result"
    }
   ],
   "source": [
    "cones.drop('Price')  # makes a new Table, as usual"
   ]
  },
  {
   "cell_type": "code",
   "execution_count": 35,
   "id": "e87ad42b-b6ba-4355-8898-2bedcb171dae",
   "metadata": {},
   "outputs": [
    {
     "data": {
      "text/html": [
       "<table border=\"1\" class=\"dataframe\">\n",
       "    <thead>\n",
       "        <tr>\n",
       "            <th>Flavor</th> <th>Color</th> <th>Price</th> <th>Price with tax</th>\n",
       "        </tr>\n",
       "    </thead>\n",
       "    <tbody>\n",
       "        <tr>\n",
       "            <td>vanilla   </td> <td>white      </td> <td>3.5  </td> <td>$3.81         </td>\n",
       "        </tr>\n",
       "        <tr>\n",
       "            <td>strawberry</td> <td>pink       </td> <td>3.55 </td> <td>$3.86         </td>\n",
       "        </tr>\n",
       "        <tr>\n",
       "            <td>chocolate </td> <td>light brown</td> <td>4.75 </td> <td>$5.17         </td>\n",
       "        </tr>\n",
       "        <tr>\n",
       "            <td>bubblegum </td> <td>pink       </td> <td>4.75 </td> <td>$5.17         </td>\n",
       "        </tr>\n",
       "        <tr>\n",
       "            <td>chocolate </td> <td>dark brown </td> <td>5.25 </td> <td>$5.71         </td>\n",
       "        </tr>\n",
       "        <tr>\n",
       "            <td>strawberry</td> <td>pink       </td> <td>5.25 </td> <td>$5.71         </td>\n",
       "        </tr>\n",
       "        <tr>\n",
       "            <td>chocolate </td> <td>dark brown </td> <td>5.25 </td> <td>$5.71         </td>\n",
       "        </tr>\n",
       "    </tbody>\n",
       "</table>"
      ],
      "text/plain": [
       "Flavor     | Color       | Price | Price with tax\n",
       "vanilla    | white       | 3.5   | $3.81\n",
       "strawberry | pink        | 3.55  | $3.86\n",
       "chocolate  | light brown | 4.75  | $5.17\n",
       "bubblegum  | pink        | 4.75  | $5.17\n",
       "chocolate  | dark brown  | 5.25  | $5.71\n",
       "strawberry | pink        | 5.25  | $5.71\n",
       "chocolate  | dark brown  | 5.25  | $5.71"
      ]
     },
     "execution_count": 35,
     "metadata": {},
     "output_type": "execute_result"
    }
   ],
   "source": [
    "cones.sort('Price with tax')"
   ]
  },
  {
   "cell_type": "code",
   "execution_count": 36,
   "id": "df7d8e06-cc00-48b0-b0f6-587d8a6329b9",
   "metadata": {},
   "outputs": [
    {
     "data": {
      "text/html": [
       "<table border=\"1\" class=\"dataframe\">\n",
       "    <thead>\n",
       "        <tr>\n",
       "            <th>Flavor</th> <th>Color</th> <th>Price</th> <th>Price with tax</th>\n",
       "        </tr>\n",
       "    </thead>\n",
       "    <tbody>\n",
       "        <tr>\n",
       "            <td>chocolate </td> <td>dark brown </td> <td>5.25 </td> <td>$5.71         </td>\n",
       "        </tr>\n",
       "        <tr>\n",
       "            <td>strawberry</td> <td>pink       </td> <td>5.25 </td> <td>$5.71         </td>\n",
       "        </tr>\n",
       "        <tr>\n",
       "            <td>chocolate </td> <td>dark brown </td> <td>5.25 </td> <td>$5.71         </td>\n",
       "        </tr>\n",
       "        <tr>\n",
       "            <td>chocolate </td> <td>light brown</td> <td>4.75 </td> <td>$5.17         </td>\n",
       "        </tr>\n",
       "        <tr>\n",
       "            <td>bubblegum </td> <td>pink       </td> <td>4.75 </td> <td>$5.17         </td>\n",
       "        </tr>\n",
       "        <tr>\n",
       "            <td>strawberry</td> <td>pink       </td> <td>3.55 </td> <td>$3.86         </td>\n",
       "        </tr>\n",
       "        <tr>\n",
       "            <td>vanilla   </td> <td>white      </td> <td>3.5  </td> <td>$3.81         </td>\n",
       "        </tr>\n",
       "    </tbody>\n",
       "</table>"
      ],
      "text/plain": [
       "Flavor     | Color       | Price | Price with tax\n",
       "chocolate  | dark brown  | 5.25  | $5.71\n",
       "strawberry | pink        | 5.25  | $5.71\n",
       "chocolate  | dark brown  | 5.25  | $5.71\n",
       "chocolate  | light brown | 4.75  | $5.17\n",
       "bubblegum  | pink        | 4.75  | $5.17\n",
       "strawberry | pink        | 3.55  | $3.86\n",
       "vanilla    | white       | 3.5   | $3.81"
      ]
     },
     "execution_count": 36,
     "metadata": {},
     "output_type": "execute_result"
    }
   ],
   "source": [
    "cones.sort('Price with tax', descending=True)"
   ]
  },
  {
   "cell_type": "code",
   "execution_count": 37,
   "id": "50256364-4dba-422d-a207-dd2aac2610e0",
   "metadata": {},
   "outputs": [
    {
     "data": {
      "text/html": [
       "<table border=\"1\" class=\"dataframe\">\n",
       "    <thead>\n",
       "        <tr>\n",
       "            <th>Flavor</th> <th>Color</th> <th>Price</th> <th>Price with tax</th>\n",
       "        </tr>\n",
       "    </thead>\n",
       "    <tbody>\n",
       "        <tr>\n",
       "            <td>strawberry</td> <td>pink       </td> <td>3.55 </td> <td>$3.86         </td>\n",
       "        </tr>\n",
       "        <tr>\n",
       "            <td>chocolate </td> <td>light brown</td> <td>4.75 </td> <td>$5.17         </td>\n",
       "        </tr>\n",
       "        <tr>\n",
       "            <td>chocolate </td> <td>dark brown </td> <td>5.25 </td> <td>$5.71         </td>\n",
       "        </tr>\n",
       "        <tr>\n",
       "            <td>vanilla   </td> <td>white      </td> <td>3.5  </td> <td>$3.81         </td>\n",
       "        </tr>\n",
       "        <tr>\n",
       "            <td>strawberry</td> <td>pink       </td> <td>5.25 </td> <td>$5.71         </td>\n",
       "        </tr>\n",
       "        <tr>\n",
       "            <td>chocolate </td> <td>dark brown </td> <td>5.25 </td> <td>$5.71         </td>\n",
       "        </tr>\n",
       "        <tr>\n",
       "            <td>bubblegum </td> <td>pink       </td> <td>4.75 </td> <td>$5.17         </td>\n",
       "        </tr>\n",
       "    </tbody>\n",
       "</table>"
      ],
      "text/plain": [
       "Flavor     | Color       | Price | Price with tax\n",
       "strawberry | pink        | 3.55  | $3.86\n",
       "chocolate  | light brown | 4.75  | $5.17\n",
       "chocolate  | dark brown  | 5.25  | $5.71\n",
       "vanilla    | white       | 3.5   | $3.81\n",
       "strawberry | pink        | 5.25  | $5.71\n",
       "chocolate  | dark brown  | 5.25  | $5.71\n",
       "bubblegum  | pink        | 4.75  | $5.17"
      ]
     },
     "execution_count": 37,
     "metadata": {},
     "output_type": "execute_result"
    }
   ],
   "source": [
    "cones"
   ]
  },
  {
   "cell_type": "code",
   "execution_count": 38,
   "id": "ff1fe4c4-e29c-4e91-b2aa-28a6f620b488",
   "metadata": {},
   "outputs": [
    {
     "data": {
      "text/html": [
       "<table border=\"1\" class=\"dataframe\">\n",
       "    <thead>\n",
       "        <tr>\n",
       "            <th>Flavor</th> <th>Color</th> <th>Price</th> <th>Price with tax</th>\n",
       "        </tr>\n",
       "    </thead>\n",
       "    <tbody>\n",
       "        <tr>\n",
       "            <td>strawberry</td> <td>pink </td> <td>5.25 </td> <td>$5.71         </td>\n",
       "        </tr>\n",
       "    </tbody>\n",
       "</table>"
      ],
      "text/plain": [
       "Flavor     | Color | Price | Price with tax\n",
       "strawberry | pink  | 5.25  | $5.71"
      ]
     },
     "execution_count": 38,
     "metadata": {},
     "output_type": "execute_result"
    }
   ],
   "source": [
    "cones.take(4)"
   ]
  },
  {
   "cell_type": "code",
   "execution_count": 40,
   "id": "01034f5d-b31f-4aed-ac4e-55f20e2cc234",
   "metadata": {},
   "outputs": [
    {
     "data": {
      "text/html": [
       "<table border=\"1\" class=\"dataframe\">\n",
       "    <thead>\n",
       "        <tr>\n",
       "            <th>Flavor</th> <th>Color</th> <th>Price</th> <th>Price with tax</th>\n",
       "        </tr>\n",
       "    </thead>\n",
       "    <tbody>\n",
       "        <tr>\n",
       "            <td>chocolate</td> <td>light brown</td> <td>4.75 </td> <td>$5.17         </td>\n",
       "        </tr>\n",
       "        <tr>\n",
       "            <td>vanilla  </td> <td>white      </td> <td>3.5  </td> <td>$3.81         </td>\n",
       "        </tr>\n",
       "        <tr>\n",
       "            <td>chocolate</td> <td>dark brown </td> <td>5.25 </td> <td>$5.71         </td>\n",
       "        </tr>\n",
       "    </tbody>\n",
       "</table>"
      ],
      "text/plain": [
       "Flavor    | Color       | Price | Price with tax\n",
       "chocolate | light brown | 4.75  | $5.17\n",
       "vanilla   | white       | 3.5   | $3.81\n",
       "chocolate | dark brown  | 5.25  | $5.71"
      ]
     },
     "execution_count": 40,
     "metadata": {},
     "output_type": "execute_result"
    }
   ],
   "source": [
    "cones.take(1, 3, 5)"
   ]
  },
  {
   "cell_type": "code",
   "execution_count": 44,
   "id": "ac1fb9d2-a811-46fb-aa95-786e6130de50",
   "metadata": {},
   "outputs": [
    {
     "data": {
      "text/html": [
       "<table border=\"1\" class=\"dataframe\">\n",
       "    <thead>\n",
       "        <tr>\n",
       "            <th>Flavor</th> <th>Color</th> <th>Price</th> <th>Price with tax</th>\n",
       "        </tr>\n",
       "    </thead>\n",
       "    <tbody>\n",
       "        <tr>\n",
       "            <td>chocolate</td> <td>light brown</td> <td>4.75 </td> <td>$5.17         </td>\n",
       "        </tr>\n",
       "        <tr>\n",
       "            <td>vanilla  </td> <td>white      </td> <td>3.5  </td> <td>$3.81         </td>\n",
       "        </tr>\n",
       "        <tr>\n",
       "            <td>chocolate</td> <td>dark brown </td> <td>5.25 </td> <td>$5.71         </td>\n",
       "        </tr>\n",
       "    </tbody>\n",
       "</table>"
      ],
      "text/plain": [
       "Flavor    | Color       | Price | Price with tax\n",
       "chocolate | light brown | 4.75  | $5.17\n",
       "vanilla   | white       | 3.5   | $3.81\n",
       "chocolate | dark brown  | 5.25  | $5.71"
      ]
     },
     "execution_count": 44,
     "metadata": {},
     "output_type": "execute_result"
    }
   ],
   "source": [
    "import numpy as np\n",
    "cones.take(np.arange(1, cones.num_rows, 2))  # all the odd indices"
   ]
  },
  {
   "cell_type": "code",
   "execution_count": 45,
   "id": "2157d6be-3e47-49a5-bb29-ed8bdd1eeb9d",
   "metadata": {},
   "outputs": [
    {
     "data": {
      "text/html": [
       "<table border=\"1\" class=\"dataframe\">\n",
       "    <thead>\n",
       "        <tr>\n",
       "            <th>Flavor</th> <th>Color</th> <th>Price</th> <th>Price with tax</th>\n",
       "        </tr>\n",
       "    </thead>\n",
       "    <tbody>\n",
       "        <tr>\n",
       "            <td>strawberry</td> <td>pink       </td> <td>3.55 </td> <td>$3.86         </td>\n",
       "        </tr>\n",
       "        <tr>\n",
       "            <td>chocolate </td> <td>light brown</td> <td>4.75 </td> <td>$5.17         </td>\n",
       "        </tr>\n",
       "        <tr>\n",
       "            <td>chocolate </td> <td>dark brown </td> <td>5.25 </td> <td>$5.71         </td>\n",
       "        </tr>\n",
       "        <tr>\n",
       "            <td>vanilla   </td> <td>white      </td> <td>3.5  </td> <td>$3.81         </td>\n",
       "        </tr>\n",
       "        <tr>\n",
       "            <td>strawberry</td> <td>pink       </td> <td>5.25 </td> <td>$5.71         </td>\n",
       "        </tr>\n",
       "        <tr>\n",
       "            <td>chocolate </td> <td>dark brown </td> <td>5.25 </td> <td>$5.71         </td>\n",
       "        </tr>\n",
       "        <tr>\n",
       "            <td>bubblegum </td> <td>pink       </td> <td>4.75 </td> <td>$5.17         </td>\n",
       "        </tr>\n",
       "    </tbody>\n",
       "</table>"
      ],
      "text/plain": [
       "Flavor     | Color       | Price | Price with tax\n",
       "strawberry | pink        | 3.55  | $3.86\n",
       "chocolate  | light brown | 4.75  | $5.17\n",
       "chocolate  | dark brown  | 5.25  | $5.71\n",
       "vanilla    | white       | 3.5   | $3.81\n",
       "strawberry | pink        | 5.25  | $5.71\n",
       "chocolate  | dark brown  | 5.25  | $5.71\n",
       "bubblegum  | pink        | 4.75  | $5.17"
      ]
     },
     "execution_count": 45,
     "metadata": {},
     "output_type": "execute_result"
    }
   ],
   "source": [
    "cones"
   ]
  },
  {
   "cell_type": "code",
   "execution_count": 47,
   "id": "4ab7aad0-172a-4502-ac10-9061a2e120c7",
   "metadata": {},
   "outputs": [
    {
     "data": {
      "text/html": [
       "<table border=\"1\" class=\"dataframe\">\n",
       "    <thead>\n",
       "        <tr>\n",
       "            <th>Flavor</th> <th>Color</th> <th>Price</th> <th>Price with tax</th>\n",
       "        </tr>\n",
       "    </thead>\n",
       "    <tbody>\n",
       "        <tr>\n",
       "            <td>chocolate</td> <td>light brown</td> <td>4.75 </td> <td>$5.17         </td>\n",
       "        </tr>\n",
       "        <tr>\n",
       "            <td>chocolate</td> <td>dark brown </td> <td>5.25 </td> <td>$5.71         </td>\n",
       "        </tr>\n",
       "        <tr>\n",
       "            <td>chocolate</td> <td>dark brown </td> <td>5.25 </td> <td>$5.71         </td>\n",
       "        </tr>\n",
       "    </tbody>\n",
       "</table>"
      ],
      "text/plain": [
       "Flavor    | Color       | Price | Price with tax\n",
       "chocolate | light brown | 4.75  | $5.17\n",
       "chocolate | dark brown  | 5.25  | $5.71\n",
       "chocolate | dark brown  | 5.25  | $5.71"
      ]
     },
     "execution_count": 47,
     "metadata": {},
     "output_type": "execute_result"
    }
   ],
   "source": [
    "cones.where('Flavor', 'chocolate')  # by default, this is an equality check"
   ]
  },
  {
   "cell_type": "code",
   "execution_count": 48,
   "id": "a5646f04-0198-4a0e-88dd-58e94ce0da29",
   "metadata": {},
   "outputs": [
    {
     "data": {
      "text/html": [
       "<table border=\"1\" class=\"dataframe\">\n",
       "    <thead>\n",
       "        <tr>\n",
       "            <th>Flavor</th> <th>Color</th> <th>Price</th> <th>Price with tax</th>\n",
       "        </tr>\n",
       "    </thead>\n",
       "    <tbody>\n",
       "        <tr>\n",
       "            <td>chocolate</td> <td>light brown</td> <td>4.75 </td> <td>$5.17         </td>\n",
       "        </tr>\n",
       "        <tr>\n",
       "            <td>chocolate</td> <td>dark brown </td> <td>5.25 </td> <td>$5.71         </td>\n",
       "        </tr>\n",
       "        <tr>\n",
       "            <td>chocolate</td> <td>dark brown </td> <td>5.25 </td> <td>$5.71         </td>\n",
       "        </tr>\n",
       "    </tbody>\n",
       "</table>"
      ],
      "text/plain": [
       "Flavor    | Color       | Price | Price with tax\n",
       "chocolate | light brown | 4.75  | $5.17\n",
       "chocolate | dark brown  | 5.25  | $5.71\n",
       "chocolate | dark brown  | 5.25  | $5.71"
      ]
     },
     "execution_count": 48,
     "metadata": {},
     "output_type": "execute_result"
    }
   ],
   "source": [
    "cones.where('Flavor', are.equal_to('chocolate'))  # the above is shorthand for this"
   ]
  },
  {
   "cell_type": "code",
   "execution_count": 50,
   "id": "bb891141-fa1f-4b67-a6ff-29266492686c",
   "metadata": {},
   "outputs": [
    {
     "data": {
      "text/html": [
       "<table border=\"1\" class=\"dataframe\">\n",
       "    <thead>\n",
       "        <tr>\n",
       "            <th>Flavor</th> <th>Color</th> <th>Price</th> <th>Price with tax</th>\n",
       "        </tr>\n",
       "    </thead>\n",
       "    <tbody>\n",
       "        <tr>\n",
       "            <td>strawberry</td> <td>pink </td> <td>3.55 </td> <td>$3.86         </td>\n",
       "        </tr>\n",
       "        <tr>\n",
       "            <td>vanilla   </td> <td>white</td> <td>3.5  </td> <td>$3.81         </td>\n",
       "        </tr>\n",
       "    </tbody>\n",
       "</table>"
      ],
      "text/plain": [
       "Flavor     | Color | Price | Price with tax\n",
       "strawberry | pink  | 3.55  | $3.86\n",
       "vanilla    | white | 3.5   | $3.81"
      ]
     },
     "execution_count": 50,
     "metadata": {},
     "output_type": "execute_result"
    }
   ],
   "source": [
    "cones.where('Price with tax', are.below_or_equal_to(5))"
   ]
  },
  {
   "cell_type": "code",
   "execution_count": 51,
   "id": "08dfce3a-3c61-44b4-9bd1-7f4d13401e6a",
   "metadata": {},
   "outputs": [
    {
     "data": {
      "text/html": [
       "<table border=\"1\" class=\"dataframe\">\n",
       "    <thead>\n",
       "        <tr>\n",
       "            <th>Flavor</th> <th>Color</th> <th>Price</th> <th>Price with tax</th>\n",
       "        </tr>\n",
       "    </thead>\n",
       "    <tbody>\n",
       "        <tr>\n",
       "            <td>vanilla   </td> <td>white</td> <td>3.5  </td> <td>$3.81         </td>\n",
       "        </tr>\n",
       "        <tr>\n",
       "            <td>strawberry</td> <td>pink </td> <td>3.55 </td> <td>$3.86         </td>\n",
       "        </tr>\n",
       "    </tbody>\n",
       "</table>"
      ],
      "text/plain": [
       "Flavor     | Color | Price | Price with tax\n",
       "vanilla    | white | 3.5   | $3.81\n",
       "strawberry | pink  | 3.55  | $3.86"
      ]
     },
     "execution_count": 51,
     "metadata": {},
     "output_type": "execute_result"
    }
   ],
   "source": [
    "cones.where('Price with tax', are.below_or_equal_to(5)).sort('Price with tax')"
   ]
  },
  {
   "cell_type": "code",
   "execution_count": 52,
   "id": "6906fa93-f690-48ac-a7aa-9b458fc1d4cd",
   "metadata": {},
   "outputs": [
    {
     "data": {
      "text/html": [
       "<table border=\"1\" class=\"dataframe\">\n",
       "    <thead>\n",
       "        <tr>\n",
       "            <th>Flavor</th> <th>Color</th> <th>Price</th> <th>Price with tax</th>\n",
       "        </tr>\n",
       "    </thead>\n",
       "    <tbody>\n",
       "        <tr>\n",
       "            <td>strawberry</td> <td>pink       </td> <td>3.55 </td> <td>$3.86         </td>\n",
       "        </tr>\n",
       "        <tr>\n",
       "            <td>chocolate </td> <td>light brown</td> <td>4.75 </td> <td>$5.17         </td>\n",
       "        </tr>\n",
       "        <tr>\n",
       "            <td>chocolate </td> <td>dark brown </td> <td>5.25 </td> <td>$5.71         </td>\n",
       "        </tr>\n",
       "        <tr>\n",
       "            <td>vanilla   </td> <td>white      </td> <td>3.5  </td> <td>$3.81         </td>\n",
       "        </tr>\n",
       "        <tr>\n",
       "            <td>strawberry</td> <td>pink       </td> <td>5.25 </td> <td>$5.71         </td>\n",
       "        </tr>\n",
       "        <tr>\n",
       "            <td>chocolate </td> <td>dark brown </td> <td>5.25 </td> <td>$5.71         </td>\n",
       "        </tr>\n",
       "        <tr>\n",
       "            <td>bubblegum </td> <td>pink       </td> <td>4.75 </td> <td>$5.17         </td>\n",
       "        </tr>\n",
       "    </tbody>\n",
       "</table>"
      ],
      "text/plain": [
       "Flavor     | Color       | Price | Price with tax\n",
       "strawberry | pink        | 3.55  | $3.86\n",
       "chocolate  | light brown | 4.75  | $5.17\n",
       "chocolate  | dark brown  | 5.25  | $5.71\n",
       "vanilla    | white       | 3.5   | $3.81\n",
       "strawberry | pink        | 5.25  | $5.71\n",
       "chocolate  | dark brown  | 5.25  | $5.71\n",
       "bubblegum  | pink        | 4.75  | $5.17"
      ]
     },
     "execution_count": 52,
     "metadata": {},
     "output_type": "execute_result"
    }
   ],
   "source": [
    "cones"
   ]
  },
  {
   "cell_type": "code",
   "execution_count": 53,
   "id": "80a57516-a3b6-4e31-8302-f05923462770",
   "metadata": {
    "scrolled": true
   },
   "outputs": [
    {
     "data": {
      "text/html": [
       "<table border=\"1\" class=\"dataframe\">\n",
       "    <thead>\n",
       "        <tr>\n",
       "            <th>Flavor</th> <th>Color</th> <th>Price</th> <th>Price with tax</th>\n",
       "        </tr>\n",
       "    </thead>\n",
       "    <tbody>\n",
       "        <tr>\n",
       "            <td>chocolate</td> <td>light brown</td> <td>4.75 </td> <td>$5.17         </td>\n",
       "        </tr>\n",
       "        <tr>\n",
       "            <td>chocolate</td> <td>dark brown </td> <td>5.25 </td> <td>$5.71         </td>\n",
       "        </tr>\n",
       "        <tr>\n",
       "            <td>chocolate</td> <td>dark brown </td> <td>5.25 </td> <td>$5.71         </td>\n",
       "        </tr>\n",
       "    </tbody>\n",
       "</table>"
      ],
      "text/plain": [
       "Flavor    | Color       | Price | Price with tax\n",
       "chocolate | light brown | 4.75  | $5.17\n",
       "chocolate | dark brown  | 5.25  | $5.71\n",
       "chocolate | dark brown  | 5.25  | $5.71"
      ]
     },
     "execution_count": 53,
     "metadata": {},
     "output_type": "execute_result"
    }
   ],
   "source": [
    "cones.where('Color', are.containing('brown'))"
   ]
  },
  {
   "cell_type": "code",
   "execution_count": 54,
   "id": "c1de0eb9-4374-4ed1-8dce-65d129460161",
   "metadata": {
    "scrolled": true
   },
   "outputs": [
    {
     "data": {
      "text/html": [
       "<table border=\"1\" class=\"dataframe\">\n",
       "    <thead>\n",
       "        <tr>\n",
       "            <th>Flavor</th> <th>Color</th> <th>Price</th> <th>Price with tax</th>\n",
       "        </tr>\n",
       "    </thead>\n",
       "    <tbody>\n",
       "        <tr>\n",
       "            <td>strawberry</td> <td>pink       </td> <td>3.55 </td> <td>$3.86         </td>\n",
       "        </tr>\n",
       "        <tr>\n",
       "            <td>chocolate </td> <td>light brown</td> <td>4.75 </td> <td>$5.17         </td>\n",
       "        </tr>\n",
       "        <tr>\n",
       "            <td>chocolate </td> <td>dark brown </td> <td>5.25 </td> <td>$5.71         </td>\n",
       "        </tr>\n",
       "        <tr>\n",
       "            <td>vanilla   </td> <td>white      </td> <td>3.5  </td> <td>$3.81         </td>\n",
       "        </tr>\n",
       "        <tr>\n",
       "            <td>strawberry</td> <td>pink       </td> <td>5.25 </td> <td>$5.71         </td>\n",
       "        </tr>\n",
       "        <tr>\n",
       "            <td>chocolate </td> <td>dark brown </td> <td>5.25 </td> <td>$5.71         </td>\n",
       "        </tr>\n",
       "        <tr>\n",
       "            <td>bubblegum </td> <td>pink       </td> <td>4.75 </td> <td>$5.17         </td>\n",
       "        </tr>\n",
       "    </tbody>\n",
       "</table>"
      ],
      "text/plain": [
       "Flavor     | Color       | Price | Price with tax\n",
       "strawberry | pink        | 3.55  | $3.86\n",
       "chocolate  | light brown | 4.75  | $5.17\n",
       "chocolate  | dark brown  | 5.25  | $5.71\n",
       "vanilla    | white       | 3.5   | $3.81\n",
       "strawberry | pink        | 5.25  | $5.71\n",
       "chocolate  | dark brown  | 5.25  | $5.71\n",
       "bubblegum  | pink        | 4.75  | $5.17"
      ]
     },
     "execution_count": 54,
     "metadata": {},
     "output_type": "execute_result"
    }
   ],
   "source": [
    "cones"
   ]
  },
  {
   "cell_type": "code",
   "execution_count": 55,
   "id": "e060547c-2e9c-4ee3-a14b-bf6b0d81a3ab",
   "metadata": {},
   "outputs": [
    {
     "data": {
      "text/html": [
       "<table border=\"1\" class=\"dataframe\">\n",
       "    <thead>\n",
       "        <tr>\n",
       "            <th>Flavor</th> <th>Color</th> <th>Price</th> <th>Price with tax</th>\n",
       "        </tr>\n",
       "    </thead>\n",
       "    <tbody>\n",
       "        <tr>\n",
       "            <td>strawberry</td> <td>pink       </td> <td>3.55 </td> <td>$3.86         </td>\n",
       "        </tr>\n",
       "        <tr>\n",
       "            <td>chocolate </td> <td>light brown</td> <td>4.75 </td> <td>$5.17         </td>\n",
       "        </tr>\n",
       "        <tr>\n",
       "            <td>chocolate </td> <td>dark brown </td> <td>5.25 </td> <td>$5.71         </td>\n",
       "        </tr>\n",
       "    </tbody>\n",
       "</table>\n",
       "<p>... (4 rows omitted)</p>"
      ],
      "text/plain": [
       "<IPython.core.display.HTML object>"
      ]
     },
     "metadata": {},
     "output_type": "display_data"
    }
   ],
   "source": [
    "cones.show(3)  # shows the first 3. .show() with nothing shows everything!"
   ]
  },
  {
   "cell_type": "markdown",
   "id": "a7c021bf-b606-4a6e-8f20-6770ef8c67ee",
   "metadata": {},
   "source": [
    "---"
   ]
  },
  {
   "cell_type": "code",
   "execution_count": 57,
   "id": "194c2ddf-42a1-4034-abfa-045cdeff92c9",
   "metadata": {},
   "outputs": [
    {
     "data": {
      "text/html": [
       "<table border=\"1\" class=\"dataframe\">\n",
       "    <thead>\n",
       "        <tr>\n",
       "            <th>abilities</th> <th>against_bug</th> <th>against_dark</th> <th>against_dragon</th> <th>against_electric</th> <th>against_fairy</th> <th>against_fight</th> <th>against_fire</th> <th>against_flying</th> <th>against_ghost</th> <th>against_grass</th> <th>against_ground</th> <th>against_ice</th> <th>against_normal</th> <th>against_poison</th> <th>against_psychic</th> <th>against_rock</th> <th>against_steel</th> <th>against_water</th> <th>attack</th> <th>base_egg_steps</th> <th>base_happiness</th> <th>base_total</th> <th>capture_rate</th> <th>classfication</th> <th>defense</th> <th>experience_growth</th> <th>height_m</th> <th>hp</th> <th>japanese_name</th> <th>name</th> <th>percentage_male</th> <th>pokedex_number</th> <th>sp_attack</th> <th>sp_defense</th> <th>speed</th> <th>type1</th> <th>type2</th> <th>weight_kg</th> <th>generation</th> <th>is_legendary</th>\n",
       "        </tr>\n",
       "    </thead>\n",
       "    <tbody>\n",
       "        <tr>\n",
       "            <td>['Overgrow', 'Chlorophyll']</td> <td>1          </td> <td>1           </td> <td>1             </td> <td>0.5             </td> <td>0.5          </td> <td>0.5          </td> <td>2           </td> <td>2             </td> <td>1            </td> <td>0.25         </td> <td>1             </td> <td>2          </td> <td>1             </td> <td>1             </td> <td>2              </td> <td>1           </td> <td>1            </td> <td>0.5          </td> <td>49    </td> <td>5120          </td> <td>70            </td> <td>318       </td> <td>45          </td> <td>Seed Pokémon       </td> <td>49     </td> <td>1059860          </td> <td>0.7     </td> <td>45  </td> <td>Fushigidaneフシギダネ</td> <td>Bulbasaur </td> <td>88.1           </td> <td>1             </td> <td>65       </td> <td>65        </td> <td>45   </td> <td>grass</td> <td>poison</td> <td>6.9      </td> <td>1         </td> <td>0           </td>\n",
       "        </tr>\n",
       "        <tr>\n",
       "            <td>['Overgrow', 'Chlorophyll']</td> <td>1          </td> <td>1           </td> <td>1             </td> <td>0.5             </td> <td>0.5          </td> <td>0.5          </td> <td>2           </td> <td>2             </td> <td>1            </td> <td>0.25         </td> <td>1             </td> <td>2          </td> <td>1             </td> <td>1             </td> <td>2              </td> <td>1           </td> <td>1            </td> <td>0.5          </td> <td>62    </td> <td>5120          </td> <td>70            </td> <td>405       </td> <td>45          </td> <td>Seed Pokémon       </td> <td>63     </td> <td>1059860          </td> <td>1       </td> <td>60  </td> <td>Fushigisouフシギソウ </td> <td>Ivysaur   </td> <td>88.1           </td> <td>2             </td> <td>80       </td> <td>80        </td> <td>60   </td> <td>grass</td> <td>poison</td> <td>13       </td> <td>1         </td> <td>0           </td>\n",
       "        </tr>\n",
       "        <tr>\n",
       "            <td>['Overgrow', 'Chlorophyll']</td> <td>1          </td> <td>1           </td> <td>1             </td> <td>0.5             </td> <td>0.5          </td> <td>0.5          </td> <td>2           </td> <td>2             </td> <td>1            </td> <td>0.25         </td> <td>1             </td> <td>2          </td> <td>1             </td> <td>1             </td> <td>2              </td> <td>1           </td> <td>1            </td> <td>0.5          </td> <td>100   </td> <td>5120          </td> <td>70            </td> <td>625       </td> <td>45          </td> <td>Seed Pokémon       </td> <td>123    </td> <td>1059860          </td> <td>2       </td> <td>80  </td> <td>Fushigibanaフシギバナ</td> <td>Venusaur  </td> <td>88.1           </td> <td>3             </td> <td>122      </td> <td>120       </td> <td>80   </td> <td>grass</td> <td>poison</td> <td>100      </td> <td>1         </td> <td>0           </td>\n",
       "        </tr>\n",
       "        <tr>\n",
       "            <td>['Blaze', 'Solar Power']   </td> <td>0.5        </td> <td>1           </td> <td>1             </td> <td>1               </td> <td>0.5          </td> <td>1            </td> <td>0.5         </td> <td>1             </td> <td>1            </td> <td>0.5          </td> <td>2             </td> <td>0.5        </td> <td>1             </td> <td>1             </td> <td>1              </td> <td>2           </td> <td>0.5          </td> <td>2            </td> <td>52    </td> <td>5120          </td> <td>70            </td> <td>309       </td> <td>45          </td> <td>Lizard Pokémon     </td> <td>43     </td> <td>1059860          </td> <td>0.6     </td> <td>39  </td> <td>Hitokageヒトカゲ    </td> <td>Charmander</td> <td>88.1           </td> <td>4             </td> <td>60       </td> <td>50        </td> <td>65   </td> <td>fire </td> <td>nan   </td> <td>8.5      </td> <td>1         </td> <td>0           </td>\n",
       "        </tr>\n",
       "        <tr>\n",
       "            <td>['Blaze', 'Solar Power']   </td> <td>0.5        </td> <td>1           </td> <td>1             </td> <td>1               </td> <td>0.5          </td> <td>1            </td> <td>0.5         </td> <td>1             </td> <td>1            </td> <td>0.5          </td> <td>2             </td> <td>0.5        </td> <td>1             </td> <td>1             </td> <td>1              </td> <td>2           </td> <td>0.5          </td> <td>2            </td> <td>64    </td> <td>5120          </td> <td>70            </td> <td>405       </td> <td>45          </td> <td>Flame Pokémon      </td> <td>58     </td> <td>1059860          </td> <td>1.1     </td> <td>58  </td> <td>Lizardoリザード     </td> <td>Charmeleon</td> <td>88.1           </td> <td>5             </td> <td>80       </td> <td>65        </td> <td>80   </td> <td>fire </td> <td>nan   </td> <td>19       </td> <td>1         </td> <td>0           </td>\n",
       "        </tr>\n",
       "        <tr>\n",
       "            <td>['Blaze', 'Solar Power']   </td> <td>0.25       </td> <td>1           </td> <td>1             </td> <td>2               </td> <td>0.5          </td> <td>0.5          </td> <td>0.5         </td> <td>1             </td> <td>1            </td> <td>0.25         </td> <td>0             </td> <td>1          </td> <td>1             </td> <td>1             </td> <td>1              </td> <td>4           </td> <td>0.5          </td> <td>2            </td> <td>104   </td> <td>5120          </td> <td>70            </td> <td>634       </td> <td>45          </td> <td>Flame Pokémon      </td> <td>78     </td> <td>1059860          </td> <td>1.7     </td> <td>78  </td> <td>Lizardonリザードン   </td> <td>Charizard </td> <td>88.1           </td> <td>6             </td> <td>159      </td> <td>115       </td> <td>100  </td> <td>fire </td> <td>flying</td> <td>90.5     </td> <td>1         </td> <td>0           </td>\n",
       "        </tr>\n",
       "        <tr>\n",
       "            <td>['Torrent', 'Rain Dish']   </td> <td>1          </td> <td>1           </td> <td>1             </td> <td>2               </td> <td>1            </td> <td>1            </td> <td>0.5         </td> <td>1             </td> <td>1            </td> <td>2            </td> <td>1             </td> <td>0.5        </td> <td>1             </td> <td>1             </td> <td>1              </td> <td>1           </td> <td>0.5          </td> <td>0.5          </td> <td>48    </td> <td>5120          </td> <td>70            </td> <td>314       </td> <td>45          </td> <td>Tiny Turtle Pokémon</td> <td>65     </td> <td>1059860          </td> <td>0.5     </td> <td>44  </td> <td>Zenigameゼニガメ    </td> <td>Squirtle  </td> <td>88.1           </td> <td>7             </td> <td>50       </td> <td>64        </td> <td>43   </td> <td>water</td> <td>nan   </td> <td>9        </td> <td>1         </td> <td>0           </td>\n",
       "        </tr>\n",
       "        <tr>\n",
       "            <td>['Torrent', 'Rain Dish']   </td> <td>1          </td> <td>1           </td> <td>1             </td> <td>2               </td> <td>1            </td> <td>1            </td> <td>0.5         </td> <td>1             </td> <td>1            </td> <td>2            </td> <td>1             </td> <td>0.5        </td> <td>1             </td> <td>1             </td> <td>1              </td> <td>1           </td> <td>0.5          </td> <td>0.5          </td> <td>63    </td> <td>5120          </td> <td>70            </td> <td>405       </td> <td>45          </td> <td>Turtle Pokémon     </td> <td>80     </td> <td>1059860          </td> <td>1       </td> <td>59  </td> <td>Kameilカメール      </td> <td>Wartortle </td> <td>88.1           </td> <td>8             </td> <td>65       </td> <td>80        </td> <td>58   </td> <td>water</td> <td>nan   </td> <td>22.5     </td> <td>1         </td> <td>0           </td>\n",
       "        </tr>\n",
       "        <tr>\n",
       "            <td>['Torrent', 'Rain Dish']   </td> <td>1          </td> <td>1           </td> <td>1             </td> <td>2               </td> <td>1            </td> <td>1            </td> <td>0.5         </td> <td>1             </td> <td>1            </td> <td>2            </td> <td>1             </td> <td>0.5        </td> <td>1             </td> <td>1             </td> <td>1              </td> <td>1           </td> <td>0.5          </td> <td>0.5          </td> <td>103   </td> <td>5120          </td> <td>70            </td> <td>630       </td> <td>45          </td> <td>Shellfish Pokémon  </td> <td>120    </td> <td>1059860          </td> <td>1.6     </td> <td>79  </td> <td>Kamexカメックス      </td> <td>Blastoise </td> <td>88.1           </td> <td>9             </td> <td>135      </td> <td>115       </td> <td>78   </td> <td>water</td> <td>nan   </td> <td>85.5     </td> <td>1         </td> <td>0           </td>\n",
       "        </tr>\n",
       "        <tr>\n",
       "            <td>['Shield Dust', 'Run Away']</td> <td>1          </td> <td>1           </td> <td>1             </td> <td>1               </td> <td>1            </td> <td>0.5          </td> <td>2           </td> <td>2             </td> <td>1            </td> <td>0.5          </td> <td>0.5           </td> <td>1          </td> <td>1             </td> <td>1             </td> <td>1              </td> <td>2           </td> <td>1            </td> <td>1            </td> <td>30    </td> <td>3840          </td> <td>70            </td> <td>195       </td> <td>255         </td> <td>Worm Pokémon       </td> <td>35     </td> <td>1000000          </td> <td>0.3     </td> <td>45  </td> <td>Caterpieキャタピー   </td> <td>Caterpie  </td> <td>50             </td> <td>10            </td> <td>20       </td> <td>20        </td> <td>45   </td> <td>bug  </td> <td>nan   </td> <td>2.9      </td> <td>1         </td> <td>0           </td>\n",
       "        </tr>\n",
       "    </tbody>\n",
       "</table>\n",
       "<p>... (791 rows omitted)</p>"
      ],
      "text/plain": [
       "abilities                   | against_bug | against_dark | against_dragon | against_electric | against_fairy | against_fight | against_fire | against_flying | against_ghost | against_grass | against_ground | against_ice | against_normal | against_poison | against_psychic | against_rock | against_steel | against_water | attack | base_egg_steps | base_happiness | base_total | capture_rate | classfication       | defense | experience_growth | height_m | hp   | japanese_name    | name       | percentage_male | pokedex_number | sp_attack | sp_defense | speed | type1 | type2  | weight_kg | generation | is_legendary\n",
       "['Overgrow', 'Chlorophyll'] | 1           | 1            | 1              | 0.5              | 0.5           | 0.5           | 2            | 2              | 1             | 0.25          | 1              | 2           | 1              | 1              | 2               | 1            | 1             | 0.5           | 49     | 5120           | 70             | 318        | 45           | Seed Pokémon        | 49      | 1059860           | 0.7      | 45   | Fushigidaneフシギダネ | Bulbasaur  | 88.1            | 1              | 65        | 65         | 45    | grass | poison | 6.9       | 1          | 0\n",
       "['Overgrow', 'Chlorophyll'] | 1           | 1            | 1              | 0.5              | 0.5           | 0.5           | 2            | 2              | 1             | 0.25          | 1              | 2           | 1              | 1              | 2               | 1            | 1             | 0.5           | 62     | 5120           | 70             | 405        | 45           | Seed Pokémon        | 63      | 1059860           | 1        | 60   | Fushigisouフシギソウ  | Ivysaur    | 88.1            | 2              | 80        | 80         | 60    | grass | poison | 13        | 1          | 0\n",
       "['Overgrow', 'Chlorophyll'] | 1           | 1            | 1              | 0.5              | 0.5           | 0.5           | 2            | 2              | 1             | 0.25          | 1              | 2           | 1              | 1              | 2               | 1            | 1             | 0.5           | 100    | 5120           | 70             | 625        | 45           | Seed Pokémon        | 123     | 1059860           | 2        | 80   | Fushigibanaフシギバナ | Venusaur   | 88.1            | 3              | 122       | 120        | 80    | grass | poison | 100       | 1          | 0\n",
       "['Blaze', 'Solar Power']    | 0.5         | 1            | 1              | 1                | 0.5           | 1             | 0.5          | 1              | 1             | 0.5           | 2              | 0.5         | 1              | 1              | 1               | 2            | 0.5           | 2             | 52     | 5120           | 70             | 309        | 45           | Lizard Pokémon      | 43      | 1059860           | 0.6      | 39   | Hitokageヒトカゲ     | Charmander | 88.1            | 4              | 60        | 50         | 65    | fire  | nan    | 8.5       | 1          | 0\n",
       "['Blaze', 'Solar Power']    | 0.5         | 1            | 1              | 1                | 0.5           | 1             | 0.5          | 1              | 1             | 0.5           | 2              | 0.5         | 1              | 1              | 1               | 2            | 0.5           | 2             | 64     | 5120           | 70             | 405        | 45           | Flame Pokémon       | 58      | 1059860           | 1.1      | 58   | Lizardoリザード      | Charmeleon | 88.1            | 5              | 80        | 65         | 80    | fire  | nan    | 19        | 1          | 0\n",
       "['Blaze', 'Solar Power']    | 0.25        | 1            | 1              | 2                | 0.5           | 0.5           | 0.5          | 1              | 1             | 0.25          | 0              | 1           | 1              | 1              | 1               | 4            | 0.5           | 2             | 104    | 5120           | 70             | 634        | 45           | Flame Pokémon       | 78      | 1059860           | 1.7      | 78   | Lizardonリザードン    | Charizard  | 88.1            | 6              | 159       | 115        | 100   | fire  | flying | 90.5      | 1          | 0\n",
       "['Torrent', 'Rain Dish']    | 1           | 1            | 1              | 2                | 1             | 1             | 0.5          | 1              | 1             | 2             | 1              | 0.5         | 1              | 1              | 1               | 1            | 0.5           | 0.5           | 48     | 5120           | 70             | 314        | 45           | Tiny Turtle Pokémon | 65      | 1059860           | 0.5      | 44   | Zenigameゼニガメ     | Squirtle   | 88.1            | 7              | 50        | 64         | 43    | water | nan    | 9         | 1          | 0\n",
       "['Torrent', 'Rain Dish']    | 1           | 1            | 1              | 2                | 1             | 1             | 0.5          | 1              | 1             | 2             | 1              | 0.5         | 1              | 1              | 1               | 1            | 0.5           | 0.5           | 63     | 5120           | 70             | 405        | 45           | Turtle Pokémon      | 80      | 1059860           | 1        | 59   | Kameilカメール       | Wartortle  | 88.1            | 8              | 65        | 80         | 58    | water | nan    | 22.5      | 1          | 0\n",
       "['Torrent', 'Rain Dish']    | 1           | 1            | 1              | 2                | 1             | 1             | 0.5          | 1              | 1             | 2             | 1              | 0.5         | 1              | 1              | 1               | 1            | 0.5           | 0.5           | 103    | 5120           | 70             | 630        | 45           | Shellfish Pokémon   | 120     | 1059860           | 1.6      | 79   | Kamexカメックス       | Blastoise  | 88.1            | 9              | 135       | 115        | 78    | water | nan    | 85.5      | 1          | 0\n",
       "['Shield Dust', 'Run Away'] | 1           | 1            | 1              | 1                | 1             | 0.5           | 2            | 2              | 1             | 0.5           | 0.5            | 1           | 1              | 1              | 1               | 2            | 1             | 1             | 30     | 3840           | 70             | 195        | 255          | Worm Pokémon        | 35      | 1000000           | 0.3      | 45   | Caterpieキャタピー    | Caterpie   | 50              | 10             | 20        | 20         | 45    | bug   | nan    | 2.9       | 1          | 0\n",
       "... (791 rows omitted)"
      ]
     },
     "execution_count": 57,
     "metadata": {},
     "output_type": "execute_result"
    }
   ],
   "source": [
    "pokemon = Table.read_table('data/pokemon.csv')\n",
    "pokemon"
   ]
  },
  {
   "cell_type": "code",
   "execution_count": 62,
   "id": "822a56f6-52f3-40ae-84f9-83fc42167313",
   "metadata": {},
   "outputs": [
    {
     "data": {
      "text/html": [
       "<table border=\"1\" class=\"dataframe\">\n",
       "    <thead>\n",
       "        <tr>\n",
       "            <th>name</th> <th>against_fire</th> <th>type1</th>\n",
       "        </tr>\n",
       "    </thead>\n",
       "    <tbody>\n",
       "        <tr>\n",
       "            <td>Bulbasaur </td> <td>2           </td> <td>grass</td>\n",
       "        </tr>\n",
       "        <tr>\n",
       "            <td>Ivysaur   </td> <td>2           </td> <td>grass</td>\n",
       "        </tr>\n",
       "        <tr>\n",
       "            <td>Venusaur  </td> <td>2           </td> <td>grass</td>\n",
       "        </tr>\n",
       "        <tr>\n",
       "            <td>Charmander</td> <td>0.5         </td> <td>fire </td>\n",
       "        </tr>\n",
       "        <tr>\n",
       "            <td>Charmeleon</td> <td>0.5         </td> <td>fire </td>\n",
       "        </tr>\n",
       "        <tr>\n",
       "            <td>Charizard </td> <td>0.5         </td> <td>fire </td>\n",
       "        </tr>\n",
       "        <tr>\n",
       "            <td>Squirtle  </td> <td>0.5         </td> <td>water</td>\n",
       "        </tr>\n",
       "        <tr>\n",
       "            <td>Wartortle </td> <td>0.5         </td> <td>water</td>\n",
       "        </tr>\n",
       "        <tr>\n",
       "            <td>Blastoise </td> <td>0.5         </td> <td>water</td>\n",
       "        </tr>\n",
       "        <tr>\n",
       "            <td>Caterpie  </td> <td>2           </td> <td>bug  </td>\n",
       "        </tr>\n",
       "    </tbody>\n",
       "</table>\n",
       "<p>... (791 rows omitted)</p>"
      ],
      "text/plain": [
       "name       | against_fire | type1\n",
       "Bulbasaur  | 2            | grass\n",
       "Ivysaur    | 2            | grass\n",
       "Venusaur   | 2            | grass\n",
       "Charmander | 0.5          | fire\n",
       "Charmeleon | 0.5          | fire\n",
       "Charizard  | 0.5          | fire\n",
       "Squirtle   | 0.5          | water\n",
       "Wartortle  | 0.5          | water\n",
       "Blastoise  | 0.5          | water\n",
       "Caterpie   | 2            | bug\n",
       "... (791 rows omitted)"
      ]
     },
     "execution_count": 62,
     "metadata": {},
     "output_type": "execute_result"
    }
   ],
   "source": [
    "temp = pokemon.select('name', 'against_fire', 'type1')\n",
    "temp"
   ]
  },
  {
   "cell_type": "code",
   "execution_count": 64,
   "id": "a9b7d5cc-6938-4a1e-9556-0cdcbe5d871b",
   "metadata": {},
   "outputs": [
    {
     "data": {
      "text/html": [
       "<table border=\"1\" class=\"dataframe\">\n",
       "    <thead>\n",
       "        <tr>\n",
       "            <th>name</th> <th>against_fire</th> <th>type1</th>\n",
       "        </tr>\n",
       "    </thead>\n",
       "    <tbody>\n",
       "        <tr>\n",
       "            <td>Bulbasaur </td> <td>2           </td> <td>grass</td>\n",
       "        </tr>\n",
       "        <tr>\n",
       "            <td>Ivysaur   </td> <td>2           </td> <td>grass</td>\n",
       "        </tr>\n",
       "        <tr>\n",
       "            <td>Venusaur  </td> <td>2           </td> <td>grass</td>\n",
       "        </tr>\n",
       "        <tr>\n",
       "            <td>Caterpie  </td> <td>2           </td> <td>bug  </td>\n",
       "        </tr>\n",
       "        <tr>\n",
       "            <td>Metapod   </td> <td>2           </td> <td>bug  </td>\n",
       "        </tr>\n",
       "        <tr>\n",
       "            <td>Butterfree</td> <td>2           </td> <td>bug  </td>\n",
       "        </tr>\n",
       "        <tr>\n",
       "            <td>Weedle    </td> <td>2           </td> <td>bug  </td>\n",
       "        </tr>\n",
       "        <tr>\n",
       "            <td>Kakuna    </td> <td>2           </td> <td>bug  </td>\n",
       "        </tr>\n",
       "        <tr>\n",
       "            <td>Beedrill  </td> <td>2           </td> <td>bug  </td>\n",
       "        </tr>\n",
       "        <tr>\n",
       "            <td>Oddish    </td> <td>2           </td> <td>grass</td>\n",
       "        </tr>\n",
       "    </tbody>\n",
       "</table>\n",
       "<p>... (177 rows omitted)</p>"
      ],
      "text/plain": [
       "name       | against_fire | type1\n",
       "Bulbasaur  | 2            | grass\n",
       "Ivysaur    | 2            | grass\n",
       "Venusaur   | 2            | grass\n",
       "Caterpie   | 2            | bug\n",
       "Metapod    | 2            | bug\n",
       "Butterfree | 2            | bug\n",
       "Weedle     | 2            | bug\n",
       "Kakuna     | 2            | bug\n",
       "Beedrill   | 2            | bug\n",
       "Oddish     | 2            | grass\n",
       "... (177 rows omitted)"
      ]
     },
     "execution_count": 64,
     "metadata": {},
     "output_type": "execute_result"
    }
   ],
   "source": [
    "temp.where('against_fire', are.equal_to(2))"
   ]
  },
  {
   "cell_type": "code",
   "execution_count": 74,
   "id": "6d326a90-bed7-46d0-bf74-9c4ffb8ac581",
   "metadata": {},
   "outputs": [
    {
     "data": {
      "text/html": [
       "<table border=\"1\" class=\"dataframe\">\n",
       "    <thead>\n",
       "        <tr>\n",
       "            <th>name</th> <th>generation</th> <th>speed</th> <th>base_happiness</th>\n",
       "        </tr>\n",
       "    </thead>\n",
       "    <tbody>\n",
       "        <tr>\n",
       "            <td>Bulbasaur </td> <td>1         </td> <td>45   </td> <td>70            </td>\n",
       "        </tr>\n",
       "        <tr>\n",
       "            <td>Ivysaur   </td> <td>1         </td> <td>60   </td> <td>70            </td>\n",
       "        </tr>\n",
       "        <tr>\n",
       "            <td>Venusaur  </td> <td>1         </td> <td>80   </td> <td>70            </td>\n",
       "        </tr>\n",
       "        <tr>\n",
       "            <td>Charmander</td> <td>1         </td> <td>65   </td> <td>70            </td>\n",
       "        </tr>\n",
       "        <tr>\n",
       "            <td>Charmeleon</td> <td>1         </td> <td>80   </td> <td>70            </td>\n",
       "        </tr>\n",
       "        <tr>\n",
       "            <td>Charizard </td> <td>1         </td> <td>100  </td> <td>70            </td>\n",
       "        </tr>\n",
       "        <tr>\n",
       "            <td>Squirtle  </td> <td>1         </td> <td>43   </td> <td>70            </td>\n",
       "        </tr>\n",
       "        <tr>\n",
       "            <td>Wartortle </td> <td>1         </td> <td>58   </td> <td>70            </td>\n",
       "        </tr>\n",
       "        <tr>\n",
       "            <td>Blastoise </td> <td>1         </td> <td>78   </td> <td>70            </td>\n",
       "        </tr>\n",
       "        <tr>\n",
       "            <td>Caterpie  </td> <td>1         </td> <td>45   </td> <td>70            </td>\n",
       "        </tr>\n",
       "    </tbody>\n",
       "</table>\n",
       "<p>... (791 rows omitted)</p>"
      ],
      "text/plain": [
       "name       | generation | speed | base_happiness\n",
       "Bulbasaur  | 1          | 45    | 70\n",
       "Ivysaur    | 1          | 60    | 70\n",
       "Venusaur   | 1          | 80    | 70\n",
       "Charmander | 1          | 65    | 70\n",
       "Charmeleon | 1          | 80    | 70\n",
       "Charizard  | 1          | 100   | 70\n",
       "Squirtle   | 1          | 43    | 70\n",
       "Wartortle  | 1          | 58    | 70\n",
       "Blastoise  | 1          | 78    | 70\n",
       "Caterpie   | 1          | 45    | 70\n",
       "... (791 rows omitted)"
      ]
     },
     "execution_count": 74,
     "metadata": {},
     "output_type": "execute_result"
    }
   ],
   "source": [
    "temp = pokemon.select('name', 'generation', 'speed', 'base_happiness')\n",
    "temp"
   ]
  },
  {
   "cell_type": "code",
   "execution_count": 77,
   "id": "99e0a56f-3c28-4095-b2ac-752d6a9c55e0",
   "metadata": {},
   "outputs": [
    {
     "data": {
      "text/html": [
       "<table border=\"1\" class=\"dataframe\">\n",
       "    <thead>\n",
       "        <tr>\n",
       "            <th>name</th> <th>generation</th> <th>speed</th> <th>base_happiness</th>\n",
       "        </tr>\n",
       "    </thead>\n",
       "    <tbody>\n",
       "        <tr>\n",
       "            <td>Crobat    </td> <td>2         </td> <td>130  </td> <td>70            </td>\n",
       "        </tr>\n",
       "        <tr>\n",
       "            <td>Sneasel   </td> <td>2         </td> <td>115  </td> <td>35            </td>\n",
       "        </tr>\n",
       "        <tr>\n",
       "            <td>Houndoom  </td> <td>2         </td> <td>115  </td> <td>35            </td>\n",
       "        </tr>\n",
       "        <tr>\n",
       "            <td>Raikou    </td> <td>2         </td> <td>115  </td> <td>35            </td>\n",
       "        </tr>\n",
       "        <tr>\n",
       "            <td>Jumpluff  </td> <td>2         </td> <td>110  </td> <td>70            </td>\n",
       "        </tr>\n",
       "        <tr>\n",
       "            <td>Espeon    </td> <td>2         </td> <td>110  </td> <td>70            </td>\n",
       "        </tr>\n",
       "        <tr>\n",
       "            <td>Lugia     </td> <td>2         </td> <td>110  </td> <td>0             </td>\n",
       "        </tr>\n",
       "        <tr>\n",
       "            <td>Typhlosion</td> <td>2         </td> <td>100  </td> <td>70            </td>\n",
       "        </tr>\n",
       "        <tr>\n",
       "            <td>Miltank   </td> <td>2         </td> <td>100  </td> <td>70            </td>\n",
       "        </tr>\n",
       "        <tr>\n",
       "            <td>Entei     </td> <td>2         </td> <td>100  </td> <td>35            </td>\n",
       "        </tr>\n",
       "        <tr>\n",
       "            <td>Celebi    </td> <td>2         </td> <td>100  </td> <td>100           </td>\n",
       "        </tr>\n",
       "        <tr>\n",
       "            <td>Xatu      </td> <td>2         </td> <td>95   </td> <td>70            </td>\n",
       "        </tr>\n",
       "        <tr>\n",
       "            <td>Yanma     </td> <td>2         </td> <td>95   </td> <td>70            </td>\n",
       "        </tr>\n",
       "        <tr>\n",
       "            <td>Elekid    </td> <td>2         </td> <td>95   </td> <td>70            </td>\n",
       "        </tr>\n",
       "        <tr>\n",
       "            <td>Murkrow   </td> <td>2         </td> <td>91   </td> <td>35            </td>\n",
       "        </tr>\n",
       "    </tbody>\n",
       "</table>\n",
       "<p>... (85 rows omitted)</p>"
      ],
      "text/plain": [
       "<IPython.core.display.HTML object>"
      ]
     },
     "metadata": {},
     "output_type": "display_data"
    }
   ],
   "source": [
    "temp.where('generation', 2).sort('speed', descending=True).show(15)"
   ]
  },
  {
   "cell_type": "code",
   "execution_count": 80,
   "id": "53e13440-7d9a-4995-90d7-7a3c9cf6c526",
   "metadata": {},
   "outputs": [
    {
     "data": {
      "text/html": [
       "<table border=\"1\" class=\"dataframe\">\n",
       "    <thead>\n",
       "        <tr>\n",
       "            <th>name</th> <th>generation</th> <th>speed</th> <th>base_happiness</th>\n",
       "        </tr>\n",
       "    </thead>\n",
       "    <tbody>\n",
       "        <tr>\n",
       "            <td>Clefairy </td> <td>1         </td> <td>35   </td> <td>140           </td>\n",
       "        </tr>\n",
       "        <tr>\n",
       "            <td>Clefable </td> <td>1         </td> <td>60   </td> <td>140           </td>\n",
       "        </tr>\n",
       "        <tr>\n",
       "            <td>Chansey  </td> <td>1         </td> <td>50   </td> <td>140           </td>\n",
       "        </tr>\n",
       "        <tr>\n",
       "            <td>Cleffa   </td> <td>2         </td> <td>15   </td> <td>140           </td>\n",
       "        </tr>\n",
       "        <tr>\n",
       "            <td>Blissey  </td> <td>2         </td> <td>55   </td> <td>140           </td>\n",
       "        </tr>\n",
       "        <tr>\n",
       "            <td>Lopunny  </td> <td>4         </td> <td>135  </td> <td>140           </td>\n",
       "        </tr>\n",
       "        <tr>\n",
       "            <td>Happiny  </td> <td>4         </td> <td>30   </td> <td>140           </td>\n",
       "        </tr>\n",
       "        <tr>\n",
       "            <td>Uxie     </td> <td>4         </td> <td>95   </td> <td>140           </td>\n",
       "        </tr>\n",
       "        <tr>\n",
       "            <td>Mesprit  </td> <td>4         </td> <td>80   </td> <td>140           </td>\n",
       "        </tr>\n",
       "        <tr>\n",
       "            <td>Azelf    </td> <td>4         </td> <td>115  </td> <td>140           </td>\n",
       "        </tr>\n",
       "        <tr>\n",
       "            <td>Mew      </td> <td>1         </td> <td>100  </td> <td>100           </td>\n",
       "        </tr>\n",
       "        <tr>\n",
       "            <td>Celebi   </td> <td>2         </td> <td>100  </td> <td>100           </td>\n",
       "        </tr>\n",
       "        <tr>\n",
       "            <td>Jirachi  </td> <td>3         </td> <td>100  </td> <td>100           </td>\n",
       "        </tr>\n",
       "        <tr>\n",
       "            <td>Luxio    </td> <td>4         </td> <td>60   </td> <td>100           </td>\n",
       "        </tr>\n",
       "        <tr>\n",
       "            <td>Pachirisu</td> <td>4         </td> <td>95   </td> <td>100           </td>\n",
       "        </tr>\n",
       "        <tr>\n",
       "            <td>Ambipom  </td> <td>4         </td> <td>115  </td> <td>100           </td>\n",
       "        </tr>\n",
       "        <tr>\n",
       "            <td>Croagunk </td> <td>4         </td> <td>50   </td> <td>100           </td>\n",
       "        </tr>\n",
       "        <tr>\n",
       "            <td>Heatran  </td> <td>4         </td> <td>77   </td> <td>100           </td>\n",
       "        </tr>\n",
       "        <tr>\n",
       "            <td>Cresselia</td> <td>4         </td> <td>85   </td> <td>100           </td>\n",
       "        </tr>\n",
       "        <tr>\n",
       "            <td>Shaymin  </td> <td>4         </td> <td>127  </td> <td>100           </td>\n",
       "        </tr>\n",
       "    </tbody>\n",
       "</table>\n",
       "<p>... (781 rows omitted)</p>"
      ],
      "text/plain": [
       "<IPython.core.display.HTML object>"
      ]
     },
     "metadata": {},
     "output_type": "display_data"
    }
   ],
   "source": [
    "temp.sort('base_happiness', descending=True).show(20)"
   ]
  },
  {
   "cell_type": "code",
   "execution_count": 82,
   "id": "02c2bb9d-19a9-4f0e-b4d7-3f0cfb0f1d6e",
   "metadata": {},
   "outputs": [
    {
     "data": {
      "text/html": [
       "<table border=\"1\" class=\"dataframe\">\n",
       "    <thead>\n",
       "        <tr>\n",
       "            <th>name</th> <th>against_poison</th>\n",
       "        </tr>\n",
       "    </thead>\n",
       "    <tbody>\n",
       "        <tr>\n",
       "            <td>Bulbasaur </td> <td>1             </td>\n",
       "        </tr>\n",
       "        <tr>\n",
       "            <td>Ivysaur   </td> <td>1             </td>\n",
       "        </tr>\n",
       "        <tr>\n",
       "            <td>Venusaur  </td> <td>1             </td>\n",
       "        </tr>\n",
       "        <tr>\n",
       "            <td>Charmander</td> <td>1             </td>\n",
       "        </tr>\n",
       "        <tr>\n",
       "            <td>Charmeleon</td> <td>1             </td>\n",
       "        </tr>\n",
       "        <tr>\n",
       "            <td>Charizard </td> <td>1             </td>\n",
       "        </tr>\n",
       "        <tr>\n",
       "            <td>Squirtle  </td> <td>1             </td>\n",
       "        </tr>\n",
       "        <tr>\n",
       "            <td>Wartortle </td> <td>1             </td>\n",
       "        </tr>\n",
       "        <tr>\n",
       "            <td>Blastoise </td> <td>1             </td>\n",
       "        </tr>\n",
       "        <tr>\n",
       "            <td>Caterpie  </td> <td>1             </td>\n",
       "        </tr>\n",
       "    </tbody>\n",
       "</table>\n",
       "<p>... (791 rows omitted)</p>"
      ],
      "text/plain": [
       "name       | against_poison\n",
       "Bulbasaur  | 1\n",
       "Ivysaur    | 1\n",
       "Venusaur   | 1\n",
       "Charmander | 1\n",
       "Charmeleon | 1\n",
       "Charizard  | 1\n",
       "Squirtle   | 1\n",
       "Wartortle  | 1\n",
       "Blastoise  | 1\n",
       "Caterpie   | 1\n",
       "... (791 rows omitted)"
      ]
     },
     "execution_count": 82,
     "metadata": {},
     "output_type": "execute_result"
    }
   ],
   "source": [
    "temp = pokemon.select('name', 'against_poison')\n",
    "temp"
   ]
  },
  {
   "cell_type": "code",
   "execution_count": 85,
   "id": "db5a2cd8-cdac-4c47-b8d1-39e93691ffdc",
   "metadata": {},
   "outputs": [
    {
     "data": {
      "text/html": [
       "<table border=\"1\" class=\"dataframe\">\n",
       "    <thead>\n",
       "        <tr>\n",
       "            <th>name</th> <th>against_poison</th>\n",
       "        </tr>\n",
       "    </thead>\n",
       "    <tbody>\n",
       "        <tr>\n",
       "            <td>Weedle   </td> <td>0.5           </td>\n",
       "        </tr>\n",
       "        <tr>\n",
       "            <td>Kakuna   </td> <td>0.5           </td>\n",
       "        </tr>\n",
       "        <tr>\n",
       "            <td>Beedrill </td> <td>0.5           </td>\n",
       "        </tr>\n",
       "        <tr>\n",
       "            <td>Ekans    </td> <td>0.5           </td>\n",
       "        </tr>\n",
       "        <tr>\n",
       "            <td>Arbok    </td> <td>0.5           </td>\n",
       "        </tr>\n",
       "        <tr>\n",
       "            <td>Sandshrew</td> <td>0.5           </td>\n",
       "        </tr>\n",
       "        <tr>\n",
       "            <td>Sandslash</td> <td>0.5           </td>\n",
       "        </tr>\n",
       "        <tr>\n",
       "            <td>Nidoran♀ </td> <td>0.5           </td>\n",
       "        </tr>\n",
       "        <tr>\n",
       "            <td>Nidorina </td> <td>0.5           </td>\n",
       "        </tr>\n",
       "        <tr>\n",
       "            <td>Nidoqueen</td> <td>0.25          </td>\n",
       "        </tr>\n",
       "        <tr>\n",
       "            <td>Nidoran♂ </td> <td>0.5           </td>\n",
       "        </tr>\n",
       "        <tr>\n",
       "            <td>Nidorino </td> <td>0.5           </td>\n",
       "        </tr>\n",
       "        <tr>\n",
       "            <td>Nidoking </td> <td>0.25          </td>\n",
       "        </tr>\n",
       "        <tr>\n",
       "            <td>Zubat    </td> <td>0.5           </td>\n",
       "        </tr>\n",
       "        <tr>\n",
       "            <td>Golbat   </td> <td>0.5           </td>\n",
       "        </tr>\n",
       "        <tr>\n",
       "            <td>Venonat  </td> <td>0.5           </td>\n",
       "        </tr>\n",
       "        <tr>\n",
       "            <td>Venomoth </td> <td>0.5           </td>\n",
       "        </tr>\n",
       "        <tr>\n",
       "            <td>Diglett  </td> <td>0.5           </td>\n",
       "        </tr>\n",
       "        <tr>\n",
       "            <td>Dugtrio  </td> <td>0.5           </td>\n",
       "        </tr>\n",
       "        <tr>\n",
       "            <td>Tentacool</td> <td>0.5           </td>\n",
       "        </tr>\n",
       "    </tbody>\n",
       "</table>\n",
       "<p>... (198 rows omitted)</p>"
      ],
      "text/plain": [
       "<IPython.core.display.HTML object>"
      ]
     },
     "metadata": {},
     "output_type": "display_data"
    }
   ],
   "source": [
    "temp.where('against_poison', are.below(1)).show(20)"
   ]
  },
  {
   "cell_type": "code",
   "execution_count": 86,
   "id": "bd95d4c1-c040-4ee8-968f-517fd0eb6a10",
   "metadata": {},
   "outputs": [
    {
     "data": {
      "text/html": [
       "<table border=\"1\" class=\"dataframe\">\n",
       "    <thead>\n",
       "        <tr>\n",
       "            <th>abilities</th> <th>against_bug</th> <th>against_dark</th> <th>against_dragon</th> <th>against_electric</th> <th>against_fairy</th> <th>against_fight</th> <th>against_fire</th> <th>against_flying</th> <th>against_ghost</th> <th>against_grass</th> <th>against_ground</th> <th>against_ice</th> <th>against_normal</th> <th>against_poison</th> <th>against_psychic</th> <th>against_rock</th> <th>against_steel</th> <th>against_water</th> <th>attack</th> <th>base_egg_steps</th> <th>base_happiness</th> <th>base_total</th> <th>capture_rate</th> <th>classfication</th> <th>defense</th> <th>experience_growth</th> <th>height_m</th> <th>hp</th> <th>japanese_name</th> <th>name</th> <th>percentage_male</th> <th>pokedex_number</th> <th>sp_attack</th> <th>sp_defense</th> <th>speed</th> <th>type1</th> <th>type2</th> <th>weight_kg</th> <th>generation</th> <th>is_legendary</th>\n",
       "        </tr>\n",
       "    </thead>\n",
       "    <tbody>\n",
       "        <tr>\n",
       "            <td>['Overgrow', 'Chlorophyll']</td> <td>1          </td> <td>1           </td> <td>1             </td> <td>0.5             </td> <td>0.5          </td> <td>0.5          </td> <td>2           </td> <td>2             </td> <td>1            </td> <td>0.25         </td> <td>1             </td> <td>2          </td> <td>1             </td> <td>1             </td> <td>2              </td> <td>1           </td> <td>1            </td> <td>0.5          </td> <td>49    </td> <td>5120          </td> <td>70            </td> <td>318       </td> <td>45          </td> <td>Seed Pokémon       </td> <td>49     </td> <td>1059860          </td> <td>0.7     </td> <td>45  </td> <td>Fushigidaneフシギダネ</td> <td>Bulbasaur </td> <td>88.1           </td> <td>1             </td> <td>65       </td> <td>65        </td> <td>45   </td> <td>grass</td> <td>poison</td> <td>6.9      </td> <td>1         </td> <td>0           </td>\n",
       "        </tr>\n",
       "        <tr>\n",
       "            <td>['Overgrow', 'Chlorophyll']</td> <td>1          </td> <td>1           </td> <td>1             </td> <td>0.5             </td> <td>0.5          </td> <td>0.5          </td> <td>2           </td> <td>2             </td> <td>1            </td> <td>0.25         </td> <td>1             </td> <td>2          </td> <td>1             </td> <td>1             </td> <td>2              </td> <td>1           </td> <td>1            </td> <td>0.5          </td> <td>62    </td> <td>5120          </td> <td>70            </td> <td>405       </td> <td>45          </td> <td>Seed Pokémon       </td> <td>63     </td> <td>1059860          </td> <td>1       </td> <td>60  </td> <td>Fushigisouフシギソウ </td> <td>Ivysaur   </td> <td>88.1           </td> <td>2             </td> <td>80       </td> <td>80        </td> <td>60   </td> <td>grass</td> <td>poison</td> <td>13       </td> <td>1         </td> <td>0           </td>\n",
       "        </tr>\n",
       "        <tr>\n",
       "            <td>['Overgrow', 'Chlorophyll']</td> <td>1          </td> <td>1           </td> <td>1             </td> <td>0.5             </td> <td>0.5          </td> <td>0.5          </td> <td>2           </td> <td>2             </td> <td>1            </td> <td>0.25         </td> <td>1             </td> <td>2          </td> <td>1             </td> <td>1             </td> <td>2              </td> <td>1           </td> <td>1            </td> <td>0.5          </td> <td>100   </td> <td>5120          </td> <td>70            </td> <td>625       </td> <td>45          </td> <td>Seed Pokémon       </td> <td>123    </td> <td>1059860          </td> <td>2       </td> <td>80  </td> <td>Fushigibanaフシギバナ</td> <td>Venusaur  </td> <td>88.1           </td> <td>3             </td> <td>122      </td> <td>120       </td> <td>80   </td> <td>grass</td> <td>poison</td> <td>100      </td> <td>1         </td> <td>0           </td>\n",
       "        </tr>\n",
       "        <tr>\n",
       "            <td>['Blaze', 'Solar Power']   </td> <td>0.5        </td> <td>1           </td> <td>1             </td> <td>1               </td> <td>0.5          </td> <td>1            </td> <td>0.5         </td> <td>1             </td> <td>1            </td> <td>0.5          </td> <td>2             </td> <td>0.5        </td> <td>1             </td> <td>1             </td> <td>1              </td> <td>2           </td> <td>0.5          </td> <td>2            </td> <td>52    </td> <td>5120          </td> <td>70            </td> <td>309       </td> <td>45          </td> <td>Lizard Pokémon     </td> <td>43     </td> <td>1059860          </td> <td>0.6     </td> <td>39  </td> <td>Hitokageヒトカゲ    </td> <td>Charmander</td> <td>88.1           </td> <td>4             </td> <td>60       </td> <td>50        </td> <td>65   </td> <td>fire </td> <td>nan   </td> <td>8.5      </td> <td>1         </td> <td>0           </td>\n",
       "        </tr>\n",
       "        <tr>\n",
       "            <td>['Blaze', 'Solar Power']   </td> <td>0.5        </td> <td>1           </td> <td>1             </td> <td>1               </td> <td>0.5          </td> <td>1            </td> <td>0.5         </td> <td>1             </td> <td>1            </td> <td>0.5          </td> <td>2             </td> <td>0.5        </td> <td>1             </td> <td>1             </td> <td>1              </td> <td>2           </td> <td>0.5          </td> <td>2            </td> <td>64    </td> <td>5120          </td> <td>70            </td> <td>405       </td> <td>45          </td> <td>Flame Pokémon      </td> <td>58     </td> <td>1059860          </td> <td>1.1     </td> <td>58  </td> <td>Lizardoリザード     </td> <td>Charmeleon</td> <td>88.1           </td> <td>5             </td> <td>80       </td> <td>65        </td> <td>80   </td> <td>fire </td> <td>nan   </td> <td>19       </td> <td>1         </td> <td>0           </td>\n",
       "        </tr>\n",
       "        <tr>\n",
       "            <td>['Blaze', 'Solar Power']   </td> <td>0.25       </td> <td>1           </td> <td>1             </td> <td>2               </td> <td>0.5          </td> <td>0.5          </td> <td>0.5         </td> <td>1             </td> <td>1            </td> <td>0.25         </td> <td>0             </td> <td>1          </td> <td>1             </td> <td>1             </td> <td>1              </td> <td>4           </td> <td>0.5          </td> <td>2            </td> <td>104   </td> <td>5120          </td> <td>70            </td> <td>634       </td> <td>45          </td> <td>Flame Pokémon      </td> <td>78     </td> <td>1059860          </td> <td>1.7     </td> <td>78  </td> <td>Lizardonリザードン   </td> <td>Charizard </td> <td>88.1           </td> <td>6             </td> <td>159      </td> <td>115       </td> <td>100  </td> <td>fire </td> <td>flying</td> <td>90.5     </td> <td>1         </td> <td>0           </td>\n",
       "        </tr>\n",
       "        <tr>\n",
       "            <td>['Torrent', 'Rain Dish']   </td> <td>1          </td> <td>1           </td> <td>1             </td> <td>2               </td> <td>1            </td> <td>1            </td> <td>0.5         </td> <td>1             </td> <td>1            </td> <td>2            </td> <td>1             </td> <td>0.5        </td> <td>1             </td> <td>1             </td> <td>1              </td> <td>1           </td> <td>0.5          </td> <td>0.5          </td> <td>48    </td> <td>5120          </td> <td>70            </td> <td>314       </td> <td>45          </td> <td>Tiny Turtle Pokémon</td> <td>65     </td> <td>1059860          </td> <td>0.5     </td> <td>44  </td> <td>Zenigameゼニガメ    </td> <td>Squirtle  </td> <td>88.1           </td> <td>7             </td> <td>50       </td> <td>64        </td> <td>43   </td> <td>water</td> <td>nan   </td> <td>9        </td> <td>1         </td> <td>0           </td>\n",
       "        </tr>\n",
       "        <tr>\n",
       "            <td>['Torrent', 'Rain Dish']   </td> <td>1          </td> <td>1           </td> <td>1             </td> <td>2               </td> <td>1            </td> <td>1            </td> <td>0.5         </td> <td>1             </td> <td>1            </td> <td>2            </td> <td>1             </td> <td>0.5        </td> <td>1             </td> <td>1             </td> <td>1              </td> <td>1           </td> <td>0.5          </td> <td>0.5          </td> <td>63    </td> <td>5120          </td> <td>70            </td> <td>405       </td> <td>45          </td> <td>Turtle Pokémon     </td> <td>80     </td> <td>1059860          </td> <td>1       </td> <td>59  </td> <td>Kameilカメール      </td> <td>Wartortle </td> <td>88.1           </td> <td>8             </td> <td>65       </td> <td>80        </td> <td>58   </td> <td>water</td> <td>nan   </td> <td>22.5     </td> <td>1         </td> <td>0           </td>\n",
       "        </tr>\n",
       "        <tr>\n",
       "            <td>['Torrent', 'Rain Dish']   </td> <td>1          </td> <td>1           </td> <td>1             </td> <td>2               </td> <td>1            </td> <td>1            </td> <td>0.5         </td> <td>1             </td> <td>1            </td> <td>2            </td> <td>1             </td> <td>0.5        </td> <td>1             </td> <td>1             </td> <td>1              </td> <td>1           </td> <td>0.5          </td> <td>0.5          </td> <td>103   </td> <td>5120          </td> <td>70            </td> <td>630       </td> <td>45          </td> <td>Shellfish Pokémon  </td> <td>120    </td> <td>1059860          </td> <td>1.6     </td> <td>79  </td> <td>Kamexカメックス      </td> <td>Blastoise </td> <td>88.1           </td> <td>9             </td> <td>135      </td> <td>115       </td> <td>78   </td> <td>water</td> <td>nan   </td> <td>85.5     </td> <td>1         </td> <td>0           </td>\n",
       "        </tr>\n",
       "        <tr>\n",
       "            <td>['Shield Dust', 'Run Away']</td> <td>1          </td> <td>1           </td> <td>1             </td> <td>1               </td> <td>1            </td> <td>0.5          </td> <td>2           </td> <td>2             </td> <td>1            </td> <td>0.5          </td> <td>0.5           </td> <td>1          </td> <td>1             </td> <td>1             </td> <td>1              </td> <td>2           </td> <td>1            </td> <td>1            </td> <td>30    </td> <td>3840          </td> <td>70            </td> <td>195       </td> <td>255         </td> <td>Worm Pokémon       </td> <td>35     </td> <td>1000000          </td> <td>0.3     </td> <td>45  </td> <td>Caterpieキャタピー   </td> <td>Caterpie  </td> <td>50             </td> <td>10            </td> <td>20       </td> <td>20        </td> <td>45   </td> <td>bug  </td> <td>nan   </td> <td>2.9      </td> <td>1         </td> <td>0           </td>\n",
       "        </tr>\n",
       "    </tbody>\n",
       "</table>\n",
       "<p>... (791 rows omitted)</p>"
      ],
      "text/plain": [
       "abilities                   | against_bug | against_dark | against_dragon | against_electric | against_fairy | against_fight | against_fire | against_flying | against_ghost | against_grass | against_ground | against_ice | against_normal | against_poison | against_psychic | against_rock | against_steel | against_water | attack | base_egg_steps | base_happiness | base_total | capture_rate | classfication       | defense | experience_growth | height_m | hp   | japanese_name    | name       | percentage_male | pokedex_number | sp_attack | sp_defense | speed | type1 | type2  | weight_kg | generation | is_legendary\n",
       "['Overgrow', 'Chlorophyll'] | 1           | 1            | 1              | 0.5              | 0.5           | 0.5           | 2            | 2              | 1             | 0.25          | 1              | 2           | 1              | 1              | 2               | 1            | 1             | 0.5           | 49     | 5120           | 70             | 318        | 45           | Seed Pokémon        | 49      | 1059860           | 0.7      | 45   | Fushigidaneフシギダネ | Bulbasaur  | 88.1            | 1              | 65        | 65         | 45    | grass | poison | 6.9       | 1          | 0\n",
       "['Overgrow', 'Chlorophyll'] | 1           | 1            | 1              | 0.5              | 0.5           | 0.5           | 2            | 2              | 1             | 0.25          | 1              | 2           | 1              | 1              | 2               | 1            | 1             | 0.5           | 62     | 5120           | 70             | 405        | 45           | Seed Pokémon        | 63      | 1059860           | 1        | 60   | Fushigisouフシギソウ  | Ivysaur    | 88.1            | 2              | 80        | 80         | 60    | grass | poison | 13        | 1          | 0\n",
       "['Overgrow', 'Chlorophyll'] | 1           | 1            | 1              | 0.5              | 0.5           | 0.5           | 2            | 2              | 1             | 0.25          | 1              | 2           | 1              | 1              | 2               | 1            | 1             | 0.5           | 100    | 5120           | 70             | 625        | 45           | Seed Pokémon        | 123     | 1059860           | 2        | 80   | Fushigibanaフシギバナ | Venusaur   | 88.1            | 3              | 122       | 120        | 80    | grass | poison | 100       | 1          | 0\n",
       "['Blaze', 'Solar Power']    | 0.5         | 1            | 1              | 1                | 0.5           | 1             | 0.5          | 1              | 1             | 0.5           | 2              | 0.5         | 1              | 1              | 1               | 2            | 0.5           | 2             | 52     | 5120           | 70             | 309        | 45           | Lizard Pokémon      | 43      | 1059860           | 0.6      | 39   | Hitokageヒトカゲ     | Charmander | 88.1            | 4              | 60        | 50         | 65    | fire  | nan    | 8.5       | 1          | 0\n",
       "['Blaze', 'Solar Power']    | 0.5         | 1            | 1              | 1                | 0.5           | 1             | 0.5          | 1              | 1             | 0.5           | 2              | 0.5         | 1              | 1              | 1               | 2            | 0.5           | 2             | 64     | 5120           | 70             | 405        | 45           | Flame Pokémon       | 58      | 1059860           | 1.1      | 58   | Lizardoリザード      | Charmeleon | 88.1            | 5              | 80        | 65         | 80    | fire  | nan    | 19        | 1          | 0\n",
       "['Blaze', 'Solar Power']    | 0.25        | 1            | 1              | 2                | 0.5           | 0.5           | 0.5          | 1              | 1             | 0.25          | 0              | 1           | 1              | 1              | 1               | 4            | 0.5           | 2             | 104    | 5120           | 70             | 634        | 45           | Flame Pokémon       | 78      | 1059860           | 1.7      | 78   | Lizardonリザードン    | Charizard  | 88.1            | 6              | 159       | 115        | 100   | fire  | flying | 90.5      | 1          | 0\n",
       "['Torrent', 'Rain Dish']    | 1           | 1            | 1              | 2                | 1             | 1             | 0.5          | 1              | 1             | 2             | 1              | 0.5         | 1              | 1              | 1               | 1            | 0.5           | 0.5           | 48     | 5120           | 70             | 314        | 45           | Tiny Turtle Pokémon | 65      | 1059860           | 0.5      | 44   | Zenigameゼニガメ     | Squirtle   | 88.1            | 7              | 50        | 64         | 43    | water | nan    | 9         | 1          | 0\n",
       "['Torrent', 'Rain Dish']    | 1           | 1            | 1              | 2                | 1             | 1             | 0.5          | 1              | 1             | 2             | 1              | 0.5         | 1              | 1              | 1               | 1            | 0.5           | 0.5           | 63     | 5120           | 70             | 405        | 45           | Turtle Pokémon      | 80      | 1059860           | 1        | 59   | Kameilカメール       | Wartortle  | 88.1            | 8              | 65        | 80         | 58    | water | nan    | 22.5      | 1          | 0\n",
       "['Torrent', 'Rain Dish']    | 1           | 1            | 1              | 2                | 1             | 1             | 0.5          | 1              | 1             | 2             | 1              | 0.5         | 1              | 1              | 1               | 1            | 0.5           | 0.5           | 103    | 5120           | 70             | 630        | 45           | Shellfish Pokémon   | 120     | 1059860           | 1.6      | 79   | Kamexカメックス       | Blastoise  | 88.1            | 9              | 135       | 115        | 78    | water | nan    | 85.5      | 1          | 0\n",
       "['Shield Dust', 'Run Away'] | 1           | 1            | 1              | 1                | 1             | 0.5           | 2            | 2              | 1             | 0.5           | 0.5            | 1           | 1              | 1              | 1               | 2            | 1             | 1             | 30     | 3840           | 70             | 195        | 255          | Worm Pokémon        | 35      | 1000000           | 0.3      | 45   | Caterpieキャタピー    | Caterpie   | 50              | 10             | 20        | 20         | 45    | bug   | nan    | 2.9       | 1          | 0\n",
       "... (791 rows omitted)"
      ]
     },
     "execution_count": 86,
     "metadata": {},
     "output_type": "execute_result"
    }
   ],
   "source": [
    "pokemon"
   ]
  },
  {
   "cell_type": "code",
   "execution_count": 88,
   "id": "ce2d8d35-9244-4bfb-980f-e86d4998fab5",
   "metadata": {},
   "outputs": [
    {
     "data": {
      "text/html": [
       "<table border=\"1\" class=\"dataframe\">\n",
       "    <thead>\n",
       "        <tr>\n",
       "            <th>name</th> <th>percentage_male</th> <th>speed</th>\n",
       "        </tr>\n",
       "    </thead>\n",
       "    <tbody>\n",
       "        <tr>\n",
       "            <td>Bulbasaur </td> <td>88.1           </td> <td>45   </td>\n",
       "        </tr>\n",
       "        <tr>\n",
       "            <td>Ivysaur   </td> <td>88.1           </td> <td>60   </td>\n",
       "        </tr>\n",
       "        <tr>\n",
       "            <td>Venusaur  </td> <td>88.1           </td> <td>80   </td>\n",
       "        </tr>\n",
       "        <tr>\n",
       "            <td>Charmander</td> <td>88.1           </td> <td>65   </td>\n",
       "        </tr>\n",
       "        <tr>\n",
       "            <td>Charmeleon</td> <td>88.1           </td> <td>80   </td>\n",
       "        </tr>\n",
       "        <tr>\n",
       "            <td>Charizard </td> <td>88.1           </td> <td>100  </td>\n",
       "        </tr>\n",
       "        <tr>\n",
       "            <td>Squirtle  </td> <td>88.1           </td> <td>43   </td>\n",
       "        </tr>\n",
       "        <tr>\n",
       "            <td>Wartortle </td> <td>88.1           </td> <td>58   </td>\n",
       "        </tr>\n",
       "        <tr>\n",
       "            <td>Blastoise </td> <td>88.1           </td> <td>78   </td>\n",
       "        </tr>\n",
       "        <tr>\n",
       "            <td>Caterpie  </td> <td>50             </td> <td>45   </td>\n",
       "        </tr>\n",
       "    </tbody>\n",
       "</table>\n",
       "<p>... (791 rows omitted)</p>"
      ],
      "text/plain": [
       "name       | percentage_male | speed\n",
       "Bulbasaur  | 88.1            | 45\n",
       "Ivysaur    | 88.1            | 60\n",
       "Venusaur   | 88.1            | 80\n",
       "Charmander | 88.1            | 65\n",
       "Charmeleon | 88.1            | 80\n",
       "Charizard  | 88.1            | 100\n",
       "Squirtle   | 88.1            | 43\n",
       "Wartortle  | 88.1            | 58\n",
       "Blastoise  | 88.1            | 78\n",
       "Caterpie   | 50              | 45\n",
       "... (791 rows omitted)"
      ]
     },
     "execution_count": 88,
     "metadata": {},
     "output_type": "execute_result"
    }
   ],
   "source": [
    "temp = pokemon.select('name', 'percentage_male', 'speed')\n",
    "temp"
   ]
  },
  {
   "cell_type": "code",
   "execution_count": 91,
   "id": "36ffa7df-5930-408b-a5bc-2754fe4762d7",
   "metadata": {},
   "outputs": [
    {
     "data": {
      "text/html": [
       "<table border=\"1\" class=\"dataframe\">\n",
       "    <thead>\n",
       "        <tr>\n",
       "            <th>name</th> <th>percentage_male</th> <th>speed</th> <th>percentage_female</th>\n",
       "        </tr>\n",
       "    </thead>\n",
       "    <tbody>\n",
       "        <tr>\n",
       "            <td>Bulbasaur </td> <td>88.1           </td> <td>45   </td> <td>11.9             </td>\n",
       "        </tr>\n",
       "        <tr>\n",
       "            <td>Ivysaur   </td> <td>88.1           </td> <td>60   </td> <td>11.9             </td>\n",
       "        </tr>\n",
       "        <tr>\n",
       "            <td>Venusaur  </td> <td>88.1           </td> <td>80   </td> <td>11.9             </td>\n",
       "        </tr>\n",
       "        <tr>\n",
       "            <td>Charmander</td> <td>88.1           </td> <td>65   </td> <td>11.9             </td>\n",
       "        </tr>\n",
       "        <tr>\n",
       "            <td>Charmeleon</td> <td>88.1           </td> <td>80   </td> <td>11.9             </td>\n",
       "        </tr>\n",
       "        <tr>\n",
       "            <td>Charizard </td> <td>88.1           </td> <td>100  </td> <td>11.9             </td>\n",
       "        </tr>\n",
       "        <tr>\n",
       "            <td>Squirtle  </td> <td>88.1           </td> <td>43   </td> <td>11.9             </td>\n",
       "        </tr>\n",
       "        <tr>\n",
       "            <td>Wartortle </td> <td>88.1           </td> <td>58   </td> <td>11.9             </td>\n",
       "        </tr>\n",
       "        <tr>\n",
       "            <td>Blastoise </td> <td>88.1           </td> <td>78   </td> <td>11.9             </td>\n",
       "        </tr>\n",
       "        <tr>\n",
       "            <td>Caterpie  </td> <td>50             </td> <td>45   </td> <td>50               </td>\n",
       "        </tr>\n",
       "    </tbody>\n",
       "</table>\n",
       "<p>... (791 rows omitted)</p>"
      ],
      "text/plain": [
       "name       | percentage_male | speed | percentage_female\n",
       "Bulbasaur  | 88.1            | 45    | 11.9\n",
       "Ivysaur    | 88.1            | 60    | 11.9\n",
       "Venusaur   | 88.1            | 80    | 11.9\n",
       "Charmander | 88.1            | 65    | 11.9\n",
       "Charmeleon | 88.1            | 80    | 11.9\n",
       "Charizard  | 88.1            | 100   | 11.9\n",
       "Squirtle   | 88.1            | 43    | 11.9\n",
       "Wartortle  | 88.1            | 58    | 11.9\n",
       "Blastoise  | 88.1            | 78    | 11.9\n",
       "Caterpie   | 50              | 45    | 50\n",
       "... (791 rows omitted)"
      ]
     },
     "execution_count": 91,
     "metadata": {},
     "output_type": "execute_result"
    }
   ],
   "source": [
    "temp = temp.with_column('percentage_female', 100 - temp.column('percentage_male'))\n",
    "temp"
   ]
  },
  {
   "cell_type": "code",
   "execution_count": 99,
   "id": "d155af15-adcf-4b41-8c70-f8f11353bdef",
   "metadata": {},
   "outputs": [
    {
     "data": {
      "text/plain": [
       "53"
      ]
     },
     "execution_count": 99,
     "metadata": {},
     "output_type": "execute_result"
    }
   ],
   "source": [
    "temp.where('percentage_female', are.above(50)).num_rows"
   ]
  },
  {
   "cell_type": "code",
   "execution_count": 94,
   "id": "681e766b-8575-4fb8-91c0-2ca56b2d93e0",
   "metadata": {
    "scrolled": true
   },
   "outputs": [
    {
     "data": {
      "text/plain": [
       "66.79245283018868"
      ]
     },
     "execution_count": 94,
     "metadata": {},
     "output_type": "execute_result"
    }
   ],
   "source": [
    "temp.where('percentage_female', are.above(50)).column('speed').mean()"
   ]
  },
  {
   "cell_type": "code",
   "execution_count": 101,
   "id": "2234f420-b213-404d-a6d8-fae99ef7abd7",
   "metadata": {},
   "outputs": [
    {
     "data": {
      "text/plain": [
       "149"
      ]
     },
     "execution_count": 101,
     "metadata": {},
     "output_type": "execute_result"
    }
   ],
   "source": [
    "temp.where('percentage_male', are.above(50)).num_rows"
   ]
  },
  {
   "cell_type": "code",
   "execution_count": 95,
   "id": "ff4c79e4-1f3b-4538-850f-a7a36ffc2b55",
   "metadata": {},
   "outputs": [
    {
     "data": {
      "text/plain": [
       "68.953020134228183"
      ]
     },
     "execution_count": 95,
     "metadata": {},
     "output_type": "execute_result"
    }
   ],
   "source": [
    "temp.where('percentage_male', are.above(50)).column('speed').mean()"
   ]
  },
  {
   "cell_type": "code",
   "execution_count": 106,
   "id": "848948a1-d39c-49be-8805-b5f9f03b8402",
   "metadata": {},
   "outputs": [
    {
     "data": {
      "text/html": [
       "<table border=\"1\" class=\"dataframe\">\n",
       "    <thead>\n",
       "        <tr>\n",
       "            <th>name</th> <th>type</th> <th>generation</th>\n",
       "        </tr>\n",
       "    </thead>\n",
       "    <tbody>\n",
       "        <tr>\n",
       "            <td>Bulbasaur </td> <td>grass</td> <td>1         </td>\n",
       "        </tr>\n",
       "        <tr>\n",
       "            <td>Ivysaur   </td> <td>grass</td> <td>1         </td>\n",
       "        </tr>\n",
       "        <tr>\n",
       "            <td>Venusaur  </td> <td>grass</td> <td>1         </td>\n",
       "        </tr>\n",
       "        <tr>\n",
       "            <td>Charmander</td> <td>fire </td> <td>1         </td>\n",
       "        </tr>\n",
       "        <tr>\n",
       "            <td>Charmeleon</td> <td>fire </td> <td>1         </td>\n",
       "        </tr>\n",
       "        <tr>\n",
       "            <td>Charizard </td> <td>fire </td> <td>1         </td>\n",
       "        </tr>\n",
       "        <tr>\n",
       "            <td>Squirtle  </td> <td>water</td> <td>1         </td>\n",
       "        </tr>\n",
       "        <tr>\n",
       "            <td>Wartortle </td> <td>water</td> <td>1         </td>\n",
       "        </tr>\n",
       "        <tr>\n",
       "            <td>Blastoise </td> <td>water</td> <td>1         </td>\n",
       "        </tr>\n",
       "        <tr>\n",
       "            <td>Caterpie  </td> <td>bug  </td> <td>1         </td>\n",
       "        </tr>\n",
       "    </tbody>\n",
       "</table>\n",
       "<p>... (791 rows omitted)</p>"
      ],
      "text/plain": [
       "name       | type  | generation\n",
       "Bulbasaur  | grass | 1\n",
       "Ivysaur    | grass | 1\n",
       "Venusaur   | grass | 1\n",
       "Charmander | fire  | 1\n",
       "Charmeleon | fire  | 1\n",
       "Charizard  | fire  | 1\n",
       "Squirtle   | water | 1\n",
       "Wartortle  | water | 1\n",
       "Blastoise  | water | 1\n",
       "Caterpie   | bug   | 1\n",
       "... (791 rows omitted)"
      ]
     },
     "execution_count": 106,
     "metadata": {},
     "output_type": "execute_result"
    }
   ],
   "source": [
    "temp = pokemon.select('name', 'type1', 'generation').relabeled('type1', 'type')\n",
    "temp"
   ]
  },
  {
   "cell_type": "code",
   "execution_count": 107,
   "id": "fa6f627e-e3fa-468d-958d-f0b25ca1274f",
   "metadata": {},
   "outputs": [
    {
     "data": {
      "text/html": [
       "<table border=\"1\" class=\"dataframe\">\n",
       "    <thead>\n",
       "        <tr>\n",
       "            <th>name</th> <th>type</th> <th>generation</th>\n",
       "        </tr>\n",
       "    </thead>\n",
       "    <tbody>\n",
       "        <tr>\n",
       "            <td>Pikachu   </td> <td>electric</td> <td>1         </td>\n",
       "        </tr>\n",
       "        <tr>\n",
       "            <td>Raichu    </td> <td>electric</td> <td>1         </td>\n",
       "        </tr>\n",
       "        <tr>\n",
       "            <td>Magnemite </td> <td>electric</td> <td>1         </td>\n",
       "        </tr>\n",
       "        <tr>\n",
       "            <td>Magneton  </td> <td>electric</td> <td>1         </td>\n",
       "        </tr>\n",
       "        <tr>\n",
       "            <td>Voltorb   </td> <td>electric</td> <td>1         </td>\n",
       "        </tr>\n",
       "        <tr>\n",
       "            <td>Electrode </td> <td>electric</td> <td>1         </td>\n",
       "        </tr>\n",
       "        <tr>\n",
       "            <td>Electabuzz</td> <td>electric</td> <td>1         </td>\n",
       "        </tr>\n",
       "        <tr>\n",
       "            <td>Jolteon   </td> <td>electric</td> <td>1         </td>\n",
       "        </tr>\n",
       "        <tr>\n",
       "            <td>Zapdos    </td> <td>electric</td> <td>1         </td>\n",
       "        </tr>\n",
       "    </tbody>\n",
       "</table>"
      ],
      "text/plain": [
       "name       | type     | generation\n",
       "Pikachu    | electric | 1\n",
       "Raichu     | electric | 1\n",
       "Magnemite  | electric | 1\n",
       "Magneton   | electric | 1\n",
       "Voltorb    | electric | 1\n",
       "Electrode  | electric | 1\n",
       "Electabuzz | electric | 1\n",
       "Jolteon    | electric | 1\n",
       "Zapdos     | electric | 1"
      ]
     },
     "execution_count": 107,
     "metadata": {},
     "output_type": "execute_result"
    }
   ],
   "source": [
    "temp.where('type', 'electric').where('generation', are.equal_to(1))"
   ]
  },
  {
   "cell_type": "code",
   "execution_count": 108,
   "id": "7ee4cdfa-c9b0-47d5-b2ec-141eb046e169",
   "metadata": {},
   "outputs": [
    {
     "data": {
      "text/html": [
       "<table border=\"1\" class=\"dataframe\">\n",
       "    <thead>\n",
       "        <tr>\n",
       "            <th>name</th> <th>type</th> <th>generation</th>\n",
       "        </tr>\n",
       "    </thead>\n",
       "    <tbody>\n",
       "        <tr>\n",
       "            <td>Pikachu   </td> <td>electric</td> <td>1         </td>\n",
       "        </tr>\n",
       "        <tr>\n",
       "            <td>Raichu    </td> <td>electric</td> <td>1         </td>\n",
       "        </tr>\n",
       "        <tr>\n",
       "            <td>Magnemite </td> <td>electric</td> <td>1         </td>\n",
       "        </tr>\n",
       "        <tr>\n",
       "            <td>Magneton  </td> <td>electric</td> <td>1         </td>\n",
       "        </tr>\n",
       "        <tr>\n",
       "            <td>Voltorb   </td> <td>electric</td> <td>1         </td>\n",
       "        </tr>\n",
       "        <tr>\n",
       "            <td>Electrode </td> <td>electric</td> <td>1         </td>\n",
       "        </tr>\n",
       "        <tr>\n",
       "            <td>Electabuzz</td> <td>electric</td> <td>1         </td>\n",
       "        </tr>\n",
       "        <tr>\n",
       "            <td>Jolteon   </td> <td>electric</td> <td>1         </td>\n",
       "        </tr>\n",
       "        <tr>\n",
       "            <td>Zapdos    </td> <td>electric</td> <td>1         </td>\n",
       "        </tr>\n",
       "    </tbody>\n",
       "</table>"
      ],
      "text/plain": [
       "name       | type     | generation\n",
       "Pikachu    | electric | 1\n",
       "Raichu     | electric | 1\n",
       "Magnemite  | electric | 1\n",
       "Magneton   | electric | 1\n",
       "Voltorb    | electric | 1\n",
       "Electrode  | electric | 1\n",
       "Electabuzz | electric | 1\n",
       "Jolteon    | electric | 1\n",
       "Zapdos     | electric | 1"
      ]
     },
     "execution_count": 108,
     "metadata": {},
     "output_type": "execute_result"
    }
   ],
   "source": [
    "# please never do this, but this is kinda cool\n",
    "Is = are\n",
    "temp.where('type', 'electric').where('generation', Is.equal_to(1))"
   ]
  },
  {
   "cell_type": "code",
   "execution_count": 111,
   "id": "6950baad-eef6-4295-b8c6-b8cfdd19f4e5",
   "metadata": {},
   "outputs": [
    {
     "data": {
      "text/html": [
       "<table border=\"1\" class=\"dataframe\">\n",
       "    <thead>\n",
       "        <tr>\n",
       "            <th>name</th> <th>abilities</th>\n",
       "        </tr>\n",
       "    </thead>\n",
       "    <tbody>\n",
       "        <tr>\n",
       "            <td>Caterpie </td> <td>['Shield Dust', 'Run Away']                                 </td>\n",
       "        </tr>\n",
       "        <tr>\n",
       "            <td>Weedle   </td> <td>['Shield Dust', 'Run Away']                                 </td>\n",
       "        </tr>\n",
       "        <tr>\n",
       "            <td>Rattata  </td> <td>['Run Away', 'Guts', 'Hustle', 'Gluttony', 'Hustle', 'Th ...</td>\n",
       "        </tr>\n",
       "        <tr>\n",
       "            <td>Raticate </td> <td>['Run Away', 'Guts', 'Hustle', 'Gluttony', 'Hustle', 'Th ...</td>\n",
       "        </tr>\n",
       "        <tr>\n",
       "            <td>Oddish   </td> <td>['Chlorophyll', 'Run Away']                                 </td>\n",
       "        </tr>\n",
       "        <tr>\n",
       "            <td>Venonat  </td> <td>['Compoundeyes', 'Tinted Lens', 'Run Away']                 </td>\n",
       "        </tr>\n",
       "        <tr>\n",
       "            <td>Ponyta   </td> <td>['Run Away', 'Flash Fire', 'Flame Body']                    </td>\n",
       "        </tr>\n",
       "        <tr>\n",
       "            <td>Rapidash </td> <td>['Run Away', 'Flash Fire', 'Flame Body']                    </td>\n",
       "        </tr>\n",
       "        <tr>\n",
       "            <td>Doduo    </td> <td>['Run Away', 'Early Bird', 'Tangled Feet']                  </td>\n",
       "        </tr>\n",
       "        <tr>\n",
       "            <td>Dodrio   </td> <td>['Run Away', 'Early Bird', 'Tangled Feet']                  </td>\n",
       "        </tr>\n",
       "        <tr>\n",
       "            <td>Eevee    </td> <td>['Run Away', 'Adaptability', 'Anticipation']                </td>\n",
       "        </tr>\n",
       "        <tr>\n",
       "            <td>Sentret  </td> <td>['Run Away', 'Keen Eye', 'Frisk']                           </td>\n",
       "        </tr>\n",
       "        <tr>\n",
       "            <td>Furret   </td> <td>['Run Away', 'Keen Eye', 'Frisk']                           </td>\n",
       "        </tr>\n",
       "        <tr>\n",
       "            <td>Aipom    </td> <td>['Run Away', 'Pickup', 'Skill Link']                        </td>\n",
       "        </tr>\n",
       "        <tr>\n",
       "            <td>Dunsparce</td> <td>['Serene Grace', 'Run Away', 'Rattled']                     </td>\n",
       "        </tr>\n",
       "        <tr>\n",
       "            <td>Snubbull </td> <td>['Intimidate', 'Run Away', 'Rattled']                       </td>\n",
       "        </tr>\n",
       "        <tr>\n",
       "            <td>Poochyena</td> <td>['Run Away', 'Quick Feet', 'Rattled']                       </td>\n",
       "        </tr>\n",
       "        <tr>\n",
       "            <td>Wurmple  </td> <td>['Shield Dust', 'Run Away']                                 </td>\n",
       "        </tr>\n",
       "        <tr>\n",
       "            <td>Nincada  </td> <td>['Compoundeyes', 'Run Away']                                </td>\n",
       "        </tr>\n",
       "        <tr>\n",
       "            <td>Kricketot</td> <td>['Shed Skin', 'Run Away']                                   </td>\n",
       "        </tr>\n",
       "        <tr>\n",
       "            <td>Pachirisu</td> <td>['Run Away', 'Pickup', 'Volt Absorb']                       </td>\n",
       "        </tr>\n",
       "        <tr>\n",
       "            <td>Buneary  </td> <td>['Run Away', 'Klutz', 'Limber']                             </td>\n",
       "        </tr>\n",
       "        <tr>\n",
       "            <td>Patrat   </td> <td>['Run Away', 'Keen Eye', 'Analytic']                        </td>\n",
       "        </tr>\n",
       "        <tr>\n",
       "            <td>Lillipup </td> <td>['Vital Spirit', 'Pickup', 'Run Away']                      </td>\n",
       "        </tr>\n",
       "    </tbody>\n",
       "</table>"
      ],
      "text/plain": [
       "<IPython.core.display.HTML object>"
      ]
     },
     "metadata": {},
     "output_type": "display_data"
    }
   ],
   "source": [
    "pokemon.select('name', 'abilities').where('abilities', are.containing('Run Away')).show()"
   ]
  },
  {
   "cell_type": "code",
   "execution_count": null,
   "id": "542195d7-6501-4803-a081-c0518f660f78",
   "metadata": {},
   "outputs": [],
   "source": []
  }
 ],
 "metadata": {
  "kernelspec": {
   "display_name": "Python 3 (ipykernel)",
   "language": "python",
   "name": "python3"
  },
  "language_info": {
   "codemirror_mode": {
    "name": "ipython",
    "version": 3
   },
   "file_extension": ".py",
   "mimetype": "text/x-python",
   "name": "python",
   "nbconvert_exporter": "python",
   "pygments_lexer": "ipython3",
   "version": "3.12.5"
  }
 },
 "nbformat": 4,
 "nbformat_minor": 5
}

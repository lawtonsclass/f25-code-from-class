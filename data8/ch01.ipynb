{
 "cells": [
  {
   "cell_type": "code",
   "execution_count": 1,
   "id": "e88742cc-9222-4a50-ac42-9e8e256596a7",
   "metadata": {},
   "outputs": [
    {
     "data": {
      "text/plain": [
       "4"
      ]
     },
     "execution_count": 1,
     "metadata": {},
     "output_type": "execute_result"
    }
   ],
   "source": [
    "2 + 2"
   ]
  },
  {
   "cell_type": "code",
   "execution_count": 2,
   "id": "d862d1d9-0f3a-45cf-9a43-35d15d731588",
   "metadata": {},
   "outputs": [
    {
     "data": {
      "text/plain": [
       "32"
      ]
     },
     "execution_count": 2,
     "metadata": {},
     "output_type": "execute_result"
    }
   ],
   "source": [
    "2 ** 5"
   ]
  },
  {
   "cell_type": "code",
   "execution_count": 3,
   "id": "5e8d21f6-11ff-4376-8b39-845915455c72",
   "metadata": {},
   "outputs": [
    {
     "data": {
      "text/plain": [
       "'hi mom'"
      ]
     },
     "execution_count": 3,
     "metadata": {},
     "output_type": "execute_result"
    }
   ],
   "source": [
    "'hi mom'"
   ]
  },
  {
   "cell_type": "code",
   "execution_count": 4,
   "id": "fd8de25e-01a6-46d6-bd20-318a74cded29",
   "metadata": {},
   "outputs": [
    {
     "data": {
      "text/plain": [
       "9"
      ]
     },
     "execution_count": 4,
     "metadata": {},
     "output_type": "execute_result"
    }
   ],
   "source": [
    "2 + 3\n",
    "4 + 5"
   ]
  },
  {
   "cell_type": "markdown",
   "id": "2a4572f6-0f66-4f66-a420-9e370f8dbb01",
   "metadata": {},
   "source": [
    "---"
   ]
  },
  {
   "cell_type": "code",
   "execution_count": 5,
   "id": "f9c7810a-1e0a-4f45-b07e-7962c6a3320f",
   "metadata": {},
   "outputs": [],
   "source": [
    "def read_file(filename): \n",
    "    from urllib.request import urlopen \n",
    "    import re\n",
    "    with open(filename, encoding='utf8') as f:\n",
    "        s = f.read()\n",
    "    return re.sub('\\\\s+', ' ', s)"
   ]
  },
  {
   "cell_type": "code",
   "execution_count": 6,
   "id": "cb8639c1-1e84-4ea7-9f80-9ca2c86b7f3b",
   "metadata": {},
   "outputs": [],
   "source": [
    "alice_in_wonderland_text = read_file('data/alice_in_wonderland.txt')\n",
    "alice_in_wonderland_chapters = alice_in_wonderland_text.split('CHAPTER')[13:]"
   ]
  },
  {
   "cell_type": "code",
   "execution_count": 9,
   "id": "d76e49b6-31bc-4bcd-a42c-883eded2ca5f",
   "metadata": {},
   "outputs": [],
   "source": [
    "pride_and_prejudice_text = read_file('data/pride_and_prejudice.txt')\n",
    "pride_and_prejudice_chapters = pride_and_prejudice_text.split('CHAPTER')[1:]"
   ]
  },
  {
   "cell_type": "code",
   "execution_count": 10,
   "id": "77f26011-47c3-42e3-8597-88d2efa1bf50",
   "metadata": {},
   "outputs": [],
   "source": [
    "from datascience import *"
   ]
  },
  {
   "cell_type": "code",
   "execution_count": 11,
   "id": "648d8232-ee36-4f9b-af33-64861ff54c85",
   "metadata": {},
   "outputs": [
    {
     "data": {
      "text/html": [
       "<table border=\"1\" class=\"dataframe\">\n",
       "    <thead>\n",
       "        <tr>\n",
       "            <th>Chapters</th>\n",
       "        </tr>\n",
       "    </thead>\n",
       "    <tbody>\n",
       "        <tr>\n",
       "            <td> I. Down the Rabbit-Hole Alice was beginning to get very ...</td>\n",
       "        </tr>\n",
       "        <tr>\n",
       "            <td> II. The Pool of Tears “Curiouser and curiouser!” cried  ...</td>\n",
       "        </tr>\n",
       "        <tr>\n",
       "            <td> III. A Caucus-Race and a Long Tale They were indeed a q ...</td>\n",
       "        </tr>\n",
       "        <tr>\n",
       "            <td> IV. The Rabbit Sends in a Little Bill It was the White  ...</td>\n",
       "        </tr>\n",
       "        <tr>\n",
       "            <td> V. Advice from a Caterpillar The Caterpillar and Alice  ...</td>\n",
       "        </tr>\n",
       "        <tr>\n",
       "            <td> VI. Pig and Pepper For a minute or two she stood lookin ...</td>\n",
       "        </tr>\n",
       "        <tr>\n",
       "            <td> VII. A Mad Tea-Party There was a table set out under a  ...</td>\n",
       "        </tr>\n",
       "        <tr>\n",
       "            <td> VIII. The Queen’s Croquet-Ground A large rose-tree stoo ...</td>\n",
       "        </tr>\n",
       "        <tr>\n",
       "            <td> IX. The Mock Turtle’s Story “You can’t think how glad I ...</td>\n",
       "        </tr>\n",
       "        <tr>\n",
       "            <td> X. The Lobster Quadrille The Mock Turtle sighed deeply, ...</td>\n",
       "        </tr>\n",
       "    </tbody>\n",
       "</table>\n",
       "<p>... (2 rows omitted)</p>"
      ],
      "text/plain": [
       "Chapters\n",
       " I. Down the Rabbit-Hole Alice was beginning to get very ...\n",
       " II. The Pool of Tears “Curiouser and curiouser!” cried  ...\n",
       " III. A Caucus-Race and a Long Tale They were indeed a q ...\n",
       " IV. The Rabbit Sends in a Little Bill It was the White  ...\n",
       " V. Advice from a Caterpillar The Caterpillar and Alice  ...\n",
       " VI. Pig and Pepper For a minute or two she stood lookin ...\n",
       " VII. A Mad Tea-Party There was a table set out under a  ...\n",
       " VIII. The Queen’s Croquet-Ground A large rose-tree stoo ...\n",
       " IX. The Mock Turtle’s Story “You can’t think how glad I ...\n",
       " X. The Lobster Quadrille The Mock Turtle sighed deeply, ...\n",
       "... (2 rows omitted)"
      ]
     },
     "execution_count": 11,
     "metadata": {},
     "output_type": "execute_result"
    }
   ],
   "source": [
    "Table().with_column('Chapters', alice_in_wonderland_chapters)"
   ]
  },
  {
   "cell_type": "code",
   "execution_count": 12,
   "id": "7dda3518-b6fd-4a2d-ae11-dade12eeeeba",
   "metadata": {},
   "outputs": [],
   "source": [
    "import numpy as np"
   ]
  },
  {
   "cell_type": "code",
   "execution_count": 13,
   "id": "db44d403-fba0-4cf5-baef-957a3d19616f",
   "metadata": {},
   "outputs": [
    {
     "data": {
      "text/plain": [
       "array([28, 26, 23, 31, 35, 43, 51, 39, 52, 30, 16, 23])"
      ]
     },
     "execution_count": 13,
     "metadata": {},
     "output_type": "execute_result"
    }
   ],
   "source": [
    "np.char.count(alice_in_wonderland_chapters, 'Alice')"
   ]
  },
  {
   "cell_type": "code",
   "execution_count": 14,
   "id": "b1304227-e899-4ade-b0ce-d5a052e1e764",
   "metadata": {},
   "outputs": [
    {
     "data": {
      "text/plain": [
       "array([ 0,  0,  0,  0,  0,  4,  2, 36, 14,  0,  9, 10])"
      ]
     },
     "execution_count": 14,
     "metadata": {},
     "output_type": "execute_result"
    }
   ],
   "source": [
    "np.char.count(alice_in_wonderland_chapters, 'Queen')"
   ]
  },
  {
   "cell_type": "code",
   "execution_count": 15,
   "id": "6aa226b3-ccba-4afc-bffa-60f0845500dc",
   "metadata": {},
   "outputs": [
    {
     "data": {
      "text/html": [
       "<table border=\"1\" class=\"dataframe\">\n",
       "    <thead>\n",
       "        <tr>\n",
       "            <th>Alice</th> <th>Queen</th> <th>Rabbit</th>\n",
       "        </tr>\n",
       "    </thead>\n",
       "    <tbody>\n",
       "        <tr>\n",
       "            <td>28   </td> <td>0    </td> <td>6     </td>\n",
       "        </tr>\n",
       "        <tr>\n",
       "            <td>26   </td> <td>0    </td> <td>4     </td>\n",
       "        </tr>\n",
       "        <tr>\n",
       "            <td>23   </td> <td>0    </td> <td>0     </td>\n",
       "        </tr>\n",
       "        <tr>\n",
       "            <td>31   </td> <td>0    </td> <td>12    </td>\n",
       "        </tr>\n",
       "        <tr>\n",
       "            <td>35   </td> <td>0    </td> <td>0     </td>\n",
       "        </tr>\n",
       "        <tr>\n",
       "            <td>43   </td> <td>4    </td> <td>0     </td>\n",
       "        </tr>\n",
       "        <tr>\n",
       "            <td>51   </td> <td>2    </td> <td>0     </td>\n",
       "        </tr>\n",
       "        <tr>\n",
       "            <td>39   </td> <td>36   </td> <td>6     </td>\n",
       "        </tr>\n",
       "        <tr>\n",
       "            <td>52   </td> <td>14   </td> <td>0     </td>\n",
       "        </tr>\n",
       "        <tr>\n",
       "            <td>30   </td> <td>0    </td> <td>1     </td>\n",
       "        </tr>\n",
       "    </tbody>\n",
       "</table>\n",
       "<p>... (2 rows omitted)</p>"
      ],
      "text/plain": [
       "Alice | Queen | Rabbit\n",
       "28    | 0     | 6\n",
       "26    | 0     | 4\n",
       "23    | 0     | 0\n",
       "31    | 0     | 12\n",
       "35    | 0     | 0\n",
       "43    | 4     | 0\n",
       "51    | 2     | 0\n",
       "39    | 36    | 6\n",
       "52    | 14    | 0\n",
       "30    | 0     | 1\n",
       "... (2 rows omitted)"
      ]
     },
     "execution_count": 15,
     "metadata": {},
     "output_type": "execute_result"
    }
   ],
   "source": [
    "counts = Table().with_columns(\n",
    "    'Alice', np.char.count(alice_in_wonderland_chapters, 'Alice'),\n",
    "    'Queen', np.char.count(alice_in_wonderland_chapters, 'Queen'),\n",
    "    'Rabbit', np.char.count(alice_in_wonderland_chapters, 'Rabbit')\n",
    ")\n",
    "counts"
   ]
  },
  {
   "cell_type": "code",
   "execution_count": 16,
   "id": "472e0e94-5cd2-4328-9981-d6865c340dd9",
   "metadata": {},
   "outputs": [
    {
     "data": {
      "image/png": "[encoded data removed]",
      "text/plain": [
       "<Figure size 600x600 with 1 Axes>"
      ]
     },
     "metadata": {},
     "output_type": "display_data"
    }
   ],
   "source": [
    "%matplotlib inline\n",
    "import matplotlib.pyplot as plt\n",
    "plt.style.use('fivethirtyeight')\n",
    "\n",
    "counts.with_column('Chapter', np.arange(1, 13)).plot(column_for_xticks='Chapter')"
   ]
  },
  {
   "cell_type": "code",
   "execution_count": 17,
   "id": "7ff63db7-8218-46b9-95c0-fb99674bc1b3",
   "metadata": {},
   "outputs": [
    {
     "data": {
      "text/plain": [
       "array([28, 26, 23, 31, 35, 43, 51, 39, 52, 30, 16, 23])"
      ]
     },
     "execution_count": 17,
     "metadata": {},
     "output_type": "execute_result"
    }
   ],
   "source": [
    "np.char.count(alice_in_wonderland_chapters, 'Alice')"
   ]
  },
  {
   "cell_type": "code",
   "execution_count": 18,
   "id": "e0a7e457-e202-405a-b3a9-cc823a313ad5",
   "metadata": {},
   "outputs": [
    {
     "data": {
      "text/plain": [
       "array([ 28,  54,  77, 108, 143, 186, 237, 276, 328, 358, 374, 397])"
      ]
     },
     "execution_count": 18,
     "metadata": {},
     "output_type": "execute_result"
    }
   ],
   "source": [
    "np.cumsum(counts.column('Alice'))"
   ]
  },
  {
   "cell_type": "code",
   "execution_count": 19,
   "id": "8947e66c-3c06-48e7-b332-12400569698a",
   "metadata": {},
   "outputs": [
    {
     "data": {
      "image/png": "[encoded data removed]",
      "text/plain": [
       "<Figure size 600x600 with 1 Axes>"
      ]
     },
     "metadata": {},
     "output_type": "display_data"
    }
   ],
   "source": [
    "cum_counts_alice = np.cumsum(counts.column(\"Alice\"))\n",
    "cum_counts_queen = np.cumsum(counts.column(\"Queen\"))\n",
    "cum_counts_rabbit = np.cumsum(counts.column(\"Rabbit\"))\n",
    "cumulative_table = Table().with_columns(\n",
    "    'Chapter', np.arange(1, 13),\n",
    "    'Alice', cum_counts_alice,\n",
    "    'Queen', cum_counts_queen,\n",
    "    'Rabbit', cum_counts_rabbit\n",
    ")\n",
    "cumulative_table.plot(column_for_xticks='Chapter')\n",
    "plt.title('Cumulative Number of Times Name Appears')\n",
    "plt.show()"
   ]
  },
  {
   "cell_type": "code",
   "execution_count": 20,
   "id": "41549a06-cead-42e2-aecf-6078a9279ce6",
   "metadata": {},
   "outputs": [
    {
     "data": {
      "text/html": [
       "<table border=\"1\" class=\"dataframe\">\n",
       "    <thead>\n",
       "        <tr>\n",
       "            <th>Chapters</th>\n",
       "        </tr>\n",
       "    </thead>\n",
       "    <tbody>\n",
       "        <tr>\n",
       "            <td> I. It is a truth universally acknowledged, that a singl ...</td>\n",
       "        </tr>\n",
       "        <tr>\n",
       "            <td> II. Mr. Bennet was among the earliest of those who wait ...</td>\n",
       "        </tr>\n",
       "        <tr>\n",
       "            <td> III. Not all that Mrs. Bennet, however, with the assist ...</td>\n",
       "        </tr>\n",
       "        <tr>\n",
       "            <td> IV. When Jane and Elizabeth were alone, the former, who ...</td>\n",
       "        </tr>\n",
       "        <tr>\n",
       "            <td> V. Within a short walk of Longbourn lived a family with ...</td>\n",
       "        </tr>\n",
       "        <tr>\n",
       "            <td> VI. The ladies of Longbourn soon waited on those of Net ...</td>\n",
       "        </tr>\n",
       "        <tr>\n",
       "            <td> VII. Mr. Bennet’s property consisted almost entirely in ...</td>\n",
       "        </tr>\n",
       "        <tr>\n",
       "            <td> VIII. At five o’clock the two ladies retired to dress,  ...</td>\n",
       "        </tr>\n",
       "        <tr>\n",
       "            <td> IX. Elizabeth passed the chief of the night in her sist ...</td>\n",
       "        </tr>\n",
       "        <tr>\n",
       "            <td> X. The day passed much as the day before had done. Mrs. ...</td>\n",
       "        </tr>\n",
       "    </tbody>\n",
       "</table>\n",
       "<p>... (50 rows omitted)</p>"
      ],
      "text/plain": [
       "Chapters\n",
       " I. It is a truth universally acknowledged, that a singl ...\n",
       " II. Mr. Bennet was among the earliest of those who wait ...\n",
       " III. Not all that Mrs. Bennet, however, with the assist ...\n",
       " IV. When Jane and Elizabeth were alone, the former, who ...\n",
       " V. Within a short walk of Longbourn lived a family with ...\n",
       " VI. The ladies of Longbourn soon waited on those of Net ...\n",
       " VII. Mr. Bennet’s property consisted almost entirely in ...\n",
       " VIII. At five o’clock the two ladies retired to dress,  ...\n",
       " IX. Elizabeth passed the chief of the night in her sist ...\n",
       " X. The day passed much as the day before had done. Mrs. ...\n",
       "... (50 rows omitted)"
      ]
     },
     "execution_count": 20,
     "metadata": {},
     "output_type": "execute_result"
    }
   ],
   "source": [
    "Table().with_column('Chapters', pride_and_prejudice_chapters)"
   ]
  },
  {
   "cell_type": "code",
   "execution_count": 21,
   "id": "bc57304b-6f9d-48f9-9bc6-b83c6f394ce6",
   "metadata": {},
   "outputs": [],
   "source": [
    "names = ['Elizabeth', 'Darcy', 'Jane', 'Bingley']\n",
    "mentions = {name: np.char.count(pride_and_prejudice_chapters, name) for name in names}\n",
    "counts = Table().with_columns((name, mentions[name]) for name in names)"
   ]
  },
  {
   "cell_type": "code",
   "execution_count": 22,
   "id": "795f889c-f78e-4cfa-8b8c-68eaafd403e7",
   "metadata": {},
   "outputs": [
    {
     "data": {
      "text/html": [
       "<table border=\"1\" class=\"dataframe\">\n",
       "    <thead>\n",
       "        <tr>\n",
       "            <th>Elizabeth</th> <th>Darcy</th> <th>Jane</th> <th>Bingley</th>\n",
       "        </tr>\n",
       "    </thead>\n",
       "    <tbody>\n",
       "        <tr>\n",
       "            <td>0        </td> <td>0    </td> <td>1   </td> <td>4      </td>\n",
       "        </tr>\n",
       "        <tr>\n",
       "            <td>1        </td> <td>0    </td> <td>0   </td> <td>7      </td>\n",
       "        </tr>\n",
       "        <tr>\n",
       "            <td>4        </td> <td>7    </td> <td>5   </td> <td>16     </td>\n",
       "        </tr>\n",
       "        <tr>\n",
       "            <td>3        </td> <td>7    </td> <td>1   </td> <td>11     </td>\n",
       "        </tr>\n",
       "        <tr>\n",
       "            <td>2        </td> <td>3    </td> <td>3   </td> <td>2      </td>\n",
       "        </tr>\n",
       "        <tr>\n",
       "            <td>11       </td> <td>14   </td> <td>9   </td> <td>8      </td>\n",
       "        </tr>\n",
       "        <tr>\n",
       "            <td>14       </td> <td>1    </td> <td>12  </td> <td>8      </td>\n",
       "        </tr>\n",
       "        <tr>\n",
       "            <td>13       </td> <td>10   </td> <td>5   </td> <td>21     </td>\n",
       "        </tr>\n",
       "        <tr>\n",
       "            <td>8        </td> <td>8    </td> <td>8   </td> <td>17     </td>\n",
       "        </tr>\n",
       "        <tr>\n",
       "            <td>16       </td> <td>21   </td> <td>2   </td> <td>18     </td>\n",
       "        </tr>\n",
       "    </tbody>\n",
       "</table>\n",
       "<p>... (50 rows omitted)</p>"
      ],
      "text/plain": [
       "Elizabeth | Darcy | Jane | Bingley\n",
       "0         | 0     | 1    | 4\n",
       "1         | 0     | 0    | 7\n",
       "4         | 7     | 5    | 16\n",
       "3         | 7     | 1    | 11\n",
       "2         | 3     | 3    | 2\n",
       "11        | 14    | 9    | 8\n",
       "14        | 1     | 12   | 8\n",
       "13        | 10    | 5    | 21\n",
       "8         | 8     | 8    | 17\n",
       "16        | 21    | 2    | 18\n",
       "... (50 rows omitted)"
      ]
     },
     "execution_count": 22,
     "metadata": {},
     "output_type": "execute_result"
    }
   ],
   "source": [
    "counts"
   ]
  },
  {
   "cell_type": "code",
   "execution_count": 23,
   "id": "73f48945-ad7e-4ee6-b91b-c53ecc511085",
   "metadata": {},
   "outputs": [
    {
     "data": {
      "text/html": [
       "<table border=\"1\" class=\"dataframe\">\n",
       "    <thead>\n",
       "        <tr>\n",
       "            <th>Elizabeth</th> <th>Darcy</th> <th>Jane</th> <th>Bingley</th>\n",
       "        </tr>\n",
       "    </thead>\n",
       "    <tbody>\n",
       "        <tr>\n",
       "            <td>0        </td> <td>0    </td> <td>1   </td> <td>4      </td>\n",
       "        </tr>\n",
       "        <tr>\n",
       "            <td>1        </td> <td>0    </td> <td>0   </td> <td>7      </td>\n",
       "        </tr>\n",
       "        <tr>\n",
       "            <td>4        </td> <td>7    </td> <td>5   </td> <td>16     </td>\n",
       "        </tr>\n",
       "        <tr>\n",
       "            <td>3        </td> <td>7    </td> <td>1   </td> <td>11     </td>\n",
       "        </tr>\n",
       "        <tr>\n",
       "            <td>2        </td> <td>3    </td> <td>3   </td> <td>2      </td>\n",
       "        </tr>\n",
       "        <tr>\n",
       "            <td>11       </td> <td>14   </td> <td>9   </td> <td>8      </td>\n",
       "        </tr>\n",
       "        <tr>\n",
       "            <td>14       </td> <td>1    </td> <td>12  </td> <td>8      </td>\n",
       "        </tr>\n",
       "        <tr>\n",
       "            <td>13       </td> <td>10   </td> <td>5   </td> <td>21     </td>\n",
       "        </tr>\n",
       "        <tr>\n",
       "            <td>8        </td> <td>8    </td> <td>8   </td> <td>17     </td>\n",
       "        </tr>\n",
       "        <tr>\n",
       "            <td>16       </td> <td>21   </td> <td>2   </td> <td>18     </td>\n",
       "        </tr>\n",
       "        <tr>\n",
       "            <td>13       </td> <td>14   </td> <td>1   </td> <td>11     </td>\n",
       "        </tr>\n",
       "        <tr>\n",
       "            <td>7        </td> <td>1    </td> <td>7   </td> <td>5      </td>\n",
       "        </tr>\n",
       "        <tr>\n",
       "            <td>2        </td> <td>0    </td> <td>3   </td> <td>3      </td>\n",
       "        </tr>\n",
       "        <tr>\n",
       "            <td>1        </td> <td>0    </td> <td>0   </td> <td>0      </td>\n",
       "        </tr>\n",
       "        <tr>\n",
       "            <td>6        </td> <td>3    </td> <td>6   </td> <td>3      </td>\n",
       "        </tr>\n",
       "        <tr>\n",
       "            <td>18       </td> <td>21   </td> <td>0   </td> <td>4      </td>\n",
       "        </tr>\n",
       "        <tr>\n",
       "            <td>9        </td> <td>4    </td> <td>6   </td> <td>6      </td>\n",
       "        </tr>\n",
       "        <tr>\n",
       "            <td>26       </td> <td>41   </td> <td>12  </td> <td>24     </td>\n",
       "        </tr>\n",
       "        <tr>\n",
       "            <td>11       </td> <td>0    </td> <td>0   </td> <td>0      </td>\n",
       "        </tr>\n",
       "        <tr>\n",
       "            <td>9        </td> <td>0    </td> <td>4   </td> <td>0      </td>\n",
       "        </tr>\n",
       "        <tr>\n",
       "            <td>8        </td> <td>7    </td> <td>13  </td> <td>11     </td>\n",
       "        </tr>\n",
       "        <tr>\n",
       "            <td>10       </td> <td>0    </td> <td>0   </td> <td>0      </td>\n",
       "        </tr>\n",
       "        <tr>\n",
       "            <td>11       </td> <td>1    </td> <td>8   </td> <td>4      </td>\n",
       "        </tr>\n",
       "        <tr>\n",
       "            <td>9        </td> <td>7    </td> <td>13  </td> <td>5      </td>\n",
       "        </tr>\n",
       "        <tr>\n",
       "            <td>7        </td> <td>6    </td> <td>9   </td> <td>6      </td>\n",
       "        </tr>\n",
       "        <tr>\n",
       "            <td>17       </td> <td>5    </td> <td>7   </td> <td>6      </td>\n",
       "        </tr>\n",
       "        <tr>\n",
       "            <td>8        </td> <td>0    </td> <td>4   </td> <td>1      </td>\n",
       "        </tr>\n",
       "        <tr>\n",
       "            <td>13       </td> <td>0    </td> <td>0   </td> <td>0      </td>\n",
       "        </tr>\n",
       "        <tr>\n",
       "            <td>14       </td> <td>1    </td> <td>0   </td> <td>0      </td>\n",
       "        </tr>\n",
       "        <tr>\n",
       "            <td>9        </td> <td>4    </td> <td>1   </td> <td>2      </td>\n",
       "        </tr>\n",
       "        <tr>\n",
       "            <td>10       </td> <td>14   </td> <td>0   </td> <td>1      </td>\n",
       "        </tr>\n",
       "        <tr>\n",
       "            <td>10       </td> <td>8    </td> <td>2   </td> <td>3      </td>\n",
       "        </tr>\n",
       "        <tr>\n",
       "            <td>4        </td> <td>18   </td> <td>5   </td> <td>9      </td>\n",
       "        </tr>\n",
       "        <tr>\n",
       "            <td>9        </td> <td>11   </td> <td>3   </td> <td>0      </td>\n",
       "        </tr>\n",
       "        <tr>\n",
       "            <td>2        </td> <td>4    </td> <td>0   </td> <td>5      </td>\n",
       "        </tr>\n",
       "        <tr>\n",
       "            <td>2        </td> <td>14   </td> <td>6   </td> <td>3      </td>\n",
       "        </tr>\n",
       "        <tr>\n",
       "            <td>4        </td> <td>5    </td> <td>4   </td> <td>1      </td>\n",
       "        </tr>\n",
       "        <tr>\n",
       "            <td>10       </td> <td>1    </td> <td>3   </td> <td>1      </td>\n",
       "        </tr>\n",
       "        <tr>\n",
       "            <td>9        </td> <td>0    </td> <td>5   </td> <td>0      </td>\n",
       "        </tr>\n",
       "        <tr>\n",
       "            <td>6        </td> <td>10   </td> <td>9   </td> <td>2      </td>\n",
       "        </tr>\n",
       "        <tr>\n",
       "            <td>10       </td> <td>4    </td> <td>2   </td> <td>0      </td>\n",
       "        </tr>\n",
       "        <tr>\n",
       "            <td>10       </td> <td>1    </td> <td>2   </td> <td>0      </td>\n",
       "        </tr>\n",
       "        <tr>\n",
       "            <td>40       </td> <td>17   </td> <td>0   </td> <td>2      </td>\n",
       "        </tr>\n",
       "        <tr>\n",
       "            <td>14       </td> <td>17   </td> <td>2   </td> <td>6      </td>\n",
       "        </tr>\n",
       "        <tr>\n",
       "            <td>30       </td> <td>26   </td> <td>7   </td> <td>14     </td>\n",
       "        </tr>\n",
       "        <tr>\n",
       "            <td>19       </td> <td>3    </td> <td>16  </td> <td>0      </td>\n",
       "        </tr>\n",
       "        <tr>\n",
       "            <td>8        </td> <td>1    </td> <td>3   </td> <td>0      </td>\n",
       "        </tr>\n",
       "        <tr>\n",
       "            <td>13       </td> <td>0    </td> <td>11  </td> <td>0      </td>\n",
       "        </tr>\n",
       "        <tr>\n",
       "            <td>3        </td> <td>2    </td> <td>2   </td> <td>0      </td>\n",
       "        </tr>\n",
       "        <tr>\n",
       "            <td>15       </td> <td>3    </td> <td>7   </td> <td>0      </td>\n",
       "        </tr>\n",
       "        <tr>\n",
       "            <td>5        </td> <td>10   </td> <td>3   </td> <td>0      </td>\n",
       "        </tr>\n",
       "        <tr>\n",
       "            <td>15       </td> <td>7    </td> <td>12  </td> <td>15     </td>\n",
       "        </tr>\n",
       "        <tr>\n",
       "            <td>12       </td> <td>5    </td> <td>5   </td> <td>4      </td>\n",
       "        </tr>\n",
       "        <tr>\n",
       "            <td>18       </td> <td>1    </td> <td>19  </td> <td>14     </td>\n",
       "        </tr>\n",
       "        <tr>\n",
       "            <td>20       </td> <td>6    </td> <td>1   </td> <td>2      </td>\n",
       "        </tr>\n",
       "        <tr>\n",
       "            <td>11       </td> <td>4    </td> <td>1   </td> <td>2      </td>\n",
       "        </tr>\n",
       "        <tr>\n",
       "            <td>14       </td> <td>8    </td> <td>3   </td> <td>7      </td>\n",
       "        </tr>\n",
       "        <tr>\n",
       "            <td>13       </td> <td>15   </td> <td>11  </td> <td>9      </td>\n",
       "        </tr>\n",
       "        <tr>\n",
       "            <td>7        </td> <td>7    </td> <td>5   </td> <td>3      </td>\n",
       "        </tr>\n",
       "        <tr>\n",
       "            <td>11       </td> <td>9    </td> <td>3   </td> <td>5      </td>\n",
       "        </tr>\n",
       "    </tbody>\n",
       "</table>"
      ],
      "text/plain": [
       "<IPython.core.display.HTML object>"
      ]
     },
     "metadata": {},
     "output_type": "display_data"
    }
   ],
   "source": [
    "counts.show()"
   ]
  },
  {
   "cell_type": "code",
   "execution_count": 24,
   "id": "d8607014-0917-4fa5-9efc-b9bd6c024149",
   "metadata": {},
   "outputs": [
    {
     "data": {
      "image/png": "[encoded data removed]",
      "text/plain": [
       "<Figure size 600x600 with 1 Axes>"
      ]
     },
     "metadata": {},
     "output_type": "display_data"
    }
   ],
   "source": [
    "cumulative_table = Table().with_column('Chapter', np.arange(1, len(pride_and_prejudice_chapters) + 1))\n",
    "cumulative_table = cumulative_table.with_columns((name, np.cumsum(counts.column(name))) for name in names)\n",
    "cumulative_table.plot(column_for_xticks='Chapter')\n",
    "plt.title('Cumulative Number of Times Names Appear in Pride and Prejudice')\n",
    "plt.show()"
   ]
  },
  {
   "cell_type": "code",
   "execution_count": 25,
   "id": "94a0322e-2eb0-4a3d-a6f5-9e4a71ea532e",
   "metadata": {},
   "outputs": [
    {
     "data": {
      "text/plain": [
       "60"
      ]
     },
     "execution_count": 25,
     "metadata": {},
     "output_type": "execute_result"
    }
   ],
   "source": [
    "len(pride_and_prejudice_chapters)"
   ]
  },
  {
   "cell_type": "code",
   "execution_count": 26,
   "id": "6aabaf2b-f115-4047-95d7-d41b53438a30",
   "metadata": {},
   "outputs": [
    {
     "data": {
      "text/plain": [
       "5"
      ]
     },
     "execution_count": 26,
     "metadata": {},
     "output_type": "execute_result"
    }
   ],
   "source": [
    "len('hello')"
   ]
  },
  {
   "cell_type": "code",
   "execution_count": 27,
   "id": "9236e7f5-5b5e-45c1-8e70-6bb2d397d75e",
   "metadata": {},
   "outputs": [
    {
     "data": {
      "application/vnd.plotly.v1+json": {
       "config": {
        "plotlyServerURL": "https://plot.ly"
       },
       "data": [
        {
         "line": {
          "color": "rgb(0,30,66)"
         },
         "mode": "lines",
         "name": "Elizabeth",
         "type": "scatter",
         "x": {
          "_inputArray": {
           "0": 1,
           "1": 2,
           "10": 11,
           "11": 12,
           "12": 13,
           "13": 14,
           "14": 15,
           "15": 16,
           "16": 17,
           "17": 18,
           "18": 19,
           "19": 20,
           "2": 3,
           "20": 21,
           "21": 22,
           "22": 23,
           "23": 24,
           "24": 25,
           "25": 26,
           "26": 27,
           "27": 28,
           "28": 29,
           "29": 30,
           "3": 4,
           "30": 31,
           "31": 32,
           "32": 33,
           "33": 34,
           "34": 35,
           "35": 36,
           "36": 37,
           "37": 38,
           "38": 39,
           "39": 40,
           "4": 5,
           "40": 41,
           "41": 42,
           "42": 43,
           "43": 44,
           "44": 45,
           "45": 46,
           "46": 47,
           "47": 48,
           "48": 49,
           "49": 50,
           "5": 6,
           "50": 51,
           "51": 52,
           "52": 53,
           "53": 54,
           "54": 55,
           "55": 56,
           "56": 57,
           "57": 58,
           "58": 59,
           "59": 60,
           "6": 7,
           "7": 8,
           "8": 9,
           "9": 10,
           "bdata": "AQIDBAUGBwgJCgsMDQ4PEBESExQVFhcYGRobHB0eHyAhIiMkJSYnKCkqKywtLi8wMTIzNDU2Nzg5Ojs8",
           "dtype": "i1",
           "shape": "60"
          },
          "bdata": "AQIDBAUGBwgJCgsMDQ4PEBESExQVFhcYGRobHB0eHyAhIiMkJSYnKCkqKywtLi8wMTIzNDU2Nzg5Ojs8",
          "dtype": "i1"
         },
         "y": {
          "_inputArray": {
           "0": 0,
           "1": 1,
           "10": 85,
           "11": 92,
           "12": 94,
           "13": 95,
           "14": 101,
           "15": 119,
           "16": 128,
           "17": 154,
           "18": 165,
           "19": 174,
           "2": 5,
           "20": 182,
           "21": 192,
           "22": 203,
           "23": 212,
           "24": 219,
           "25": 236,
           "26": 244,
           "27": 257,
           "28": 271,
           "29": 280,
           "3": 8,
           "30": 290,
           "31": 300,
           "32": 304,
           "33": 313,
           "34": 315,
           "35": 317,
           "36": 321,
           "37": 331,
           "38": 340,
           "39": 346,
           "4": 10,
           "40": 356,
           "41": 366,
           "42": 406,
           "43": 420,
           "44": 450,
           "45": 469,
           "46": 477,
           "47": 490,
           "48": 493,
           "49": 508,
           "5": 21,
           "50": 513,
           "51": 528,
           "52": 540,
           "53": 558,
           "54": 578,
           "55": 589,
           "56": 603,
           "57": 616,
           "58": 623,
           "59": 634,
           "6": 35,
           "7": 48,
           "8": 56,
           "9": 72,
           "bdata": "AAABAAUACAAKABUAIwAwADgASABVAFwAXgBfAGUAdwCAAJoApQCuALYAwADLANQA2wDsAPQAAQEPARgBIgEsATABOQE7AT0BQQFLAVQBWgFkAW4BlgGkAcIB1QHdAeoB7QH8AQECEAIcAi4CQgJNAlsCaAJvAnoC",
           "dtype": "i2",
           "shape": "60"
          },
          "bdata": "AAABAAUACAAKABUAIwAwADgASABVAFwAXgBfAGUAdwCAAJoApQCuALYAwADLANQA2wDsAPQAAQEPARgBIgEsATABOQE7AT0BQQFLAVQBWgFkAW4BlgGkAcIB1QHdAeoB7QH8AQECEAIcAi4CQgJNAlsCaAJvAnoC",
          "dtype": "i2"
         }
        },
        {
         "line": {
          "color": "rgb(256,200,44)"
         },
         "mode": "lines",
         "name": "Darcy",
         "type": "scatter",
         "x": {
          "_inputArray": {
           "0": 1,
           "1": 2,
           "10": 11,
           "11": 12,
           "12": 13,
           "13": 14,
           "14": 15,
           "15": 16,
           "16": 17,
           "17": 18,
           "18": 19,
           "19": 20,
           "2": 3,
           "20": 21,
           "21": 22,
           "22": 23,
           "23": 24,
           "24": 25,
           "25": 26,
           "26": 27,
           "27": 28,
           "28": 29,
           "29": 30,
           "3": 4,
           "30": 31,
           "31": 32,
           "32": 33,
           "33": 34,
           "34": 35,
           "35": 36,
           "36": 37,
           "37": 38,
           "38": 39,
           "39": 40,
           "4": 5,
           "40": 41,
           "41": 42,
           "42": 43,
           "43": 44,
           "44": 45,
           "45": 46,
           "46": 47,
           "47": 48,
           "48": 49,
           "49": 50,
           "5": 6,
           "50": 51,
           "51": 52,
           "52": 53,
           "53": 54,
           "54": 55,
           "55": 56,
           "56": 57,
           "57": 58,
           "58": 59,
           "59": 60,
           "6": 7,
           "7": 8,
           "8": 9,
           "9": 10,
           "bdata": "AQIDBAUGBwgJCgsMDQ4PEBESExQVFhcYGRobHB0eHyAhIiMkJSYnKCkqKywtLi8wMTIzNDU2Nzg5Ojs8",
           "dtype": "i1",
           "shape": "60"
          },
          "bdata": "AQIDBAUGBwgJCgsMDQ4PEBESExQVFhcYGRobHB0eHyAhIiMkJSYnKCkqKywtLi8wMTIzNDU2Nzg5Ojs8",
          "dtype": "i1"
         },
         "y": {
          "_inputArray": {
           "0": 0,
           "1": 0,
           "10": 85,
           "11": 86,
           "12": 86,
           "13": 86,
           "14": 89,
           "15": 110,
           "16": 114,
           "17": 155,
           "18": 155,
           "19": 155,
           "2": 7,
           "20": 162,
           "21": 162,
           "22": 163,
           "23": 170,
           "24": 176,
           "25": 181,
           "26": 181,
           "27": 181,
           "28": 182,
           "29": 186,
           "3": 14,
           "30": 200,
           "31": 208,
           "32": 226,
           "33": 237,
           "34": 241,
           "35": 255,
           "36": 260,
           "37": 261,
           "38": 261,
           "39": 271,
           "4": 17,
           "40": 275,
           "41": 276,
           "42": 293,
           "43": 310,
           "44": 336,
           "45": 339,
           "46": 340,
           "47": 340,
           "48": 342,
           "49": 345,
           "5": 31,
           "50": 355,
           "51": 362,
           "52": 367,
           "53": 368,
           "54": 374,
           "55": 378,
           "56": 386,
           "57": 401,
           "58": 408,
           "59": 417,
           "6": 32,
           "7": 42,
           "8": 50,
           "9": 71,
           "bdata": "AAAAAAcADgARAB8AIAAqADIARwBVAFYAVgBWAFkAbgByAJsAmwCbAKIAogCjAKoAsAC1ALUAtQC2ALoAyADQAOIA7QDxAP8ABAEFAQUBDwETARQBJQE2AVABUwFUAVQBVgFZAWMBagFvAXABdgF6AYIBkQGYAaEB",
           "dtype": "i2",
           "shape": "60"
          },
          "bdata": "AAAAAAcADgARAB8AIAAqADIARwBVAFYAVgBWAFkAbgByAJsAmwCbAKIAogCjAKoAsAC1ALUAtQC2ALoAyADQAOIA7QDxAP8ABAEFAQUBDwETARQBJQE2AVABUwFUAVQBVgFZAWMBagFvAXABdgF6AYIBkQGYAaEB",
          "dtype": "i2"
         }
        },
        {
         "line": {
          "color": "rgb(0,150,207)"
         },
         "mode": "lines",
         "name": "Jane",
         "type": "scatter",
         "x": {
          "_inputArray": {
           "0": 1,
           "1": 2,
           "10": 11,
           "11": 12,
           "12": 13,
           "13": 14,
           "14": 15,
           "15": 16,
           "16": 17,
           "17": 18,
           "18": 19,
           "19": 20,
           "2": 3,
           "20": 21,
           "21": 22,
           "22": 23,
           "23": 24,
           "24": 25,
           "25": 26,
           "26": 27,
           "27": 28,
           "28": 29,
           "29": 30,
           "3": 4,
           "30": 31,
           "31": 32,
           "32": 33,
           "33": 34,
           "34": 35,
           "35": 36,
           "36": 37,
           "37": 38,
           "38": 39,
           "39": 40,
           "4": 5,
           "40": 41,
           "41": 42,
           "42": 43,
           "43": 44,
           "44": 45,
           "45": 46,
           "46": 47,
           "47": 48,
           "48": 49,
           "49": 50,
           "5": 6,
           "50": 51,
           "51": 52,
           "52": 53,
           "53": 54,
           "54": 55,
           "55": 56,
           "56": 57,
           "57": 58,
           "58": 59,
           "59": 60,
           "6": 7,
           "7": 8,
           "8": 9,
           "9": 10,
           "bdata": "AQIDBAUGBwgJCgsMDQ4PEBESExQVFhcYGRobHB0eHyAhIiMkJSYnKCkqKywtLi8wMTIzNDU2Nzg5Ojs8",
           "dtype": "i1",
           "shape": "60"
          },
          "bdata": "AQIDBAUGBwgJCgsMDQ4PEBESExQVFhcYGRobHB0eHyAhIiMkJSYnKCkqKywtLi8wMTIzNDU2Nzg5Ojs8",
          "dtype": "i1"
         },
         "y": {
          "_inputArray": {
           "0": 1,
           "1": 1,
           "10": 47,
           "11": 54,
           "12": 57,
           "13": 57,
           "14": 63,
           "15": 63,
           "16": 69,
           "17": 81,
           "18": 81,
           "19": 85,
           "2": 6,
           "20": 98,
           "21": 98,
           "22": 106,
           "23": 119,
           "24": 128,
           "25": 135,
           "26": 139,
           "27": 139,
           "28": 139,
           "29": 140,
           "3": 7,
           "30": 140,
           "31": 142,
           "32": 147,
           "33": 150,
           "34": 150,
           "35": 156,
           "36": 160,
           "37": 163,
           "38": 168,
           "39": 177,
           "4": 10,
           "40": 179,
           "41": 181,
           "42": 181,
           "43": 183,
           "44": 190,
           "45": 206,
           "46": 209,
           "47": 220,
           "48": 222,
           "49": 229,
           "5": 19,
           "50": 232,
           "51": 244,
           "52": 249,
           "53": 268,
           "54": 269,
           "55": 270,
           "56": 273,
           "57": 284,
           "58": 289,
           "59": 292,
           "6": 31,
           "7": 36,
           "8": 44,
           "9": 46,
           "bdata": "AQABAAYABwAKABMAHwAkACwALgAvADYAOQA5AD8APwBFAFEAUQBVAGIAYgBqAHcAgACHAIsAiwCLAIwAjACOAJMAlgCWAJwAoACjAKgAsQCzALUAtQC3AL4AzgDRANwA3gDlAOgA9AD5AAwBDQEOAREBHAEhASQB",
           "dtype": "i2",
           "shape": "60"
          },
          "bdata": "AQABAAYABwAKABMAHwAkACwALgAvADYAOQA5AD8APwBFAFEAUQBVAGIAYgBqAHcAgACHAIsAiwCLAIwAjACOAJMAlgCWAJwAoACjAKgAsQCzALUAtQC3AL4AzgDRANwA3gDlAOgA9AD5AAwBDQEOAREBHAEhASQB",
          "dtype": "i2"
         }
        },
        {
         "line": {
          "color": "rgb(30,100,0)"
         },
         "mode": "lines",
         "name": "Bingley",
         "type": "scatter",
         "x": {
          "_inputArray": {
           "0": 1,
           "1": 2,
           "10": 11,
           "11": 12,
           "12": 13,
           "13": 14,
           "14": 15,
           "15": 16,
           "16": 17,
           "17": 18,
           "18": 19,
           "19": 20,
           "2": 3,
           "20": 21,
           "21": 22,
           "22": 23,
           "23": 24,
           "24": 25,
           "25": 26,
           "26": 27,
           "27": 28,
           "28": 29,
           "29": 30,
           "3": 4,
           "30": 31,
           "31": 32,
           "32": 33,
           "33": 34,
           "34": 35,
           "35": 36,
           "36": 37,
           "37": 38,
           "38": 39,
           "39": 40,
           "4": 5,
           "40": 41,
           "41": 42,
           "42": 43,
           "43": 44,
           "44": 45,
           "45": 46,
           "46": 47,
           "47": 48,
           "48": 49,
           "49": 50,
           "5": 6,
           "50": 51,
           "51": 52,
           "52": 53,
           "53": 54,
           "54": 55,
           "55": 56,
           "56": 57,
           "57": 58,
           "58": 59,
           "59": 60,
           "6": 7,
           "7": 8,
           "8": 9,
           "9": 10,
           "bdata": "AQIDBAUGBwgJCgsMDQ4PEBESExQVFhcYGRobHB0eHyAhIiMkJSYnKCkqKywtLi8wMTIzNDU2Nzg5Ojs8",
           "dtype": "i1",
           "shape": "60"
          },
          "bdata": "AQIDBAUGBwgJCgsMDQ4PEBESExQVFhcYGRobHB0eHyAhIiMkJSYnKCkqKywtLi8wMTIzNDU2Nzg5Ojs8",
          "dtype": "i1"
         },
         "y": {
          "_inputArray": {
           "0": 4,
           "1": 11,
           "10": 123,
           "11": 128,
           "12": 131,
           "13": 131,
           "14": 134,
           "15": 138,
           "16": 144,
           "17": 168,
           "18": 168,
           "19": 168,
           "2": 27,
           "20": 179,
           "21": 179,
           "22": 183,
           "23": 188,
           "24": 194,
           "25": 200,
           "26": 201,
           "27": 201,
           "28": 201,
           "29": 203,
           "3": 38,
           "30": 204,
           "31": 207,
           "32": 216,
           "33": 216,
           "34": 221,
           "35": 224,
           "36": 225,
           "37": 226,
           "38": 226,
           "39": 228,
           "4": 40,
           "40": 228,
           "41": 228,
           "42": 230,
           "43": 236,
           "44": 250,
           "45": 250,
           "46": 250,
           "47": 250,
           "48": 250,
           "49": 250,
           "5": 48,
           "50": 250,
           "51": 265,
           "52": 269,
           "53": 283,
           "54": 285,
           "55": 287,
           "56": 294,
           "57": 303,
           "58": 306,
           "59": 311,
           "6": 56,
           "7": 77,
           "8": 94,
           "9": 112,
           "bdata": "BAALABsAJgAoADAAOABNAF4AcAB7AIAAgwCDAIYAigCQAKgAqACoALMAswC3ALwAwgDIAMkAyQDJAMsAzADPANgA2ADdAOAA4QDiAOIA5ADkAOQA5gDsAPoA+gD6APoA+gD6APoACQENARsBHQEfASYBLwEyATcB",
           "dtype": "i2",
           "shape": "60"
          },
          "bdata": "BAALABsAJgAoADAAOABNAF4AcAB7AIAAgwCDAIYAigCQAKgAqACoALMAswC3ALwAwgDIAMkAyQDJAMsAzADPANgA2ADdAOAA4QDiAOIA5ADkAOQA5gDsAPoA+gD6APoA+gD6APoACQENARsBHQEfASYBLwEyATcB",
          "dtype": "i2"
         }
        }
       ],
       "layout": {
        "autosize": true,
        "template": {
         "data": {
          "bar": [
           {
            "error_x": {
             "color": "#2a3f5f"
            },
            "error_y": {
             "color": "#2a3f5f"
            },
            "marker": {
             "line": {
              "color": "#E5ECF6",
              "width": 0.5
             },
             "pattern": {
              "fillmode": "overlay",
              "size": 10,
              "solidity": 0.2
             }
            },
            "type": "bar"
           }
          ],
          "barpolar": [
           {
            "marker": {
             "line": {
              "color": "#E5ECF6",
              "width": 0.5
             },
             "pattern": {
              "fillmode": "overlay",
              "size": 10,
              "solidity": 0.2
             }
            },
            "type": "barpolar"
           }
          ],
          "carpet": [
           {
            "aaxis": {
             "endlinecolor": "#2a3f5f",
             "gridcolor": "white",
             "linecolor": "white",
             "minorgridcolor": "white",
             "startlinecolor": "#2a3f5f"
            },
            "baxis": {
             "endlinecolor": "#2a3f5f",
             "gridcolor": "white",
             "linecolor": "white",
             "minorgridcolor": "white",
             "startlinecolor": "#2a3f5f"
            },
            "type": "carpet"
           }
          ],
          "choropleth": [
           {
            "colorbar": {
             "outlinewidth": 0,
             "ticks": ""
            },
            "type": "choropleth"
           }
          ],
          "contour": [
           {
            "colorbar": {
             "outlinewidth": 0,
             "ticks": ""
            },
            "colorscale": [
             [
              0,
              "#0d0887"
             ],
             [
              0.1111111111111111,
              "#46039f"
             ],
             [
              0.2222222222222222,
              "#7201a8"
             ],
             [
              0.3333333333333333,
              "#9c179e"
             ],
             [
              0.4444444444444444,
              "#bd3786"
             ],
             [
              0.5555555555555556,
              "#d8576b"
             ],
             [
              0.6666666666666666,
              "#ed7953"
             ],
             [
              0.7777777777777778,
              "#fb9f3a"
             ],
             [
              0.8888888888888888,
              "#fdca26"
             ],
             [
              1,
              "#f0f921"
             ]
            ],
            "type": "contour"
           }
          ],
          "contourcarpet": [
           {
            "colorbar": {
             "outlinewidth": 0,
             "ticks": ""
            },
            "type": "contourcarpet"
           }
          ],
          "heatmap": [
           {
            "colorbar": {
             "outlinewidth": 0,
             "ticks": ""
            },
            "colorscale": [
             [
              0,
              "#0d0887"
             ],
             [
              0.1111111111111111,
              "#46039f"
             ],
             [
              0.2222222222222222,
              "#7201a8"
             ],
             [
              0.3333333333333333,
              "#9c179e"
             ],
             [
              0.4444444444444444,
              "#bd3786"
             ],
             [
              0.5555555555555556,
              "#d8576b"
             ],
             [
              0.6666666666666666,
              "#ed7953"
             ],
             [
              0.7777777777777778,
              "#fb9f3a"
             ],
             [
              0.8888888888888888,
              "#fdca26"
             ],
             [
              1,
              "#f0f921"
             ]
            ],
            "type": "heatmap"
           }
          ],
          "histogram": [
           {
            "marker": {
             "pattern": {
              "fillmode": "overlay",
              "size": 10,
              "solidity": 0.2
             }
            },
            "type": "histogram"
           }
          ],
          "histogram2d": [
           {
            "colorbar": {
             "outlinewidth": 0,
             "ticks": ""
            },
            "colorscale": [
             [
              0,
              "#0d0887"
             ],
             [
              0.1111111111111111,
              "#46039f"
             ],
             [
              0.2222222222222222,
              "#7201a8"
             ],
             [
              0.3333333333333333,
              "#9c179e"
             ],
             [
              0.4444444444444444,
              "#bd3786"
             ],
             [
              0.5555555555555556,
              "#d8576b"
             ],
             [
              0.6666666666666666,
              "#ed7953"
             ],
             [
              0.7777777777777778,
              "#fb9f3a"
             ],
             [
              0.8888888888888888,
              "#fdca26"
             ],
             [
              1,
              "#f0f921"
             ]
            ],
            "type": "histogram2d"
           }
          ],
          "histogram2dcontour": [
           {
            "colorbar": {
             "outlinewidth": 0,
             "ticks": ""
            },
            "colorscale": [
             [
              0,
              "#0d0887"
             ],
             [
              0.1111111111111111,
              "#46039f"
             ],
             [
              0.2222222222222222,
              "#7201a8"
             ],
             [
              0.3333333333333333,
              "#9c179e"
             ],
             [
              0.4444444444444444,
              "#bd3786"
             ],
             [
              0.5555555555555556,
              "#d8576b"
             ],
             [
              0.6666666666666666,
              "#ed7953"
             ],
             [
              0.7777777777777778,
              "#fb9f3a"
             ],
             [
              0.8888888888888888,
              "#fdca26"
             ],
             [
              1,
              "#f0f921"
             ]
            ],
            "type": "histogram2dcontour"
           }
          ],
          "mesh3d": [
           {
            "colorbar": {
             "outlinewidth": 0,
             "ticks": ""
            },
            "type": "mesh3d"
           }
          ],
          "parcoords": [
           {
            "line": {
             "colorbar": {
              "outlinewidth": 0,
              "ticks": ""
             }
            },
            "type": "parcoords"
           }
          ],
          "pie": [
           {
            "automargin": true,
            "type": "pie"
           }
          ],
          "scatter": [
           {
            "fillpattern": {
             "fillmode": "overlay",
             "size": 10,
             "solidity": 0.2
            },
            "type": "scatter"
           }
          ],
          "scatter3d": [
           {
            "line": {
             "colorbar": {
              "outlinewidth": 0,
              "ticks": ""
             }
            },
            "marker": {
             "colorbar": {
              "outlinewidth": 0,
              "ticks": ""
             }
            },
            "type": "scatter3d"
           }
          ],
          "scattercarpet": [
           {
            "marker": {
             "colorbar": {
              "outlinewidth": 0,
              "ticks": ""
             }
            },
            "type": "scattercarpet"
           }
          ],
          "scattergeo": [
           {
            "marker": {
             "colorbar": {
              "outlinewidth": 0,
              "ticks": ""
             }
            },
            "type": "scattergeo"
           }
          ],
          "scattergl": [
           {
            "marker": {
             "colorbar": {
              "outlinewidth": 0,
              "ticks": ""
             }
            },
            "type": "scattergl"
           }
          ],
          "scattermap": [
           {
            "marker": {
             "colorbar": {
              "outlinewidth": 0,
              "ticks": ""
             }
            },
            "type": "scattermap"
           }
          ],
          "scattermapbox": [
           {
            "marker": {
             "colorbar": {
              "outlinewidth": 0,
              "ticks": ""
             }
            },
            "type": "scattermapbox"
           }
          ],
          "scatterpolar": [
           {
            "marker": {
             "colorbar": {
              "outlinewidth": 0,
              "ticks": ""
             }
            },
            "type": "scatterpolar"
           }
          ],
          "scatterpolargl": [
           {
            "marker": {
             "colorbar": {
              "outlinewidth": 0,
              "ticks": ""
             }
            },
            "type": "scatterpolargl"
           }
          ],
          "scatterternary": [
           {
            "marker": {
             "colorbar": {
              "outlinewidth": 0,
              "ticks": ""
             }
            },
            "type": "scatterternary"
           }
          ],
          "surface": [
           {
            "colorbar": {
             "outlinewidth": 0,
             "ticks": ""
            },
            "colorscale": [
             [
              0,
              "#0d0887"
             ],
             [
              0.1111111111111111,
              "#46039f"
             ],
             [
              0.2222222222222222,
              "#7201a8"
             ],
             [
              0.3333333333333333,
              "#9c179e"
             ],
             [
              0.4444444444444444,
              "#bd3786"
             ],
             [
              0.5555555555555556,
              "#d8576b"
             ],
             [
              0.6666666666666666,
              "#ed7953"
             ],
             [
              0.7777777777777778,
              "#fb9f3a"
             ],
             [
              0.8888888888888888,
              "#fdca26"
             ],
             [
              1,
              "#f0f921"
             ]
            ],
            "type": "surface"
           }
          ],
          "table": [
           {
            "cells": {
             "fill": {
              "color": "#EBF0F8"
             },
             "line": {
              "color": "white"
             }
            },
            "header": {
             "fill": {
              "color": "#C8D4E3"
             },
             "line": {
              "color": "white"
             }
            },
            "type": "table"
           }
          ]
         },
         "layout": {
          "annotationdefaults": {
           "arrowcolor": "#2a3f5f",
           "arrowhead": 0,
           "arrowwidth": 1
          },
          "autotypenumbers": "strict",
          "coloraxis": {
           "colorbar": {
            "outlinewidth": 0,
            "ticks": ""
           }
          },
          "colorscale": {
           "diverging": [
            [
             0,
             "#8e0152"
            ],
            [
             0.1,
             "#c51b7d"
            ],
            [
             0.2,
             "#de77ae"
            ],
            [
             0.3,
             "#f1b6da"
            ],
            [
             0.4,
             "#fde0ef"
            ],
            [
             0.5,
             "#f7f7f7"
            ],
            [
             0.6,
             "#e6f5d0"
            ],
            [
             0.7,
             "#b8e186"
            ],
            [
             0.8,
             "#7fbc41"
            ],
            [
             0.9,
             "#4d9221"
            ],
            [
             1,
             "#276419"
            ]
           ],
           "sequential": [
            [
             0,
             "#0d0887"
            ],
            [
             0.1111111111111111,
             "#46039f"
            ],
            [
             0.2222222222222222,
             "#7201a8"
            ],
            [
             0.3333333333333333,
             "#9c179e"
            ],
            [
             0.4444444444444444,
             "#bd3786"
            ],
            [
             0.5555555555555556,
             "#d8576b"
            ],
            [
             0.6666666666666666,
             "#ed7953"
            ],
            [
             0.7777777777777778,
             "#fb9f3a"
            ],
            [
             0.8888888888888888,
             "#fdca26"
            ],
            [
             1,
             "#f0f921"
            ]
           ],
           "sequentialminus": [
            [
             0,
             "#0d0887"
            ],
            [
             0.1111111111111111,
             "#46039f"
            ],
            [
             0.2222222222222222,
             "#7201a8"
            ],
            [
             0.3333333333333333,
             "#9c179e"
            ],
            [
             0.4444444444444444,
             "#bd3786"
            ],
            [
             0.5555555555555556,
             "#d8576b"
            ],
            [
             0.6666666666666666,
             "#ed7953"
            ],
            [
             0.7777777777777778,
             "#fb9f3a"
            ],
            [
             0.8888888888888888,
             "#fdca26"
            ],
            [
             1,
             "#f0f921"
            ]
           ]
          },
          "colorway": [
           "#636efa",
           "#EF553B",
           "#00cc96",
           "#ab63fa",
           "#FFA15A",
           "#19d3f3",
           "#FF6692",
           "#B6E880",
           "#FF97FF",
           "#FECB52"
          ],
          "font": {
           "color": "#2a3f5f"
          },
          "geo": {
           "bgcolor": "white",
           "lakecolor": "white",
           "landcolor": "#E5ECF6",
           "showlakes": true,
           "showland": true,
           "subunitcolor": "white"
          },
          "hoverlabel": {
           "align": "left"
          },
          "hovermode": "closest",
          "mapbox": {
           "style": "light"
          },
          "paper_bgcolor": "white",
          "plot_bgcolor": "#E5ECF6",
          "polar": {
           "angularaxis": {
            "gridcolor": "white",
            "linecolor": "white",
            "ticks": ""
           },
           "bgcolor": "#E5ECF6",
           "radialaxis": {
            "gridcolor": "white",
            "linecolor": "white",
            "ticks": ""
           }
          },
          "scene": {
           "xaxis": {
            "backgroundcolor": "#E5ECF6",
            "gridcolor": "white",
            "gridwidth": 2,
            "linecolor": "white",
            "showbackground": true,
            "ticks": "",
            "zerolinecolor": "white"
           },
           "yaxis": {
            "backgroundcolor": "#E5ECF6",
            "gridcolor": "white",
            "gridwidth": 2,
            "linecolor": "white",
            "showbackground": true,
            "ticks": "",
            "zerolinecolor": "white"
           },
           "zaxis": {
            "backgroundcolor": "#E5ECF6",
            "gridcolor": "white",
            "gridwidth": 2,
            "linecolor": "white",
            "showbackground": true,
            "ticks": "",
            "zerolinecolor": "white"
           }
          },
          "shapedefaults": {
           "line": {
            "color": "#2a3f5f"
           }
          },
          "ternary": {
           "aaxis": {
            "gridcolor": "white",
            "linecolor": "white",
            "ticks": ""
           },
           "baxis": {
            "gridcolor": "white",
            "linecolor": "white",
            "ticks": ""
           },
           "bgcolor": "#E5ECF6",
           "caxis": {
            "gridcolor": "white",
            "linecolor": "white",
            "ticks": ""
           }
          },
          "title": {
           "x": 0.05
          },
          "xaxis": {
           "automargin": true,
           "gridcolor": "white",
           "linecolor": "white",
           "ticks": "",
           "title": {
            "standoff": 15
           },
           "zerolinecolor": "white",
           "zerolinewidth": 2
          },
          "yaxis": {
           "automargin": true,
           "gridcolor": "white",
           "linecolor": "white",
           "ticks": "",
           "title": {
            "standoff": 15
           },
           "zerolinecolor": "white",
           "zerolinewidth": 2
          }
         }
        },
        "xaxis": {
         "autorange": true,
         "range": [
          1,
          60
         ],
         "title": {
          "text": "Chapter"
         },
         "type": "linear"
        },
        "yaxis": {
         "autorange": true,
         "range": [
          -35.22222222222222,
          669.2222222222222
         ],
         "title": {},
         "type": "linear"
        }
       }
      },
      "image/png": "[encoded data removed]"
     },
     "metadata": {},
     "output_type": "display_data"
    }
   ],
   "source": [
    "Table.interactive_plots()\n",
    "cumulative_table.plot(column_for_xticks=0)\n",
    "Table.static_plots()"
   ]
  },
  {
   "cell_type": "code",
   "execution_count": 28,
   "id": "c54170b7-3239-4652-b11c-3e744fe5dc15",
   "metadata": {},
   "outputs": [],
   "source": [
    "length_a = Table().with_columns([\n",
    "        'Length', [len(s) for s in alice_in_wonderland_chapters],\n",
    "        'Periods', np.char.count(alice_in_wonderland_chapters, '.')\n",
    "    ])\n",
    "length_p = Table().with_columns([\n",
    "        'Length', [len(s) for s in pride_and_prejudice_chapters],\n",
    "        'Periods', np.char.count(pride_and_prejudice_chapters, '.')\n",
    "    ])"
   ]
  },
  {
   "cell_type": "code",
   "execution_count": 29,
   "id": "483d335c-ee4d-4269-bbf8-585458558fc8",
   "metadata": {},
   "outputs": [
    {
     "data": {
      "text/html": [
       "<table border=\"1\" class=\"dataframe\">\n",
       "    <thead>\n",
       "        <tr>\n",
       "            <th>Length</th> <th>Periods</th>\n",
       "        </tr>\n",
       "    </thead>\n",
       "    <tbody>\n",
       "        <tr>\n",
       "            <td>11335 </td> <td>44     </td>\n",
       "        </tr>\n",
       "        <tr>\n",
       "            <td>10893 </td> <td>46     </td>\n",
       "        </tr>\n",
       "        <tr>\n",
       "            <td>9143  </td> <td>63     </td>\n",
       "        </tr>\n",
       "        <tr>\n",
       "            <td>13835 </td> <td>57     </td>\n",
       "        </tr>\n",
       "        <tr>\n",
       "            <td>11771 </td> <td>74     </td>\n",
       "        </tr>\n",
       "        <tr>\n",
       "            <td>13735 </td> <td>111    </td>\n",
       "        </tr>\n",
       "        <tr>\n",
       "            <td>12569 </td> <td>121    </td>\n",
       "        </tr>\n",
       "        <tr>\n",
       "            <td>13592 </td> <td>86     </td>\n",
       "        </tr>\n",
       "        <tr>\n",
       "            <td>12532 </td> <td>114    </td>\n",
       "        </tr>\n",
       "        <tr>\n",
       "            <td>11291 </td> <td>92     </td>\n",
       "        </tr>\n",
       "    </tbody>\n",
       "</table>\n",
       "<p>... (2 rows omitted)</p>"
      ],
      "text/plain": [
       "Length | Periods\n",
       "11335  | 44\n",
       "10893  | 46\n",
       "9143   | 63\n",
       "13835  | 57\n",
       "11771  | 74\n",
       "13735  | 111\n",
       "12569  | 121\n",
       "13592  | 86\n",
       "12532  | 114\n",
       "11291  | 92\n",
       "... (2 rows omitted)"
      ]
     },
     "execution_count": 29,
     "metadata": {},
     "output_type": "execute_result"
    }
   ],
   "source": [
    "length_a"
   ]
  },
  {
   "cell_type": "code",
   "execution_count": 30,
   "id": "aaf51b86-0e29-4dcc-9dec-ff6a5132192e",
   "metadata": {},
   "outputs": [
    {
     "data": {
      "text/html": [
       "<table border=\"1\" class=\"dataframe\">\n",
       "    <thead>\n",
       "        <tr>\n",
       "            <th>Length</th> <th>Periods</th>\n",
       "        </tr>\n",
       "    </thead>\n",
       "    <tbody>\n",
       "        <tr>\n",
       "            <td>4459  </td> <td>59     </td>\n",
       "        </tr>\n",
       "        <tr>\n",
       "            <td>4287  </td> <td>63     </td>\n",
       "        </tr>\n",
       "        <tr>\n",
       "            <td>9551  </td> <td>106    </td>\n",
       "        </tr>\n",
       "        <tr>\n",
       "            <td>5925  </td> <td>53     </td>\n",
       "        </tr>\n",
       "        <tr>\n",
       "            <td>5255  </td> <td>61     </td>\n",
       "        </tr>\n",
       "        <tr>\n",
       "            <td>12981 </td> <td>112    </td>\n",
       "        </tr>\n",
       "        <tr>\n",
       "            <td>11153 </td> <td>109    </td>\n",
       "        </tr>\n",
       "        <tr>\n",
       "            <td>10958 </td> <td>105    </td>\n",
       "        </tr>\n",
       "        <tr>\n",
       "            <td>9739  </td> <td>117    </td>\n",
       "        </tr>\n",
       "        <tr>\n",
       "            <td>12441 </td> <td>126    </td>\n",
       "        </tr>\n",
       "    </tbody>\n",
       "</table>\n",
       "<p>... (50 rows omitted)</p>"
      ],
      "text/plain": [
       "Length | Periods\n",
       "4459   | 59\n",
       "4287   | 63\n",
       "9551   | 106\n",
       "5925   | 53\n",
       "5255   | 61\n",
       "12981  | 112\n",
       "11153  | 109\n",
       "10958  | 105\n",
       "9739   | 117\n",
       "12441  | 126\n",
       "... (50 rows omitted)"
      ]
     },
     "execution_count": 30,
     "metadata": {},
     "output_type": "execute_result"
    }
   ],
   "source": [
    "length_p"
   ]
  },
  {
   "cell_type": "code",
   "execution_count": 31,
   "id": "194dc086-6055-4ac1-bf56-f5559e7213ee",
   "metadata": {},
   "outputs": [
    {
     "data": {
      "image/png": "[encoded data removed]",
      "text/plain": [
       "<Figure size 600x600 with 1 Axes>"
      ]
     },
     "metadata": {},
     "output_type": "display_data"
    }
   ],
   "source": [
    "plt.figure(figsize=(6,6))\n",
    "plt.scatter(length_a.column(1), length_a.column(0), color='darkblue')\n",
    "plt.scatter(length_p.column(1), length_p.column(0), color='gold')\n",
    "plt.legend(['Alice in Wonderland', 'Pride and Prejudice'])\n",
    "plt.xlabel('Number of periods in chapter')\n",
    "plt.ylabel('Number of characters in chapter');"
   ]
  },
  {
   "cell_type": "code",
   "execution_count": null,
   "id": "b31e5dfd-1b57-4174-9dec-2f8df4391357",
   "metadata": {},
   "outputs": [],
   "source": [
    "# Twitter's original character limit was 140\n",
    "# Character limit of SMS messages is 160"
   ]
  }
 ],
 "metadata": {
  "kernelspec": {
   "display_name": "Python 3 (ipykernel)",
   "language": "python",
   "name": "python3"
  },
  "language_info": {
   "codemirror_mode": {
    "name": "ipython",
    "version": 3
   },
   "file_extension": ".py",
   "mimetype": "text/x-python",
   "name": "python",
   "nbconvert_exporter": "python",
   "pygments_lexer": "ipython3",
   "version": "3.12.5"
  }
 },
 "nbformat": 4,
 "nbformat_minor": 5
}
